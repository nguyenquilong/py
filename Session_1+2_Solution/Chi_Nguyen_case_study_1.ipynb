{
 "cells": [
  {
   "cell_type": "code",
   "execution_count": 11,
   "metadata": {},
   "outputs": [
    {
     "name": "stdout",
     "output_type": "stream",
     "text": [
      "4760.875\n",
      "9\n"
     ]
    }
   ],
   "source": [
    "# 1. Gia can nha du an 1\n",
    "d = float(10.33)\n",
    "r = float(5.2674)\n",
    "S = d * r \n",
    "\n",
    "price = round(S, 2) * 87.5 #(trieu dong)\n",
    "print (price)\n",
    "\n",
    "#2. Thoi gian hoan von\n",
    "income = 45 # (trieu dong/thang)\n",
    "\n",
    "time = price / income #(thang)\n",
    "time = int(time / 12) + 1 #(nam)\n",
    "\n",
    "print (time)"
   ]
  },
  {
   "cell_type": "code",
   "execution_count": 14,
   "metadata": {},
   "outputs": [
    {
     "name": "stdout",
     "output_type": "stream",
     "text": [
      "Thu nhap hang thang can nha 1 lon hon 1.54 lan thu nhap hang thang can nha 2\n"
     ]
    }
   ],
   "source": [
    "#3. Gia can nha du an 2\n",
    "income2 = 30 # (trieu dong)\n",
    "time2 = 12 * 12 # (thang)\n",
    "price2 = income2 * time2\n",
    "\n",
    "#4. So sanh thu nhap 2 du an\n",
    "s2 = 50 # (m2)\n",
    "time3 = 12 * 12 # (thang)\n",
    "\n",
    "price1_new = s2 * 87.5\n",
    "price2_new = s2 * 56.7\n",
    "\n",
    "income1_new = price1_new / time3\n",
    "income2_new = price2_new / time3\n",
    "\n",
    "ratio = round(income1_new / income2_new, 2)\n",
    "if ratio > 1.5 :\n",
    "    print ('Thu nhap hang thang can nha 1 lon hon', ratio, 'lan thu nhap hang thang can nha 2')\n"
   ]
  },
  {
   "cell_type": "code",
   "execution_count": 17,
   "metadata": {},
   "outputs": [
    {
     "name": "stdout",
     "output_type": "stream",
     "text": [
      "36.8\n",
      "{'mattien': 93, 'hem': 56.7, 'canho': 31, 'datnen': 36.8}\n"
     ]
    }
   ],
   "source": [
    "#5. Tao dict9 ten loai nha + gia\n",
    "dict9 = {\"mattien\": 87.5, 'hem': 56.7, 'canho': 31, 'datnen': 36.8 }\n",
    "\n",
    "#6. In gia dat nen\n",
    "print (dict9['datnen'])\n",
    "\n",
    "#7. Gia mat tien thay doi sau 7 nam\n",
    "dict9['mattien'] = dict9['canho'] * 3\n",
    "\n",
    "#8. In toan bo dict9\n",
    "print (dict9)\n"
   ]
  }
 ],
 "metadata": {
  "kernelspec": {
   "display_name": "Python 3",
   "language": "python",
   "name": "python3"
  },
  "language_info": {
   "codemirror_mode": {
    "name": "ipython",
    "version": 3
   },
   "file_extension": ".py",
   "mimetype": "text/x-python",
   "name": "python",
   "nbconvert_exporter": "python",
   "pygments_lexer": "ipython3",
   "version": "3.6.10"
  }
 },
 "nbformat": 4,
 "nbformat_minor": 4
}
