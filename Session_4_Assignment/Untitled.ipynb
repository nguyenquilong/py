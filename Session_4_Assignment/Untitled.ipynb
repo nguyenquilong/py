{
 "cells": [
  {
   "cell_type": "code",
   "execution_count": 46,
   "metadata": {},
   "outputs": [
    {
     "name": "stdout",
     "output_type": "stream",
     "text": [
      "['d', 'b', 'c', ' ', 'd', 'e', 'b', ' ', 'a', 'b', 'e', 'd', ' ', 'g', 'a', 'd', 'e']\n",
      "d    4\n",
      "e    3\n",
      "b    3\n",
      "     3\n",
      "a    2\n",
      "c    1\n",
      "g    1\n",
      "dtype: int64\n"
     ]
    },
    {
     "data": {
      "text/plain": [
       "'g'"
      ]
     },
     "execution_count": 46,
     "metadata": {},
     "output_type": "execute_result"
    }
   ],
   "source": [
    "# import numpy as np\n",
    "import pandas as pd\n",
    "my_str = 'dbc deb abed gade'\n",
    "x = list(my_str)\n",
    "print(x)\n",
    "rrr = pd.Series(x)\n",
    "rrr\n",
    "\n",
    "index = pd.Index(x)\n",
    "y = index.value_counts()\n",
    "print(y)\n",
    "xxx = y.index[-1]\n",
    "xxx"
   ]
  },
  {
   "cell_type": "code",
   "execution_count": 47,
   "metadata": {},
   "outputs": [
    {
     "data": {
      "text/plain": [
       "d    4\n",
       "e    3\n",
       "b    3\n",
       "     3\n",
       "a    2\n",
       "c    1\n",
       "g    1\n",
       "dtype: int64"
      ]
     },
     "execution_count": 47,
     "metadata": {},
     "output_type": "execute_result"
    }
   ],
   "source": [
    "s = pd.Series(list(my_str))\n",
    "#s = pd.Index([2, 2, 5, 3, 4,1,2,4,4,6,7,np.nan])\n",
    "s.value_counts()\n",
    "#s.value_counts()"
   ]
  },
  {
   "cell_type": "code",
   "execution_count": 131,
   "metadata": {},
   "outputs": [
    {
     "name": "stdout",
     "output_type": "stream",
     "text": [
      "    a   b   c\n",
      "0  23  28  28\n",
      "1  22  23  12\n",
      "2  16  14   7\n",
      "3   7   1  28\n",
      "4  16  25  20\n",
      "5  28  29  15\n",
      "6  17   6   4\n",
      "7  18  23  14\n",
      "8   1   3  16\n",
      "9  24  23  21\n",
      "0    23\n",
      "1    22\n",
      "2    16\n",
      "3     7\n",
      "4    16\n",
      "5    28\n",
      "6    17\n",
      "7    18\n",
      "8     1\n",
      "9    24\n",
      "Name: a, dtype: int32\n",
      "[28 24 23 22 18 17 16 16  7  1]\n",
      "18\n"
     ]
    },
    {
     "data": {
      "text/plain": [
       "(array([7], dtype=int64),)"
      ]
     },
     "execution_count": 131,
     "metadata": {},
     "output_type": "execute_result"
    }
   ],
   "source": [
    "import numpy as np\n",
    "df = pd.DataFrame(np.random.randint(1, 30, 30).reshape(10,-1), columns=list('abc'))\n",
    "print(df)\n",
    "print(df.a)\n",
    "l = list(df.a)\n",
    "x = np.array(l)\n",
    "y = np.sort(x, axis=-1)[::-1]\n",
    "print(y)\n",
    "print(y[4])\n",
    "result = np.where(df.a == y[4])\n",
    "result\n"
   ]
  },
  {
   "cell_type": "code",
   "execution_count": 287,
   "metadata": {},
   "outputs": [
    {
     "name": "stdout",
     "output_type": "stream",
     "text": [
      "     0   1   2   3\n",
      "0   17  37  35  34\n",
      "1   26  36  29  30\n",
      "2   12  31  21  36\n",
      "3   18  15  27  18\n",
      "4   36  24  11  27\n",
      "5   27  31  32  30\n",
      "6   21  16  27  12\n",
      "7   28  24  31  26\n",
      "8   12  38  18  36\n",
      "9   11  32  38  20\n",
      "10  22  31  21  15\n",
      "11  20  31  35  23\n",
      "12  19  33  25  10\n",
      "13  13  36  15  28\n",
      "14  23  33  16  26\n",
      "0     123\n",
      "1     121\n",
      "2     100\n",
      "3      78\n",
      "4      98\n",
      "5     120\n",
      "6      76\n",
      "7     109\n",
      "8     104\n",
      "9     101\n",
      "10     89\n",
      "11    109\n",
      "12     87\n",
      "13     92\n",
      "14     98\n",
      "dtype: int64\n",
      "(array([ 0,  1,  5,  7,  8,  9, 11], dtype=int64),)\n",
      "11\n",
      "9\n",
      "0    20\n",
      "1    31\n",
      "2    35\n",
      "3    23\n",
      "Name: 11, dtype: int32\n",
      "0    11\n",
      "1    32\n",
      "2    38\n",
      "3    20\n",
      "Name: 9, dtype: int32\n"
     ]
    },
    {
     "data": {
      "text/plain": [
       "array([11, 32, 38, 20])"
      ]
     },
     "execution_count": 287,
     "metadata": {},
     "output_type": "execute_result"
    }
   ],
   "source": [
    "df = pd.DataFrame(np.random.randint(10, 40, 60).reshape(-1, 4))\n",
    "print(df)\n",
    "rowsums = df.apply(np.sum, axis=1)\n",
    "print(rowsums)\n",
    "x = np.where(rowsums > 100)\n",
    "print(x)\n",
    "y = np.array(x)\n",
    "print(y[0][-1])\n",
    "print(y[0][-2])\n",
    "print(df.iloc[y[0][-1]])\n",
    "print(df.iloc[y[0][-2]])\n",
    "np.array(df.iloc[y[0][-1]]) \n",
    "np.array(df.iloc[y[0][-2]])\n"
   ]
  },
  {
   "cell_type": "code",
   "execution_count": 289,
   "metadata": {},
   "outputs": [
    {
     "name": "stdout",
     "output_type": "stream",
     "text": [
      "    0   1   2   3   4\n",
      "0   0   1   2   3   4\n",
      "1   5   6   7   8   9\n",
      "2  10  11  12  13  14\n",
      "3  15  16  17  18  19\n",
      "4  20  21  22  23  24\n",
      "    0   1   2   3   4\n",
      "0   5   6   7   8   9\n",
      "1   0   1   2   3   4\n",
      "2  10  11  12  13  14\n",
      "3  15  16  17  18  19\n",
      "4  20  21  22  23  24\n"
     ]
    }
   ],
   "source": [
    "df = pd.DataFrame(np.arange(25).reshape(5, -1))\n",
    "print(df)\n",
    "\n",
    "# Nhập code của Anh/Chị bên dưới đây:\n",
    "def swap_rows(df, i1, i2):\n",
    "    a, b = df.iloc[i1].copy(), df.iloc[i2].copy()\n",
    "    df.iloc[i1, :], df.iloc[i2, :] = b, a\n",
    "    return df\n",
    "\n",
    "print(swap_rows(df, 0, 1))\n"
   ]
  },
  {
   "cell_type": "code",
   "execution_count": 322,
   "metadata": {},
   "outputs": [
    {
     "name": "stdout",
     "output_type": "stream",
     "text": [
      "    0   1   2   3   4\n",
      "0   0   1   2   3   4\n",
      "1   5   6   7   8   9\n",
      "2  10  11  12  13  14\n",
      "3  15  16  17  18  19\n",
      "4  20  21  22  23  24\n",
      "    0   1   2   3   4\n",
      "4  20  21  22  23  24\n",
      "3  15  16  17  18  19\n",
      "2  10  11  12  13  14\n",
      "1   5   6   7   8   9\n",
      "0   0   1   2   3   4\n",
      "RangeIndex(start=0, stop=5, step=1)\n",
      "RangeIndex(start=4, stop=-1, step=-1)\n"
     ]
    },
    {
     "data": {
      "text/html": [
       "<div>\n",
       "<style scoped>\n",
       "    .dataframe tbody tr th:only-of-type {\n",
       "        vertical-align: middle;\n",
       "    }\n",
       "\n",
       "    .dataframe tbody tr th {\n",
       "        vertical-align: top;\n",
       "    }\n",
       "\n",
       "    .dataframe thead th {\n",
       "        text-align: right;\n",
       "    }\n",
       "</style>\n",
       "<table border=\"1\" class=\"dataframe\">\n",
       "  <thead>\n",
       "    <tr style=\"text-align: right;\">\n",
       "      <th></th>\n",
       "      <th>0</th>\n",
       "      <th>1</th>\n",
       "      <th>2</th>\n",
       "      <th>3</th>\n",
       "      <th>4</th>\n",
       "    </tr>\n",
       "  </thead>\n",
       "  <tbody>\n",
       "    <tr>\n",
       "      <th>4</th>\n",
       "      <td>20</td>\n",
       "      <td>21</td>\n",
       "      <td>22</td>\n",
       "      <td>23</td>\n",
       "      <td>24</td>\n",
       "    </tr>\n",
       "    <tr>\n",
       "      <th>3</th>\n",
       "      <td>15</td>\n",
       "      <td>16</td>\n",
       "      <td>17</td>\n",
       "      <td>18</td>\n",
       "      <td>19</td>\n",
       "    </tr>\n",
       "    <tr>\n",
       "      <th>2</th>\n",
       "      <td>10</td>\n",
       "      <td>11</td>\n",
       "      <td>12</td>\n",
       "      <td>13</td>\n",
       "      <td>14</td>\n",
       "    </tr>\n",
       "    <tr>\n",
       "      <th>1</th>\n",
       "      <td>5</td>\n",
       "      <td>6</td>\n",
       "      <td>7</td>\n",
       "      <td>8</td>\n",
       "      <td>9</td>\n",
       "    </tr>\n",
       "    <tr>\n",
       "      <th>0</th>\n",
       "      <td>0</td>\n",
       "      <td>1</td>\n",
       "      <td>2</td>\n",
       "      <td>3</td>\n",
       "      <td>4</td>\n",
       "    </tr>\n",
       "  </tbody>\n",
       "</table>\n",
       "</div>"
      ],
      "text/plain": [
       "    0   1   2   3   4\n",
       "4  20  21  22  23  24\n",
       "3  15  16  17  18  19\n",
       "2  10  11  12  13  14\n",
       "1   5   6   7   8   9\n",
       "0   0   1   2   3   4"
      ]
     },
     "execution_count": 322,
     "metadata": {},
     "output_type": "execute_result"
    }
   ],
   "source": [
    "df = pd.DataFrame(np.arange(25).reshape(5, -1))\n",
    "print(df)\n",
    "print(df.iloc[::-1])\n",
    "print(df.index[::1])\n",
    "print(df.index[::-1])\n",
    "df.reindex(index=df.index[::-1] )\n",
    "\n"
   ]
  }
 ],
 "metadata": {
  "kernelspec": {
   "display_name": "Python 3",
   "language": "python",
   "name": "python3"
  },
  "language_info": {
   "codemirror_mode": {
    "name": "ipython",
    "version": 3
   },
   "file_extension": ".py",
   "mimetype": "text/x-python",
   "name": "python",
   "nbconvert_exporter": "python",
   "pygments_lexer": "ipython3",
   "version": "3.7.7"
  }
 },
 "nbformat": 4,
 "nbformat_minor": 4
}
