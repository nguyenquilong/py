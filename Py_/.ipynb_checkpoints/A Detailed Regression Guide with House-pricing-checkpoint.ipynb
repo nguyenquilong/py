{
 "cells": [
  {
   "cell_type": "markdown",
   "metadata": {
    "_cell_guid": "b2cbf79a-b100-4bca-9141-0386f27503d6",
    "_uuid": "5d654f85-5edc-4346-9c64-a74aefd9652b"
   },
   "source": [
    "![image](https://www.livetradingnews.com/wp-content/uploads/2017/01/home-sales-701x526.jpg)\n",
    "<div style=\"text-align: center\" > A Statistical Analysis & Machine Learning Workflow of House-Pricing </div>\n",
    "\n",
    "<div style=\"text-align: center\"> Being a part of Kaggle gives me unlimited access to learn, share and grow as a Data Scientist. In this kernel, I want to solve <font color=\"red\"><b>House Pricing with Advanced Regression Analysis</b></font>, a popular machine learning dataset for <b>beginners</b>. I am going to share how I work with a dataset step by step  <b>from data preparation and data analysis to statistical tests and implementing machine learning models.</b> I will also describe the model results along with many other tips. Let's get started.</div>\n",
    "\n",
    "<div style=\"text-align:center\"> If there are any recommendations/changes you would like to see in this notebook, please <b>leave a comment</b> at the end of this kernel. Any feedback/constructive criticism would be genuinely appreciated. If you like this notebook or find this notebook helpful, Please feel free to <font color=\"red\"><b>UPVOTE</b></font> and/or leave a comment.\n",
    " \n",
    "<div> <b>This notebook is always a work in progress. So, please stay tuned for more to come.</b></div>"
   ]
  },
  {
   "cell_type": "markdown",
   "metadata": {
    "_cell_guid": "ceecb894-96f2-4208-b7a1-2383b8e9ac9d",
    "_uuid": "dbb42ffc-c5e0-45bf-9d32-fb17433756ff"
   },
   "source": [
    "# Goals\n",
    "This kernel hopes to accomplish many goals, to name a few...\n",
    "* Learn/review/explain complex data science topics through write-ups. \n",
    "* Do a comprehensive data analysis along with visualizations. \n",
    "* Create models that are well equipped to predict better sale price of the houses. \n",
    "\n",
    "# Introduction\n",
    "This kernel is the \"regression siblings\" of my other [ Classification kernel](https://www.kaggle.com/masumrumi/a-statistical-analysis-ml-workflow-of-titanic). As the name suggests, this kernel goes on a detailed analysis journey of most of the regression algorithms.  In addition to that, this kernel uses many charts and images to make things easier for readers to understand.\n",
    "# 1: Importing Necessary Libraries and datasets"
   ]
  },
  {
   "cell_type": "code",
   "execution_count": null,
   "metadata": {
    "_cell_guid": "65d8108d-0e85-46f7-89f1-03c5b17759b1",
    "_kg_hide-input": true,
    "_uuid": "14ac2156-60b9-4e98-9423-9b428f7dbc3c"
   },
   "outputs": [],
   "source": [
    "# This Python 3 environment comes with many helpful analytics libraries installed\n",
    "# It is defined by the kaggle/python docker image: https://github.com/kaggle/docker-python\n",
    "# For example, here's several helpful packages to load in \n",
    "\n",
    "import numpy as np # linear algebra\n",
    "import pandas as pd # data processing, CSV file I/O (e.g. pd.read_csv)\n",
    "\n",
    "# Input data files are available in the \"../input/\" directory.\n",
    "# For example, running this (by clicking run or pressing Shift+Enter) will list the files in the input directory\n",
    "import matplotlib.gridspec as gridspec\n",
    "from datetime import datetime\n",
    "from scipy.stats import skew  # for some statistics\n",
    "from scipy.special import boxcox1p\n",
    "from scipy.stats import boxcox_normmax\n",
    "from sklearn.linear_model import ElasticNetCV, LassoCV, RidgeCV\n",
    "from sklearn.ensemble import GradientBoostingRegressor\n",
    "from sklearn.svm import SVR\n",
    "from sklearn.pipeline import make_pipeline\n",
    "from sklearn.preprocessing import RobustScaler\n",
    "from sklearn.model_selection import KFold, cross_val_score\n",
    "from sklearn.metrics import mean_squared_error\n",
    "from mlxtend.regressor import StackingCVRegressor\n",
    "from xgboost import XGBRegressor\n",
    "from lightgbm import LGBMRegressor\n",
    "import matplotlib.pyplot as plt\n",
    "import scipy.stats as stats\n",
    "import sklearn.linear_model as linear_model\n",
    "import matplotlib.style as style\n",
    "import seaborn as sns\n",
    "from sklearn.manifold import TSNE\n",
    "from sklearn.cluster import KMeans\n",
    "from sklearn.decomposition import PCA\n",
    "from sklearn.preprocessing import StandardScaler\n",
    "\n",
    "import os\n",
    "print(os.listdir(\"../input\"))\n",
    "\n",
    "import warnings\n",
    "warnings.filterwarnings('ignore')\n",
    "\n",
    "# Any results you write to the current directory are saved as output."
   ]
  },
  {
   "cell_type": "markdown",
   "metadata": {
    "_cell_guid": "f4ed3d7b-d178-490f-873b-6529477ca5b1",
    "_uuid": "6aa76191-8742-4be2-a02f-6a64ae3dab29"
   },
   "source": [
    "# A Glimpse of the datasets.\n",
    "> **Sample Train Dataset**"
   ]
  },
  {
   "cell_type": "code",
   "execution_count": null,
   "metadata": {
    "_cell_guid": "fffa6add-e9e7-4e9a-9323-7d25e676f3ce",
    "_kg_hide-input": true,
    "_kg_hide-output": false,
    "_uuid": "8bce0dd4-7e12-4545-b790-5d319a239412"
   },
   "outputs": [],
   "source": [
    "## Import Trainning data. \n",
    "train = pd.read_csv(\"../input/house-prices-advanced-regression-techniques/train.csv\")\n",
    "train.head()"
   ]
  },
  {
   "cell_type": "markdown",
   "metadata": {
    "_cell_guid": "3240366b-203e-431e-b1fe-370255de2859",
    "_uuid": "8fe6e7c6-d20a-4c17-bd41-9d3c25239b71"
   },
   "source": [
    "> ** Sample Test Dataset**"
   ]
  },
  {
   "cell_type": "code",
   "execution_count": null,
   "metadata": {
    "_cell_guid": "e37de61e-42aa-4966-8332-9854c35aead6",
    "_kg_hide-input": true,
    "_kg_hide-output": false,
    "_uuid": "85ff6d11-4ccd-42b8-b39a-84fa374ee8a6"
   },
   "outputs": [],
   "source": [
    "## Import test data.\n",
    "test = pd.read_csv(\"../input/house-prices-advanced-regression-techniques/test.csv\")\n",
    "test.head()"
   ]
  },
  {
   "cell_type": "markdown",
   "metadata": {
    "_cell_guid": "ed598341-4a28-4971-bb3a-cc8bdffa06f0",
    "_uuid": "6eb72da0-da8a-45d3-be95-7accd87a5a89"
   },
   "source": [
    "# Describe the Datasets"
   ]
  },
  {
   "cell_type": "code",
   "execution_count": null,
   "metadata": {
    "_cell_guid": "6b9a990b-648b-4e81-a312-cc29ae7ff11a",
    "_kg_hide-input": true,
    "_uuid": "9df6eafa-024c-4b9b-b065-4cea0185017a",
    "scrolled": true
   },
   "outputs": [],
   "source": [
    "print (f\"Train has {train.shape[0]} rows and {train.shape[1]} columns\")\n",
    "print (f\"Test has {test.shape[0]} rows and {test.shape[1]} columns\")"
   ]
  },
  {
   "cell_type": "markdown",
   "metadata": {
    "_cell_guid": "c1095fc0-64d8-44ca-af5b-4cd710af085a",
    "_uuid": "b054dbed-0b91-44e3-ab2f-5882f9958fd3"
   },
   "source": [
    "If you want to know more about why we are splitting dataset's into train and test, please check out this [kernel](https://www.kaggle.com/masumrumi/a-statistical-analysis-ml-workflow-of-titanic)."
   ]
  },
  {
   "cell_type": "code",
   "execution_count": null,
   "metadata": {
    "_cell_guid": "cbc23ba7-29e1-4f93-bb70-7a0eeb051f3b",
    "_kg_hide-input": true,
    "_kg_hide-output": true,
    "_uuid": "9214537f-91da-4c0a-9f47-dd53650587de"
   },
   "outputs": [],
   "source": [
    "# gives us statistical info about the numerical variables. \n",
    "train.describe().T"
   ]
  },
  {
   "cell_type": "code",
   "execution_count": null,
   "metadata": {
    "_cell_guid": "98dd44da-454a-405e-aa49-9ae81e7da40b",
    "_kg_hide-input": true,
    "_kg_hide-output": true,
    "_uuid": "cec8da66-8480-4b5f-80ef-bce32f5f7130"
   },
   "outputs": [],
   "source": [
    "## Gives us information about the features. \n",
    "train.info()"
   ]
  },
  {
   "cell_type": "code",
   "execution_count": null,
   "metadata": {
    "_cell_guid": "eddb861e-96f2-4ebb-8de0-51e67571bdc2",
    "_kg_hide-input": true,
    "_kg_hide-output": false,
    "_uuid": "e625bab2-9dd6-4d4d-8889-e4e9223af0f9"
   },
   "outputs": [],
   "source": [
    "## Gives use the count of different types of objects.\n",
    "train.get_dtype_counts()"
   ]
  },
  {
   "cell_type": "markdown",
   "metadata": {
    "_cell_guid": "fe8bc30b-529b-4055-b35f-0903f474c17b",
    "_uuid": "1723b94c-14b6-4bf1-86e5-f26dc45e1a86"
   },
   "source": [
    "## Checking for Missing Values"
   ]
  },
  {
   "cell_type": "markdown",
   "metadata": {
    "_cell_guid": "19b89f78-0c9c-4cd3-9e80-c8d484b2f9dc",
    "_uuid": "cb1febb7-69df-481c-95af-dcf06e85e250"
   },
   "source": [
    "### Missing Train values"
   ]
  },
  {
   "cell_type": "code",
   "execution_count": null,
   "metadata": {
    "_cell_guid": "6ad3c174-65b0-4094-a239-566e109c02f9",
    "_kg_hide-input": true,
    "_uuid": "4f0f52cc-764e-420e-9737-b5cf6a2964b9"
   },
   "outputs": [],
   "source": [
    "def missing_percentage(df):\n",
    "    \"\"\"This function takes a DataFrame(df) as input and returns two columns, total missing values and total missing values percentage\"\"\"\n",
    "    ## the two following line may seem complicated but its actually very simple. \n",
    "    total = df.isnull().sum().sort_values(ascending = False)[df.isnull().sum().sort_values(ascending = False) != 0]\n",
    "    percent = round(df.isnull().sum().sort_values(ascending = False)/len(df)*100,2)[round(df.isnull().sum().sort_values(ascending = False)/len(df)*100,2) != 0]\n",
    "    return pd.concat([total, percent], axis=1, keys=['Total','Percent'])\n",
    "\n",
    "missing_percentage(train)"
   ]
  },
  {
   "cell_type": "markdown",
   "metadata": {},
   "source": [
    "### Missing Train values"
   ]
  },
  {
   "cell_type": "code",
   "execution_count": null,
   "metadata": {},
   "outputs": [],
   "source": [
    "missing_percentage(test)"
   ]
  },
  {
   "cell_type": "markdown",
   "metadata": {
    "_cell_guid": "9eef0002-26bb-41f9-bc18-07832d848410",
    "_uuid": "e908bc68-dec3-46b8-a021-7c03d5a08a7b"
   },
   "source": [
    "# Observation\n",
    "* There are multiple types of features. \n",
    "* Some features have missing values. \n",
    "* Most of the features are object( includes string values in the variable).\n",
    "\n",
    "I want to focus on the target variable which is **SalePrice.** Let's create a histogram to see if the target variable is Normally distributed. If we want to create any linear model, it is essential that the features are normally distributed. This is one of the assumptions of multiple linear regression. I will explain more on this later."
   ]
  },
  {
   "cell_type": "code",
   "execution_count": null,
   "metadata": {
    "_kg_hide-input": true
   },
   "outputs": [],
   "source": [
    "def plotting_3_chart(df, feature):\n",
    "    ## Importing seaborn, matplotlab and scipy modules. \n",
    "    import seaborn as sns\n",
    "    import matplotlib.pyplot as plt\n",
    "    import matplotlib.gridspec as gridspec\n",
    "    from scipy import stats\n",
    "    import matplotlib.style as style\n",
    "    style.use('fivethirtyeight')\n",
    "\n",
    "    ## Creating a customized chart. and giving in figsize and everything. \n",
    "    fig = plt.figure(constrained_layout=True, figsize=(15,10))\n",
    "    ## creating a grid of 3 cols and 3 rows. \n",
    "    grid = gridspec.GridSpec(ncols=3, nrows=3, figure=fig)\n",
    "    #gs = fig3.add_gridspec(3, 3)\n",
    "\n",
    "    ## Customizing the histogram grid. \n",
    "    ax1 = fig.add_subplot(grid[0, :2])\n",
    "    ## Set the title. \n",
    "    ax1.set_title('Histogram')\n",
    "    ## plot the histogram. \n",
    "    sns.distplot(df.loc[:,feature], norm_hist=True, ax = ax1)\n",
    "\n",
    "    # customizing the QQ_plot. \n",
    "    ax2 = fig.add_subplot(grid[1, :2])\n",
    "    ## Set the title. \n",
    "    ax2.set_title('QQ_plot')\n",
    "    ## Plotting the QQ_Plot. \n",
    "    stats.probplot(df.loc[:,feature], plot = ax2)\n",
    "\n",
    "    ## Customizing the Box Plot. \n",
    "    ax3 = fig.add_subplot(grid[:, 2])\n",
    "    ## Set title. \n",
    "    ax3.set_title('Box Plot')\n",
    "    ## Plotting the box plot. \n",
    "    sns.boxplot(df.loc[:,feature], orient='v', ax = ax3 );\n",
    "    \n",
    "plotting_3_chart(train, 'SalePrice')"
   ]
  },
  {
   "cell_type": "markdown",
   "metadata": {
    "_cell_guid": "67c66715-2ba3-4245-9759-1047606e4f12",
    "_uuid": "f1be8cbe-c8cc-4096-a38b-a81c939653f4"
   },
   "source": [
    "These **three** charts above can tell us a lot about our target variable.\n",
    "* Our target variable, **SalePrice** is not normally distributed.\n",
    "* Our target variable is right-skewed. \n",
    "* There are multiple outliers in the variable. \n",
    "\n",
    "\n",
    "**P.S.** \n",
    "* If you want to find out more about how to customize charts, try [this](https://matplotlib.org/tutorials/intermediate/gridspec.html#sphx-glr-tutorials-intermediate-gridspec-py) link. \n",
    "* If you are learning about Q-Q-plots for the first time. checkout [this](https://www.youtube.com/watch?v=smJBsZ4YQZw) video. \n",
    "* You can also check out [this](https://www.youtube.com/watch?v=9IcaQwQkE9I) one if you have some extra time. \n",
    "\n",
    "Let's find out how the sales price is distributed."
   ]
  },
  {
   "cell_type": "code",
   "execution_count": null,
   "metadata": {
    "_cell_guid": "dbf1c7a3-c1cf-4a59-b7be-08c65fa50fad",
    "_kg_hide-input": true,
    "_uuid": "6198f8cd-82de-49c5-a7c8-35b0bf5df409"
   },
   "outputs": [],
   "source": [
    "#skewness and kurtosis\n",
    "print(\"Skewness: \" + str(train['SalePrice'].skew()))\n",
    "print(\"Kurtosis: \" + str(train['SalePrice'].kurt()))"
   ]
  },
  {
   "cell_type": "markdown",
   "metadata": {
    "_cell_guid": "71602011-62bf-436f-b4a5-fe1ef34e2d97",
    "_uuid": "2f508e99-97b3-4522-9569-ab32b8d6c810"
   },
   "source": [
    "It looks like there are quite a bit Skewness and Kurtosis in the target variable. Let's talk about those a bit. \n",
    "\n",
    "<b>Skewness</b> \n",
    "* is the degree of distortion from the symmetrical bell curve or the normal curve. \n",
    "* So, a symmetrical distribution will have a skewness of \"0\". \n",
    "* There are two types of Skewness: <b>Positive and Negative.</b> \n",
    "* <b>Positive Skewness</b>(similar to our target variable distribution) means the tail on the right side of the distribution is longer and fatter. \n",
    "* In <b>positive Skewness </b> the mean and median will be greater than the mode. This is similar to this dataset. So, in Layman's terms, more houses were sold by less than the average price. \n",
    "* <b>Negative Skewness</b> means the tail on the left side of the distribution is longer and fatter.\n",
    "* In <b>negative Skewness </b> the mean and median will be less than the mode. \n",
    "* Skewness differentiates extreme values in one versus the other tail. \n",
    "\n",
    "Here is a picture to make more sense.  \n",
    "![image](https://cdn-images-1.medium.com/max/1600/1*nj-Ch3AUFmkd0JUSOW_bTQ.jpeg)\n",
    "\n",
    "\n",
    "<b>Kurtosis</b>\n",
    "According to Wikipedia, \n",
    "\n",
    "*In probability theory and statistics, **Kurtosis** is the measure of the \"tailedness\" of the probability. distribution of a real-valued random variable.* So, In other words it is the measure of the extreme values(outliers) present in the distribution. \n",
    "\n",
    "* There are three types of Kurtosis: <b>Mesokurtic, Leptokurtic and Platykurtic</b>. \n",
    "* Mesokurtic is similar to normal curve with the standard value of 3. This means that the extreme values of this distrubution is similar to that of a normal distribution. \n",
    "* Leptokurtic Example of leptokurtic distributions are the T-distributions with small degrees of freedom.\n",
    "* Platykurtic: Platykurtic describes a particular statistical distribution with thinner tails than a normal distribution. Because this distribution has thin tails, it has fewer outliers (e.g., extreme values three or more standard deviations from the mean) than do mesokurtic and leptokurtic distributions. \n",
    "\n",
    "![image](https://i2.wp.com/mvpprograms.com/help/images/KurtosisPict.jpg?resize=375%2C234)\n",
    "\n",
    "\n",
    "You can read more about this from [this](https://codeburst.io/2-important-statistics-terms-you-need-to-know-in-data-science-skewness-and-kurtosis-388fef94eeaa) article. \n",
    "\n",
    "We can fix this by using different types of transformation(more on this later). However, before doing that, I want to find out the relationships among the target variable and other predictor variables. Let's find out."
   ]
  },
  {
   "cell_type": "code",
   "execution_count": null,
   "metadata": {
    "_cell_guid": "b1aeb267-3868-470d-87bc-1d3d02832dd9",
    "_kg_hide-input": true,
    "_uuid": "02155550-8856-4aad-9f40-a757774a7ab2"
   },
   "outputs": [],
   "source": [
    "## Getting the correlation of all the features with target variable. \n",
    "(train.corr()**2)[\"SalePrice\"].sort_values(ascending = False)[1:]"
   ]
  },
  {
   "cell_type": "markdown",
   "metadata": {
    "_cell_guid": "b06bd2d5-6523-42b4-8db6-cac4df7e8ef2",
    "_uuid": "a5ead127-432f-4c17-8d90-8e1bad62f249"
   },
   "source": [
    "These are the predictor variables sorted in a descending order starting with the most correlated one **OverallQual**. Let's put this one in a scatter plot and see how it looks."
   ]
  },
  {
   "cell_type": "markdown",
   "metadata": {
    "_cell_guid": "dad900e1-1b35-4e37-9c4b-aa605db90430",
    "_uuid": "6303094e-aa22-4cb2-a34e-7c08e1043bad"
   },
   "source": [
    "### SalePrice vs OverallQual"
   ]
  },
  {
   "cell_type": "code",
   "execution_count": null,
   "metadata": {
    "_kg_hide-input": true
   },
   "outputs": [],
   "source": [
    "def customized_scatterplot(y, x):\n",
    "        ## Sizing the plot. \n",
    "    style.use('fivethirtyeight')\n",
    "    plt.subplots(figsize = (15,10))\n",
    "    ## Plotting target variable with predictor variable(OverallQual)\n",
    "    sns.scatterplot(y = y, x = x);"
   ]
  },
  {
   "cell_type": "code",
   "execution_count": null,
   "metadata": {
    "_kg_hide-input": true
   },
   "outputs": [],
   "source": [
    "customized_scatterplot(train.SalePrice, train.OverallQual)"
   ]
  },
  {
   "cell_type": "markdown",
   "metadata": {
    "_cell_guid": "2e5dae19-f6e8-4bef-b080-a1427fc7b1b9",
    "_uuid": "96a8e53a-5c18-4f38-a7f5-e2e0f3f31ebc"
   },
   "source": [
    "Clearly, **OverallQual** is a categorical variable and scatter plot is not the best way to visualize categorical variables. However, it looks like some of the houses are overpriced compared to their overall quality. These could be outliers. Let's check out some more features to determine the outliers. Let's focus on the numerical variables this time."
   ]
  },
  {
   "cell_type": "markdown",
   "metadata": {
    "_cell_guid": "5ba8e501-0e12-4cfe-b40f-8830232b5ff3",
    "_uuid": "be004cfe-4ca7-44b6-a960-45c32ff9e4d5"
   },
   "source": [
    "### SalePrice vs GrLivArea"
   ]
  },
  {
   "cell_type": "code",
   "execution_count": null,
   "metadata": {
    "_cell_guid": "aa5c2fcc-6cd2-4719-a5b0-f9f856731fc5",
    "_kg_hide-input": true,
    "_uuid": "e7fa9953-7b9c-447b-98bd-47e76c741954"
   },
   "outputs": [],
   "source": [
    "customized_scatterplot(train.SalePrice, train.GrLivArea)"
   ]
  },
  {
   "cell_type": "markdown",
   "metadata": {
    "_cell_guid": "2136bd32-dfc0-4003-bc43-d96a8bb86278",
    "_uuid": "1cc96334-adcd-4f8b-85f5-96c6e6089413"
   },
   "source": [
    "As you can see there are two outliers in the plot above. We will get rid off them later. Let's look at another scatter plot with a different feature.\n",
    "\n",
    "### SalePrice vs GarageArea"
   ]
  },
  {
   "cell_type": "code",
   "execution_count": null,
   "metadata": {
    "_cell_guid": "dd2ee1f9-86dd-4132-afee-eebf56582a60",
    "_kg_hide-input": true,
    "_uuid": "e0354c68-279b-4296-8a46-1739184b4d62"
   },
   "outputs": [],
   "source": [
    "customized_scatterplot(train.SalePrice, train.GarageArea);"
   ]
  },
  {
   "cell_type": "markdown",
   "metadata": {
    "_cell_guid": "0a28ed58-55f9-42a7-9d0f-d2d5198240dd",
    "_uuid": "b30a1bbb-6a8a-429b-872b-9f110025d33d"
   },
   "source": [
    "And the next one..?\n",
    "### SalePrice vs TotalBsmtSF"
   ]
  },
  {
   "cell_type": "code",
   "execution_count": null,
   "metadata": {
    "_cell_guid": "ab918ad4-77b1-49fb-9211-9e4406e67fa3",
    "_kg_hide-input": true,
    "_uuid": "6ff7678f-ac40-456f-b074-8baafd41c21a"
   },
   "outputs": [],
   "source": [
    "customized_scatterplot(train.SalePrice, train.TotalBsmtSF)"
   ]
  },
  {
   "cell_type": "markdown",
   "metadata": {
    "_cell_guid": "9c0e0694-d33e-4502-b73a-d35d50f7df80",
    "_uuid": "2ca678ef-1c15-4e83-89da-9c1c2b24c2a3"
   },
   "source": [
    "and the next ?\n",
    "### SalePrice vs 1stFlrSF"
   ]
  },
  {
   "cell_type": "code",
   "execution_count": null,
   "metadata": {
    "_cell_guid": "27a1ab1e-9741-4e24-b333-8d6354fcf142",
    "_kg_hide-input": true,
    "_uuid": "d754a68a-1397-4df5-91e7-2ae3e5d41a89",
    "scrolled": false
   },
   "outputs": [],
   "source": [
    "customized_scatterplot(train.SalePrice, train['1stFlrSF']);"
   ]
  },
  {
   "cell_type": "markdown",
   "metadata": {
    "_cell_guid": "43a0ba77-f378-471b-b318-64c18490643b",
    "_uuid": "3f7a6117-2234-4db0-b7e8-8c1f42079c68"
   },
   "source": [
    "How about one more..."
   ]
  },
  {
   "cell_type": "code",
   "execution_count": null,
   "metadata": {
    "_cell_guid": "b8b4d94e-5997-4c72-9273-c66368998c02",
    "_kg_hide-input": true,
    "_uuid": "b41cb772-0f93-4ef1-84bd-cb2890bce0fd"
   },
   "outputs": [],
   "source": [
    "customized_scatterplot(train.SalePrice, train.MasVnrArea);"
   ]
  },
  {
   "cell_type": "markdown",
   "metadata": {
    "_cell_guid": "6cc563ea-81cc-4b23-b1a2-1922af7d4cd2",
    "_uuid": "23f417ba-d0e5-40bb-94c9-db9f12e4fbab"
   },
   "source": [
    "Okay, I think we have seen enough. Let's discuss what we have found so far. \n",
    "\n",
    "# Observations\n",
    "* Our target variable shows an unequal level of variance across most predictor(independent) variable values. This is called **Heteroscedasticity(more explanation below)**; and is a red flag for the multiple linear regression model.\n",
    "* There are many outliers in the scatter plots above that took my attention. \n",
    "\n",
    "* The two next to the top right edge of **SalePrice vs. GrLivArea** seems to follow a trend, which can be explained by saying that \"As the prices increased so did the area. \n",
    "* However, The two on the bottom right of the same chart do not follow any trends. We will get rid of these two below."
   ]
  },
  {
   "cell_type": "code",
   "execution_count": null,
   "metadata": {
    "_cell_guid": "4f4c4f41-83bc-42df-86a4-eaa0e01d5f20",
    "_kg_hide-input": true,
    "_uuid": "664e9a98-b288-486b-9ca8-e58820a4440c"
   },
   "outputs": [],
   "source": [
    "\n",
    "## Deleting those two values with outliers. \n",
    "train = train[train.GrLivArea < 4500]\n",
    "train.reset_index(drop = True, inplace = True)\n",
    "\n",
    "## save a copy of this dataset so that any changes later on can be compared side by side.\n",
    "previous_train = train.copy()"
   ]
  },
  {
   "cell_type": "markdown",
   "metadata": {
    "_cell_guid": "6c054c3e-12fd-4775-a1ae-934e7e7efd33",
    "_uuid": "2588dd58-d4f0-420a-a7c9-b2e644001904"
   },
   "source": [
    "As we look through these scatter plots, I realized that it is time to explain the assumptions of Multiple Linear Regression. Before building a multiple linear regression model, we need to check that these assumptions below are valid.\n",
    "## Assumptions of Regression\n",
    "\n",
    "* **Linearity ( Correct functional form )** \n",
    "* **Homoscedasticity ( Constant Error Variance )( vs Heteroscedasticity ). **\n",
    "* **Independence of Errors ( vs Autocorrelation ) **\n",
    "* **Multivariate Normality ( Normality of Errors ) **\n",
    "* **No or little Multicollinearity. ** \n",
    "\n",
    "Since we fit a linear model, we assume that the relationship is **linear** and the errors, or residuals, are pure random fluctuations around the true line. We assume that the variability in the response(dependent) variable doesn't increase as the value of the predictor(independent) increases, which is the assumptions of equal variance, also known as **Homoscedasticity**. We also assume that the observations are independent of one another(**No Multicollinearity**) and a correlation between sequential observations or auto-correlation are not there.\n",
    "\n",
    "Now, these assumptions are prone to happen altogether. In other words, if we see one of these assumptions in the dataset, it's more likely that we may come across with one of the different assumptions. Similarly, we can find and fix various assumptions with a few unique techniques.\n",
    "\n",
    "So, **How do we check regression assumptions? We fit a regression line and look for the variability of the response data along the regression line.** Let's apply this for each one of them.\n",
    "\n",
    "**Linearity ( Correct functional form )** \n",
    "Linear regression needs the relationship between each independent variable and the dependent variable to be linear. The linearity assumption can be tested with scatter plots. The following two examples depict two cases, where no or little linearity is present. "
   ]
  },
  {
   "cell_type": "code",
   "execution_count": null,
   "metadata": {},
   "outputs": [],
   "source": [
    "## Plot sizing. \n",
    "fig, (ax1, ax2) = plt.subplots(figsize = (20,10), ncols=2,sharey=False)\n",
    "## Scatter plotting for SalePrice and GrLivArea. \n",
    "sns.scatterplot( x = train.GrLivArea, y = train.SalePrice,  ax=ax1)\n",
    "## Putting a regression line. \n",
    "sns.regplot(x=train.GrLivArea, y=train.SalePrice, ax=ax1)\n",
    "\n",
    "## Scatter plotting for SalePrice and MasVnrArea. \n",
    "sns.scatterplot(x = train.MasVnrArea,y = train.SalePrice, ax=ax2)\n",
    "## regression line for MasVnrArea and SalePrice. \n",
    "sns.regplot(x=train.MasVnrArea, y=train.SalePrice, ax=ax2);"
   ]
  },
  {
   "cell_type": "markdown",
   "metadata": {
    "_cell_guid": "b8506cb7-41ec-494e-8af5-87ce9b55745c",
    "_uuid": "9fac9095-b1a8-4ce1-951e-ef2201ca0f68"
   },
   "source": [
    "Here we are plotting our target variable with two independent variables **GrLivArea** and **MasVnrArea**. It's pretty apparent from the chart that there is a better linear relationship between **SalePrice** and **GrLivArea** than **SalePrice** and **MasVnrArea**. One thing to take note here, there are some outliers in the dataset. It is imperative to check for outliers since linear regression is sensitive to outlier effects. Sometimes we may be trying to fit a linear regression model when the data might not be so linear, or the function may need another degree of freedom to fit the data. In that case, we may need to change our function depending on the data to get the best possible fit. In addition to that, we can also check the residual plot, which tells us how is the error variance across the true line. Let's look at the residual plot for independent variable **GrLivArea** and our target variable **SalePrice **. "
   ]
  },
  {
   "cell_type": "code",
   "execution_count": null,
   "metadata": {},
   "outputs": [],
   "source": [
    "plt.subplots(figsize = (15,10))\n",
    "sns.residplot(train.GrLivArea, train.SalePrice);"
   ]
  },
  {
   "cell_type": "markdown",
   "metadata": {},
   "source": [
    "Ideally, if the assumptions are met, the residuals will be randomly scattered around the centerline of zero with no apparent pattern. The residual will look like an unstructured cloud of points centered around zero. However, our residual plot is anything but an unstructured cloud of points. Even though it seems like there is a linear relationship between the response variable and predictor variable, the residual plot looks more like a funnel. The error plot shows that as **GrLivArea** value increases the variance also increases, which is the characteristics known as **Heteroscedasticity**; another assumption of linear regression. Let's break this down. \n",
    "\n",
    "**Homoscedasticity ( Constant Variance ):** \n",
    "The assumption of Homoscedasticity is crucial to linear regression models. Homoscedasticity describes a situation in which the error term or variance or the \"noise\" or random disturbance in the relationship between the independent variables and the dependent variable is same across all values of the independent variable. In other words, there is a constant variance present in the response variable as the predictor variable increases. If the \"noise\" is not the same across the values of an independent variable like the residual plot above, we call that **Heteroscedasticity**. As you can tell, it is the opposite of **Homoscedasticity.**\n",
    "\n",
    "<p><img src=\"https://www.dummies.com/wp-content/uploads/415147.image1.jpg\" style=\"float:center\"></img></p>\n",
    "\n",
    "This plot above is an excellent example of Homoscedasticity. As you can see, the residual variance is the same as the value of the predictor variable increases. One way to fix this Heteroscedasticity is by using a transformation method like log-transformation or box-cox transformation. We will do that later.\n",
    "\n",
    "**Multivariate Normality ( Normality of Errors):**\n",
    "The linear regression analysis requires the dependent variable to be multivariate normally distributed. A histogram or a Q-Q-Plot can check whether the target variable is normally distributed or not. The goodness of fit test, e.g., the Kolmogorov-Smirnov test or can check for normality in the dependent variable. We already know that our target variable does not follow a normal distribution. Let's bring back the three charts to show our target variable."
   ]
  },
  {
   "cell_type": "code",
   "execution_count": null,
   "metadata": {
    "_cell_guid": "b8713a9b-157c-4baf-9562-b3be0d387dbf",
    "_kg_hide-input": true,
    "_uuid": "6389a025-86ea-4162-b72b-d2da796e3f51"
   },
   "outputs": [],
   "source": [
    "plotting_3_chart(train, 'SalePrice')"
   ]
  },
  {
   "cell_type": "markdown",
   "metadata": {
    "_cell_guid": "70910039-1350-4a89-b3d1-600afa19b421",
    "_uuid": "8abe5e4b-4b35-4fdf-9cac-67c8a1de9a38"
   },
   "source": [
    "Now, let's make sure that the target variable follows a normal distribution. If you want to learn more about probability plot(Q-Q plot), try [this](https://www.youtube.com/watch?v=smJBsZ4YQZw) video. You can also check out [this](https://www.youtube.com/watch?v=9IcaQwQkE9I) one if you have some extra time."
   ]
  },
  {
   "cell_type": "code",
   "execution_count": null,
   "metadata": {
    "_cell_guid": "8af2e89b-d316-45ae-8053-68bf53b15f87",
    "_kg_hide-input": true,
    "_uuid": "ef5a8648-6d0e-40de-9bd3-d71d9d9cba4a"
   },
   "outputs": [],
   "source": [
    "## trainsforming target variable using numpy.log1p, \n",
    "train[\"SalePrice\"] = np.log1p(train[\"SalePrice\"])\n",
    "\n",
    "## Plotting the newly transformed response variable\n",
    "plotting_3_chart(train, 'SalePrice')"
   ]
  },
  {
   "cell_type": "markdown",
   "metadata": {},
   "source": [
    "As you can see the log transformation removes the normality of errors. This solves some of the other assumptions that we talked about above like Homoscedasticity. Let's make a comparison of the pre-transformed and post-transformed state of residual plots. "
   ]
  },
  {
   "cell_type": "code",
   "execution_count": null,
   "metadata": {
    "_cell_guid": "6cda8d2d-efa2-433a-b287-89e6daa46e0a",
    "_kg_hide-input": true,
    "_uuid": "8c68ffe0-2cce-4b8a-b453-b771d05e8fee"
   },
   "outputs": [],
   "source": [
    "## Customizing grid for two plots. \n",
    "fig, (ax1, ax2) = plt.subplots(figsize = (20,6), ncols=2, sharey = False, sharex=False)\n",
    "## doing the first scatter plot. \n",
    "sns.residplot(x = previous_train.GrLivArea, y = previous_train.SalePrice, ax = ax1)\n",
    "## doing the scatter plot for GrLivArea and SalePrice. \n",
    "sns.residplot(x = train.GrLivArea, y = train.SalePrice, ax = ax2);"
   ]
  },
  {
   "cell_type": "markdown",
   "metadata": {
    "_cell_guid": "7b8eb81b-7d4a-4461-84ba-a84dacbf060b",
    "_uuid": "0b5fc8ff-4aa3-44b3-95e2-b8b6f7ed3e47"
   },
   "source": [
    "Here, we can see that the pre-transformed chart on the left has heteroscedasticity, and the post-transformed chart on the right has almost an equal amount of variance across the zero lines.\n",
    "\n",
    "**No or Little multicollinearity:** \n",
    "Multicollinearity is when there is a strong correlation between independent variables. Linear regression or multilinear regression requires independent variables to have little or no similar features. Multicollinearity can lead to a variety of problems, including:\n",
    "* The effect of predictor variables estimated by our regression will depend on what other variables are included in our model. \n",
    "* Predictors can have wildly different results depending on the observations in our sample, and small changes in samples can result in very different estimated effects. \n",
    "* With very high multicollinearity, the inverse matrix, the computer calculates may not be accurate. \n",
    "* We can no longer interpret a coefficient on a variable as the effect on the target of a one-unit increase in that variable holding the other variables constant. The reason behind that is, when predictors are strongly correlated, there is not a scenario in which one variable can change without a conditional change in another variable.\n",
    "\n",
    "Heatmap is an excellent way to identify whether there is multicollinearity or not. The best way to solve multicollinearity is to use regularization methods like Ridge or Lasso."
   ]
  },
  {
   "cell_type": "code",
   "execution_count": null,
   "metadata": {
    "_cell_guid": "17ca1469-643b-4ba0-a141-32025d393bf5",
    "_kg_hide-input": true,
    "_uuid": "d841864f-d559-40f6-9b85-ac3ae8402e80"
   },
   "outputs": [],
   "source": [
    "## Plot fig sizing. \n",
    "style.use('ggplot')\n",
    "sns.set_style('whitegrid')\n",
    "plt.subplots(figsize = (30,20))\n",
    "## Plotting heatmap. \n",
    "\n",
    "# Generate a mask for the upper triangle (taken from seaborn example gallery)\n",
    "mask = np.zeros_like(train.corr(), dtype=np.bool)\n",
    "mask[np.triu_indices_from(mask)] = True\n",
    "\n",
    "\n",
    "sns.heatmap(train.corr(), cmap=sns.diverging_palette(20, 220, n=200), mask = mask, annot=True, center = 0, );\n",
    "## Give title. \n",
    "plt.title(\"Heatmap of all the Features\", fontsize = 30);"
   ]
  },
  {
   "cell_type": "markdown",
   "metadata": {
    "_cell_guid": "5d747552-2932-484a-99f7-41089287aef8",
    "_uuid": "f6dd55c1-7366-4828-9be5-c68ea99cf070"
   },
   "source": [
    "## Observation. \n",
    "As we can see, the multicollinearity still exists in various features. However, we will keep them for now for the sake of learning and lets models(e.x. Regularization models such as Lasso, Ridge) do the clean up later on. Let's go through some of the correlations that still exists. \n",
    "\n",
    "* There is 0.83 or 83% correlation between **GarageYrBlt** and **YearBuilt**. \n",
    "* 83% correlation between **TotRmsAbvGrd ** and **GrLivArea**. \n",
    "* 89% correlation between **GarageCars** and **GarageArea**. \n",
    "* Similarly many other features such as**BsmtUnfSF**, **FullBath** have good correlation with other independent feature but not so much with the dependent feature.\n",
    "\n",
    "If I were using only multiple linear regression, I would be deleting these features from the dataset to fit better multiple linear regression algorithms. However, we will be using many algorithms as scikit learn modules makes it easy to implement them and get the best possible model. Therefore, we will keep all the features for now. \n",
    "\n",
    "<h3>Resources:</h3>\n",
    "<ul>\n",
    "    <li><a href=\"https://www.statisticssolutions.com/assumptions-of-linear-regression/\">Assumptions of Linear Regression</a></li>\n",
    "    <li><a href=\"https://www.statisticssolutions.com/assumptions-of-multiple-linear-regression/\">Assumptions of Multiple Linear Regression</a></li>\n",
    "    <li><a href=\"https://www.youtube.com/watch?v=0MFpOQRY0rw/\"> Youtube: All regression assumptions explained!<a/></li>\n",
    "</ul>\n",
    "\n",
    "# Feature engineering"
   ]
  },
  {
   "cell_type": "code",
   "execution_count": null,
   "metadata": {
    "_cell_guid": "6549f4c5-9d55-4b8f-93e9-33c3cb8add41",
    "_kg_hide-input": true,
    "_uuid": "f3c6da13-9a5d-40b6-b2a9-b66e5e729bc2"
   },
   "outputs": [],
   "source": [
    "## Dropping the \"Id\" from train and test set. \n",
    "# train.drop(columns=['Id'],axis=1, inplace=True)\n",
    "\n",
    "train.drop(columns=['Id'],axis=1, inplace=True)\n",
    "test.drop(columns=['Id'],axis=1, inplace=True)\n",
    "\n",
    "## Saving the target values in \"y_train\". \n",
    "y = train['SalePrice'].reset_index(drop=True)\n",
    "\n",
    "\n",
    "\n",
    "# getting a copy of train\n",
    "previous_train = train.copy()"
   ]
  },
  {
   "cell_type": "code",
   "execution_count": null,
   "metadata": {},
   "outputs": [],
   "source": [
    "# quantitative = [f for f in train.columns if train.dtypes[f] != 'object']\n",
    "# qualitative = [f for f in train.columns if train.dtypes[f] == 'object']\n",
    "\n",
    "# def encode(df, feature, target_feature):\n",
    "#     \"\"\"\n",
    "#     This function takes a dataframe, a feature(a categorical feature) and a target_feature(the feature that should be used for encoding)\n",
    "#     and returns a new feature with the original feature name + postfix(_E). \n",
    "#     This new feature consists of encoded value of unique original value but the values are weighted(incremented) based on the \n",
    "#     mean of target_feature and grouped by the feature itself.\n",
    "#     \"\"\"\n",
    "#     ordering = pd.DataFrame()\n",
    "#     ordering['val'] = df[feature].unique()\n",
    "#     ordering.index = ordering.val\n",
    "#     ordering['spmean'] = df[[feature, target_feature]].groupby(feature).mean()[target_feature]\n",
    "#     ordering = ordering.sort_values('spmean')\n",
    "#     ordering['ordering'] = range(1, ordering.shape[0]+1)\n",
    "#     ordering = ordering['ordering'].to_dict()\n",
    "    \n",
    "#     for cat, o in ordering.items():\n",
    "#         df.loc[df[feature] == cat, feature+'_E'] = o\n",
    "    \n",
    "# qual_encoded = []\n",
    "# for q in qualitative:  \n",
    "#     encode(train, q, 'SalePrice')\n",
    "#     qual_encoded.append(q+'_E')\n",
    "# print(qual_encoded)"
   ]
  },
  {
   "cell_type": "code",
   "execution_count": null,
   "metadata": {},
   "outputs": [],
   "source": [
    "## Combining train and test datasets together so that we can do all the work at once. \n",
    "all_data = pd.concat((train, test)).reset_index(drop = True)\n",
    "## Dropping the target variable. \n",
    "all_data.drop(['SalePrice'], axis = 1, inplace = True)"
   ]
  },
  {
   "cell_type": "markdown",
   "metadata": {
    "_cell_guid": "766e0842-b184-4c08-849a-4a0533d69bb2",
    "_uuid": "22279689-e708-4ad8-aaed-320073618e52"
   },
   "source": [
    "## Dealing with Missing Values\n",
    "> **Missing data in train and test data(all_data)**"
   ]
  },
  {
   "cell_type": "code",
   "execution_count": null,
   "metadata": {
    "_cell_guid": "862401b7-e153-4cfb-b4a1-145149946c7b",
    "_kg_hide-input": true,
    "_uuid": "22f94afb-4d68-4728-8591-4d3a726d9b67"
   },
   "outputs": [],
   "source": [
    "missing_percentage(all_data)"
   ]
  },
  {
   "cell_type": "markdown",
   "metadata": {
    "_cell_guid": "b4c40d68-6fe3-48a3-83a9-d3c8c2ff9409",
    "_uuid": "bed4ad35-8ef0-4048-8212-d7630b73c841"
   },
   "source": [
    "> **Imputing Missing Values**"
   ]
  },
  {
   "cell_type": "code",
   "execution_count": null,
   "metadata": {
    "_cell_guid": "496b6ff7-801e-4191-9ea9-d325f53e5e38",
    "_kg_hide-input": true,
    "_uuid": "06234ae2-b23d-4c11-9de3-5a0d89f63780"
   },
   "outputs": [],
   "source": [
    "## Some missing values are intentionally left blank, for example: In the Alley feature \n",
    "## there are blank values meaning that there are no alley's in that specific house. \n",
    "missing_val_col = [\"Alley\", \n",
    "                   \"PoolQC\", \n",
    "                   \"MiscFeature\",\n",
    "                   \"Fence\",\n",
    "                   \"FireplaceQu\",\n",
    "                   \"GarageType\",\n",
    "                   \"GarageFinish\",\n",
    "                   \"GarageQual\",\n",
    "                   \"GarageCond\",\n",
    "                   'BsmtQual',\n",
    "                   'BsmtCond',\n",
    "                   'BsmtExposure',\n",
    "                   'BsmtFinType1',\n",
    "                   'BsmtFinType2',\n",
    "                   'MasVnrType']\n",
    "\n",
    "for i in missing_val_col:\n",
    "    all_data[i] = all_data[i].fillna('None')"
   ]
  },
  {
   "cell_type": "code",
   "execution_count": null,
   "metadata": {
    "_cell_guid": "9223ac79-96ea-4c6b-a821-31e2ee3e6928",
    "_kg_hide-input": true,
    "_uuid": "70e98943-19bf-4965-8818-6fcce53c370c"
   },
   "outputs": [],
   "source": [
    "## These features are continous variable, we used \"0\" to replace the null values. \n",
    "missing_val_col2 = ['BsmtFinSF1',\n",
    "                    'BsmtFinSF2',\n",
    "                    'BsmtUnfSF',\n",
    "                    'TotalBsmtSF',\n",
    "                    'BsmtFullBath', \n",
    "                    'BsmtHalfBath', \n",
    "                    'GarageYrBlt',\n",
    "                    'GarageArea',\n",
    "                    'GarageCars',\n",
    "                    'MasVnrArea']\n",
    "\n",
    "for i in missing_val_col2:\n",
    "    all_data[i] = all_data[i].fillna(0)\n",
    "    \n",
    "## Replaced all missing values in LotFrontage by imputing the median value of each neighborhood. \n",
    "all_data['LotFrontage'] = all_data.groupby('Neighborhood')['LotFrontage'].transform( lambda x: x.fillna(x.mean()))"
   ]
  },
  {
   "cell_type": "code",
   "execution_count": null,
   "metadata": {},
   "outputs": [],
   "source": [
    "## the \"OverallCond\" and \"OverallQual\" of the house. \n",
    "# all_data['OverallCond'] = all_data['OverallCond'].astype(str) \n",
    "# all_data['OverallQual'] = all_data['OverallQual'].astype(str)\n",
    "\n",
    "## Zoning class are given in numerical; therefore converted to categorical variables. \n",
    "all_data['MSSubClass'] = all_data['MSSubClass'].astype(str)\n",
    "all_data['MSZoning'] = all_data.groupby('MSSubClass')['MSZoning'].transform(lambda x: x.fillna(x.mode()[0]))\n",
    "\n",
    "## Important years and months that should be categorical variables not numerical. \n",
    "# all_data['YearBuilt'] = all_data['YearBuilt'].astype(str)\n",
    "# all_data['YearRemodAdd'] = all_data['YearRemodAdd'].astype(str)\n",
    "# all_data['GarageYrBlt'] = all_data['GarageYrBlt'].astype(str)\n",
    "all_data['YrSold'] = all_data['YrSold'].astype(str)\n",
    "all_data['MoSold'] = all_data['MoSold'].astype(str) "
   ]
  },
  {
   "cell_type": "code",
   "execution_count": null,
   "metadata": {},
   "outputs": [],
   "source": [
    "all_data['Functional'] = all_data['Functional'].fillna('Typ') \n",
    "all_data['Utilities'] = all_data['Utilities'].fillna('AllPub') \n",
    "all_data['Exterior1st'] = all_data['Exterior1st'].fillna(all_data['Exterior1st'].mode()[0]) \n",
    "all_data['Exterior2nd'] = all_data['Exterior2nd'].fillna(all_data['Exterior2nd'].mode()[0])\n",
    "all_data['KitchenQual'] = all_data['KitchenQual'].fillna(\"TA\") \n",
    "all_data['SaleType'] = all_data['SaleType'].fillna(all_data['SaleType'].mode()[0])\n",
    "all_data['Electrical'] = all_data['Electrical'].fillna(\"SBrkr\") \n"
   ]
  },
  {
   "cell_type": "code",
   "execution_count": null,
   "metadata": {},
   "outputs": [],
   "source": [
    "missing_percentage(all_data)"
   ]
  },
  {
   "cell_type": "markdown",
   "metadata": {},
   "source": [
    "So, there are no missing value left. "
   ]
  },
  {
   "cell_type": "code",
   "execution_count": null,
   "metadata": {},
   "outputs": [],
   "source": [
    "sns.distplot(all_data['1stFlrSF']);"
   ]
  },
  {
   "cell_type": "code",
   "execution_count": null,
   "metadata": {},
   "outputs": [],
   "source": [
    "numeric_feats = all_data.dtypes[all_data.dtypes != \"object\"].index\n",
    "\n",
    "skewed_feats = all_data[numeric_feats].apply(lambda x: skew(x)).sort_values(ascending=False)\n",
    "\n",
    "skewed_feats"
   ]
  },
  {
   "cell_type": "code",
   "execution_count": null,
   "metadata": {},
   "outputs": [],
   "source": [
    "## Fixing Skewed features using boxcox transformation. \n",
    "\n",
    "\n",
    "def fixing_skewness(df):\n",
    "    \"\"\"\n",
    "    This function takes in a dataframe and return fixed skewed dataframe\n",
    "    \"\"\"\n",
    "    ## Import necessary modules \n",
    "    from scipy.stats import skew\n",
    "    from scipy.special import boxcox1p\n",
    "    from scipy.stats import boxcox_normmax\n",
    "    \n",
    "    ## Getting all the data that are not of \"object\" type. \n",
    "    numeric_feats = df.dtypes[df.dtypes != \"object\"].index\n",
    "\n",
    "    # Check the skew of all numerical features\n",
    "    skewed_feats = df[numeric_feats].apply(lambda x: skew(x)).sort_values(ascending=False)\n",
    "    high_skew = skewed_feats[abs(skewed_feats) > 0.5]\n",
    "    skewed_features = high_skew.index\n",
    "\n",
    "    for feat in skewed_features:\n",
    "        df[feat] = boxcox1p(df[feat], boxcox_normmax(df[feat] + 1))\n",
    "\n",
    "fixing_skewness(all_data)"
   ]
  },
  {
   "cell_type": "code",
   "execution_count": null,
   "metadata": {},
   "outputs": [],
   "source": [
    "sns.distplot(all_data['1stFlrSF']);"
   ]
  },
  {
   "cell_type": "code",
   "execution_count": null,
   "metadata": {},
   "outputs": [],
   "source": [
    "all_data = all_data.drop(['Utilities', 'Street', 'PoolQC',], axis=1)\n",
    "\n",
    "# feture engineering a new feature \"TotalFS\"\n",
    "all_data['TotalSF'] = all_data['TotalBsmtSF'] + all_data['1stFlrSF'] + all_data['2ndFlrSF']\n",
    "all_data['YrBltAndRemod']=all_data['YearBuilt']+all_data['YearRemodAdd']\n",
    "\n",
    "all_data['Total_sqr_footage'] = (all_data['BsmtFinSF1'] + all_data['BsmtFinSF2'] +\n",
    "                                 all_data['1stFlrSF'] + all_data['2ndFlrSF'])\n",
    "\n",
    "all_data['Total_Bathrooms'] = (all_data['FullBath'] + (0.5 * all_data['HalfBath']) +\n",
    "                               all_data['BsmtFullBath'] + (0.5 * all_data['BsmtHalfBath']))\n",
    "\n",
    "all_data['Total_porch_sf'] = (all_data['OpenPorchSF'] + all_data['3SsnPorch'] +\n",
    "                              all_data['EnclosedPorch'] + all_data['ScreenPorch'] +\n",
    "                              all_data['WoodDeckSF'])\n"
   ]
  },
  {
   "cell_type": "code",
   "execution_count": null,
   "metadata": {},
   "outputs": [],
   "source": [
    "all_data['haspool'] = all_data['PoolArea'].apply(lambda x: 1 if x > 0 else 0)\n",
    "all_data['has2ndfloor'] = all_data['2ndFlrSF'].apply(lambda x: 1 if x > 0 else 0)\n",
    "all_data['hasgarage'] = all_data['GarageArea'].apply(lambda x: 1 if x > 0 else 0)\n",
    "all_data['hasbsmt'] = all_data['TotalBsmtSF'].apply(lambda x: 1 if x > 0 else 0)\n",
    "all_data['hasfireplace'] = all_data['Fireplaces'].apply(lambda x: 1 if x > 0 else 0)"
   ]
  },
  {
   "cell_type": "code",
   "execution_count": null,
   "metadata": {},
   "outputs": [],
   "source": [
    "all_data.shape"
   ]
  },
  {
   "cell_type": "markdown",
   "metadata": {
    "_cell_guid": "986e1dd1-d8a9-45a2-bd30-38247b0d8cf3",
    "_uuid": "1986bfdc-783f-4c72-b4d6-1edfcb11d540"
   },
   "source": [
    "## Creating Dummy Variables. \n"
   ]
  },
  {
   "cell_type": "code",
   "execution_count": null,
   "metadata": {
    "_cell_guid": "91f15d8f-2cb5-4c14-969b-f63305325b91",
    "_kg_hide-input": true,
    "_uuid": "178c82cc-928b-4e2b-ba13-e6a3f79afc89"
   },
   "outputs": [],
   "source": [
    "## Creating dummy variable \n",
    "final_features = pd.get_dummies(all_data).reset_index(drop=True)\n",
    "final_features.shape"
   ]
  },
  {
   "cell_type": "code",
   "execution_count": null,
   "metadata": {},
   "outputs": [],
   "source": [
    "X = final_features.iloc[:len(y), :]\n",
    "\n",
    "X_sub = final_features.iloc[len(y):, :]"
   ]
  },
  {
   "cell_type": "code",
   "execution_count": null,
   "metadata": {},
   "outputs": [],
   "source": [
    "outliers = [30, 88, 462, 631, 1322]\n",
    "X = X.drop(X.index[outliers])\n",
    "y = y.drop(y.index[outliers])"
   ]
  },
  {
   "cell_type": "code",
   "execution_count": null,
   "metadata": {},
   "outputs": [],
   "source": [
    "def overfit_reducer(df):\n",
    "    \"\"\"\n",
    "    This function takes in a dataframe and returns a list of features that are overfitted.\n",
    "    \"\"\"\n",
    "    overfit = []\n",
    "    for i in df.columns:\n",
    "        counts = df[i].value_counts()\n",
    "        zeros = counts.iloc[0]\n",
    "        if zeros / len(df) * 100 > 99.94:\n",
    "            overfit.append(i)\n",
    "    overfit = list(overfit)\n",
    "    return overfit\n",
    "\n",
    "\n",
    "overfitted_features = overfit_reducer(X)\n",
    "\n",
    "X = X.drop(overfitted_features, axis=1)\n",
    "X_sub = X_sub.drop(overfitted_features, axis=1)"
   ]
  },
  {
   "cell_type": "code",
   "execution_count": null,
   "metadata": {},
   "outputs": [],
   "source": [
    "X.shape,y.shape, X_sub.shape"
   ]
  },
  {
   "cell_type": "markdown",
   "metadata": {},
   "source": [
    "# Fitting model(simple approach)\n",
    "\n",
    "## Train_test split\n",
    " \n",
    "We have separated dependent and independent features; We have separated train and test data. So, why do we still have to split our training data? If you are curious about that, I have the answer. For this competition, when we train the machine learning algorithms, we use part of the training set, usually two-thirds of the train data. Once we train our algorithm using 2/3 of the train data, we start to test our algorithms using the remaining data. If the model performs well, we dump our test data in the algorithms to predict and submit the competition. The code below, basically splits the train data into 4 parts, <b>X_train, X_test, y_train, y_test.</b>\n",
    "* <b>X_train, y_train</b> first used to train the algorithm. \n",
    "* then, **X_test** is used in that trained algorithms to predict **outcomes. **\n",
    "* Once we get the **outcomes**, we compare it with **y_test**\n",
    "\n",
    "By comparing the **outcome** of the model with **test_y**, we can determine whether our algorithms are performing well or not. Once we are confident about the result of our algorithm, we may use the model to on the original test data and submit in the challenge. I have tried to show this whole process in the visualization chart below."
   ]
  },
  {
   "cell_type": "code",
   "execution_count": null,
   "metadata": {},
   "outputs": [],
   "source": [
    "## Train test s\n",
    "from sklearn.model_selection import train_test_split\n",
    "## Train test split follows this distinguished code pattern and helps creating train and test set to build machine learning. \n",
    "X_train, X_test, y_train, y_test = train_test_split(X, y,test_size = .33, random_state = 0)"
   ]
  },
  {
   "cell_type": "code",
   "execution_count": null,
   "metadata": {},
   "outputs": [],
   "source": [
    "X_train.shape, y_train.shape, X_test.shape, y_test.shape"
   ]
  },
  {
   "cell_type": "markdown",
   "metadata": {
    "_cell_guid": "7c688c72-94bd-4863-ab97-83011053a9ba",
    "_uuid": "27a30c4c-fd24-412b-ab81-a797d7c3bd47"
   },
   "source": [
    "# Modeling the Data\n",
    " \n",
    "Before modeling each algorithm, I would like to discuss them for a better understanding. This way I would review what I know and at the same time help out the community. If you already know enough about Linear Regression, you may skip this part and go straight to the part where I fit the model. However, if you take your time to read this and other model description sections and let me know how I am doing, I would genuinely appreciate it. Let's get started. \n",
    "\n",
    "**Linear Regression**\n",
    "<div>\n",
    "    We will start with one of the most basic but useful machine learning model, **Linear Regression**. However, do not let the simplicity of this model fool you, as Linear Regression is the base some of the most complex models out there. For the sake of understanding this model, we will use only two features, **SalePrice** and **GrLivArea**. Let's take a sample of the data and graph it."
   ]
  },
  {
   "cell_type": "code",
   "execution_count": null,
   "metadata": {
    "_cell_guid": "b7889fa8-9a68-4b09-a6e7-a0b1d6afc461",
    "_kg_hide-input": true,
    "_uuid": "0dc5a23e-b3e4-46f8-a9e8-a21f64c516e5"
   },
   "outputs": [],
   "source": [
    "sample_train = previous_train.sample(300)\n",
    "import seaborn as sns\n",
    "plt.subplots(figsize = (15,8))\n",
    "ax = plt.gca()\n",
    "ax.scatter(sample_train.GrLivArea.values, sample_train.SalePrice.values, color ='b');\n",
    "plt.title(\"Chart with Data Points\");\n",
    "#ax = sns.regplot(sample_train.GrLivArea.values, sample_train.SalePrice.values)\n",
    "#ax.plot((sample_train.GrLivArea.values.min(),sample_train.GrLivArea.values.max()), (sample_train.SalePrice.values.mean(),sample_train.SalePrice.values.mean()), color = 'r');"
   ]
  },
  {
   "cell_type": "markdown",
   "metadata": {
    "_cell_guid": "cd6117ec-1037-4029-916c-b9ec343d9705",
    "_uuid": "aedcd120-7099-48b6-a959-8699017dac5c"
   },
   "source": [
    "As we discussed before, there is a linear relationship between SalePrice and GrLivArea. We want to know/estimate/predict the sale price of a house based on the given area, How do we do that? One naive way is to find the average of all the house prices. Let's find a line with the average of all houses and place it in the scatter plot. Simple enough."
   ]
  },
  {
   "cell_type": "code",
   "execution_count": null,
   "metadata": {
    "_cell_guid": "e52ea3bc-89d0-45b4-835b-8d4b58df7f1c",
    "_kg_hide-input": true,
    "_uuid": "fe0a10fa-deb6-409f-9618-8f3ce7fc7070"
   },
   "outputs": [],
   "source": [
    "plt.subplots(figsize = (15,8))\n",
    "ax = plt.gca()\n",
    "ax.scatter(sample_train.GrLivArea.values, sample_train.SalePrice.values, color ='b');\n",
    "#ax = sns.regplot(sample_train.GrLivArea.values, sample_train.SalePrice.values)\n",
    "ax.plot((sample_train.GrLivArea.values.min(),sample_train.GrLivArea.values.max()), (sample_train.SalePrice.values.mean(),sample_train.SalePrice.values.mean()), color = 'r');\n",
    "plt.title(\"Chart with Average Line\");"
   ]
  },
  {
   "cell_type": "markdown",
   "metadata": {
    "_cell_guid": "f9827296-c5fb-4fde-bb17-84082164dc0e",
    "_uuid": "1504c2a7-ebaf-42dd-a560-da5e34696363"
   },
   "source": [
    "You can tell this is not the most efficient way to estimate the price of houses. The average line clearly does not represent all the datapoint and fails to grasp the linear relationship between <b>GrLivArea & SalePrice. </b> Let use one of the evaluation regression metrics and find out the Mean Squared Error(more on this later) of this line."
   ]
  },
  {
   "cell_type": "code",
   "execution_count": null,
   "metadata": {
    "_cell_guid": "10cdfe4a-d8ab-4021-a9b7-76d34cc10b99",
    "_kg_hide-input": true,
    "_uuid": "21aca986-6c4a-4375-ac5b-2efdfbe4777d"
   },
   "outputs": [],
   "source": [
    "## Calculating Mean Squared Error(MSE)\n",
    "sample_train['mean_sale_price'] = sample_train.SalePrice.mean()\n",
    "sample_train['mse'] = np.square(sample_train.mean_sale_price - sample_train.SalePrice)\n",
    "sample_train.mse.mean()\n",
    "## getting mse\n",
    "print(\"Mean Squared Error(MSE) for average line is : {}\".format(sample_train.mse.mean()))"
   ]
  },
  {
   "cell_type": "markdown",
   "metadata": {
    "_cell_guid": "1427837c-1cf6-43c4-adaf-887971fa57ee",
    "_uuid": "28c228b4-94f2-4a30-acb8-1e8138a95449"
   },
   "source": [
    "> If you are reading this in my github page, you may find it difficult to follow through as the following section includes mathematical equation. Please checkout [this](https://www.kaggle.com/masumrumi/a-stats-analysis-and-ml-workflow-of-house-pricing) kernel at Kaggle. \n",
    "\n",
    "We will explain more on MSE later. For now, let's just say, the closer the value of MSE is to \"0\", the better. Of course, it makes sense since we are talking about an error(mean squared error). We want to minimize this error. How can we do that? \n",
    "\n",
    "Introducing **Linear Regression**, one of the most basic and straightforward models. Many of us may have learned to show the relationship between two variable using something called \"y equals mX plus b.\" Let's refresh our memory and call upon on that equation.\n",
    "\n",
    "\n",
    "\n",
    "# $$ {y} = mX + b $$\n",
    "\n",
    "\n",
    "\n",
    "Here, \n",
    "* **m** = slope of the regression line. It represents the relationship between X and y. In another word, it gives weight as to for each x(horizontal space) how much y(vertical space) we have to cover. In machine learning, we call it **coefficient**. \n",
    "* **b** = y-intercept. \n",
    "* **x** and **y** are the data points located in x_axis and y_axis respectively. \n",
    "\n",
    "\n",
    "<br/>\n",
    "\n",
    "If you would like to know more about this equation, Please check out this [video](https://www.khanacademy.org/math/algebra/two-var-linear-equations/writing-slope-intercept-equations/v/graphs-using-slope-intercept-form). \n",
    "\n",
    "This slope equation gives us an exact linear relationship between X and y. This relationship is \"exact\" because we are given X and y beforehand and based on the value of X and y, we come up with the slope and y-intercept, which in turns determine the relationship between X and y. However, in real life, data is not that simple. Often the relationship is unknown to us, and even if we know the relationship, it may not always be exact. To fit an exact slope equation in an inexact relationship of data we introduce the term error. Let's see how mathematicians express this error with the slope equation. \n",
    "\n",
    "## $$ y = \\beta_0 + \\beta_1 x + \\epsilon \\\\ $$\n",
    "\n",
    "And, this is the equation for a simple linear regression.\n",
    "Here,\n",
    "* y = Dependent variable. This is what we are trying to estimate/solve/understand. \n",
    "* $\\beta_0$ = the y-intercept, it is a constant and it represents the value of y when x is 0. \n",
    "* $\\beta_1$ = Slope, Weight, Coefficient of x. This metrics is the relationship between y and x. In simple terms, it shows 1 unit increase in y changes when 1 unit increases in x. \n",
    "* $x_1$ = Independent variable ( simple linear regression ) /variables.\n",
    "* $ \\epsilon$ = error or residual. \n",
    "\n",
    "### $$ \\text{residual}_i = y_i - \\hat{y}_i$$\n",
    "This error is the only part that's different/addition from the slope equation. This error exists because in real life we will never have a dataset where the regression line crosses exactly every single data point. There will be at least a good amount of points where the regression line will not be able to go through for the sake of model specifications and ** bias-variance tradeoff **(more on this later). This error term accounts for the difference of those points. So, simply speaking, an error is the difference between an original value( $y_i$ ) and a predicted value( $\\hat{y}_i$ ). \n",
    "\n",
    "We use this function to predict the values of one dependent(target) variable based on one independent(predictor) variable. Therefore this regression is called **Simple linear regression(SLR).** If we were to write the equation regarding the sample example above it would simply look like the following equation, \n",
    "## $$ Sale Price= \\beta_0 + \\beta_1 (Area) + \\epsilon \\\\ $$\n",
    "\n",
    "This equation gives us a line that fits the data and often performs better than the average line above. But,\n",
    "* How do we know that Linear regression line is actually performing better than the average line? \n",
    "* What metrics can we use to answer that? \n",
    "* How do we know if this line is even the best line(best-fit line) for the dataset? \n",
    "* If we want to get even more clear on this we may start with answering, How do we find the $\\beta_0$(intercept) and  $\\beta_1$(coefficient) of the equation?\n",
    "\n",
    "<b>Finding $\\beta_0$(intercept) and  $\\beta_1$(coefficient):</b>\n",
    "\n",
    "We can use the following equation to find the $\\beta_0$(intercept) and  $\\beta_1$(coefficient)\n",
    "\n",
    "\n",
    "### $$ \\hat{\\beta}_1 = r_{xy} \\frac{s_y}{s_x}$$\n",
    "### $$ \\hat{\\beta}_0 = \\bar{y} - \\hat{\\beta}_1 \\bar{x} $$\n",
    "\n",
    "Here...\n",
    "- $\\bar{y}$ : the sample mean of observed values $Y$\n",
    "- $\\bar{x}$ : the sample mean of observed values $X$\n",
    "- $s_y$ : the sample standard deviation of observed values $Y$\n",
    "- $s_x$ : the sample standard deviation of observed values $X$\n",
    "\n",
    "    > There are two types of STD's. one is for sample population and one is for Total population.\n",
    "    > Check out [this](https://statistics.laerd.com/statistical-guides/measures-of-spread-standard-deviation.php) article for more. \n",
    "\n",
    "- $r_{xy}$ : the sample Pearson correlation coefficient between observed $X$ and $Y$\n",
    "\n",
    "\n",
    "I hope most of us know how to calculate all these components from the two equations above by hand. I am going to only mention the equation of the pearson correlation(r_xy) here as it may be unknown to some of the readers. \n",
    "\n",
    "### $$ r_{xy}= \\frac{\\sum{(x_i - \\bar{x})(y_i - \\bar{y})}}{\\sqrt{\\sum(x_i - \\bar{x})^2{\\sum(y_i - \\bar{y})^2}}}$$\n",
    "\n",
    "Let's get on with calculating the rest by coding."
   ]
  },
  {
   "cell_type": "code",
   "execution_count": null,
   "metadata": {
    "_cell_guid": "0ed6ec8f-c349-4e15-a2d8-19ff436df1eb",
    "_kg_hide-input": true,
    "_uuid": "f7e0307f-0b57-4b1f-b25e-1a0cb7a425e4"
   },
   "outputs": [],
   "source": [
    "## Calculating the beta coefficients by hand. \n",
    "## mean of y. \n",
    "y_bar = sample_train.SalePrice.mean()\n",
    "## mean of x. \n",
    "x_bar = sample_train.GrLivArea.mean()\n",
    "## Std of y\n",
    "std_y = sample_train.SalePrice.std()\n",
    "## std of x\n",
    "std_x = sample_train.GrLivArea.std()\n",
    "## correlation of x and y\n",
    "r_xy = sample_train.corr().loc['GrLivArea','SalePrice']\n",
    "## finding beta_1\n",
    "beta_1 = r_xy*(std_y/std_x)\n",
    "## finding beta_0\n",
    "beta_0 = y_bar - beta_1*x_bar"
   ]
  },
  {
   "cell_type": "markdown",
   "metadata": {
    "_cell_guid": "af1fb171-819e-4dca-8dac-bbebb6072bf8",
    "_uuid": "94e62fe6-029b-46df-bd38-9d75640fa234"
   },
   "source": [
    "So, we have calculated the beta coefficients.  We can now plug them in the linear equation to get the predicted y value. Let's do that."
   ]
  },
  {
   "cell_type": "code",
   "execution_count": null,
   "metadata": {
    "_cell_guid": "46eebbee-6bad-4c75-a1d3-bc37c291278e",
    "_kg_hide-input": true,
    "_kg_hide-output": false,
    "_uuid": "1057298c-d58e-4ae6-8bb8-445fac13faf9"
   },
   "outputs": [],
   "source": [
    "## getting y_hat, which is the predicted y values. \n",
    "sample_train['Linear_Yhat'] = beta_0 + beta_1*sample_train['GrLivArea']"
   ]
  },
  {
   "cell_type": "markdown",
   "metadata": {
    "_cell_guid": "0c503457-aaa8-4b5e-8b53-d8786f4260b2",
    "_uuid": "a44154d0-1fe7-4133-a7a7-e22fe2c3789b"
   },
   "source": [
    "Now that we have our predicted y values let's see how the predicted regression line looks in the graph."
   ]
  },
  {
   "cell_type": "code",
   "execution_count": null,
   "metadata": {
    "_cell_guid": "61b3ccea-c7cf-49da-b55d-ba209de8665b",
    "_kg_hide-input": true,
    "_uuid": "457946bd-ee81-4994-af57-d96ea97afadd"
   },
   "outputs": [],
   "source": [
    "# create a figure\n",
    "fig = plt.figure(figsize=(15,7))\n",
    "# get the axis of that figure\n",
    "ax = plt.gca()\n",
    "\n",
    "# plot a scatter plot on it with our data\n",
    "ax.scatter(sample_train.GrLivArea, sample_train.SalePrice, c='b')\n",
    "ax.plot(sample_train['GrLivArea'], sample_train['Linear_Yhat'], color='r');"
   ]
  },
  {
   "cell_type": "markdown",
   "metadata": {
    "_cell_guid": "fae8aa70-05dc-4968-be7b-b401c3e21daa",
    "_uuid": "65d8f1b3-47a8-483e-ad7a-8ca0d07b5898"
   },
   "source": [
    "Phew!! This looks like something we can work with!! Let's find out the MSE for the regression line as well."
   ]
  },
  {
   "cell_type": "code",
   "execution_count": null,
   "metadata": {
    "_cell_guid": "16ee6ba0-03ef-4148-a138-1b62a87c6ada",
    "_kg_hide-input": true,
    "_uuid": "458c1566-38fd-4add-b4ed-c5ce062619dd"
   },
   "outputs": [],
   "source": [
    "## getting mse\n",
    "print(\"Mean Squared Error(MSE) for regression line is : {}\".format(np.square(sample_train['SalePrice'] - sample_train['Linear_Yhat']).mean()))"
   ]
  },
  {
   "cell_type": "code",
   "execution_count": null,
   "metadata": {},
   "outputs": [],
   "source": [
    "from sklearn.metrics import mean_squared_error\n",
    "mean_squared_error(sample_train['SalePrice'], sample_train.Linear_Yhat)"
   ]
  },
  {
   "cell_type": "markdown",
   "metadata": {
    "_cell_guid": "d2d7fd40-57d3-4080-b299-479e8faac799",
    "_uuid": "dce2d304-2fb0-4386-80fb-c2d15a26c03f"
   },
   "source": [
    "A much-anticipated decrease in mean squared error(mse), therefore better-predicted model. The way we compare between the two predicted lines is by considering their errors. Let's put both of the model's side by side and compare the errors."
   ]
  },
  {
   "cell_type": "code",
   "execution_count": null,
   "metadata": {
    "_cell_guid": "0e31a5af-a7c5-45fb-85af-f3e492b10b6d",
    "_kg_hide-input": true,
    "_uuid": "3aa66f57-da65-4d26-8e73-92a0d9d6889a"
   },
   "outputs": [],
   "source": [
    "## Creating a customized chart. and giving in figsize and everything. \n",
    "fig = plt.figure(constrained_layout=True, figsize=(15,5))\n",
    "## creating a grid of 3 cols and 3 rows. \n",
    "grid = gridspec.GridSpec(ncols=2, nrows=1, figure=fig)\n",
    "#gs = fig3.add_gridspec(3, 3)\n",
    "#ax1 = fig.add_subplot(grid[row, column])\n",
    "ax1 = fig.add_subplot(grid[0, :1])\n",
    "\n",
    "# get the axis\n",
    "ax1 = fig.gca()\n",
    "\n",
    "# plot it\n",
    "ax1.scatter(x=sample_train['GrLivArea'], y=sample_train['SalePrice'], c='b')\n",
    "ax1.plot(sample_train['GrLivArea'], sample_train['mean_sale_price'], color='k');\n",
    "\n",
    "# iterate over predictions\n",
    "for _, row in sample_train.iterrows():\n",
    "    plt.plot((row['GrLivArea'], row['GrLivArea']), (row['SalePrice'], row['mean_sale_price']), 'r-')\n",
    "    \n",
    "ax2 = fig.add_subplot(grid[0, 1:])\n",
    "\n",
    "# plot it\n",
    "ax2.scatter(x=sample_train['GrLivArea'], y=sample_train['SalePrice'], c='b')\n",
    "ax2.plot(sample_train['GrLivArea'], sample_train['Linear_Yhat'], color='k');\n",
    "# iterate over predictions\n",
    "for _, row in sample_train.iterrows():\n",
    "    plt.plot((row['GrLivArea'], row['GrLivArea']), (row['SalePrice'], row['Linear_Yhat']), 'r-')"
   ]
  },
  {
   "cell_type": "markdown",
   "metadata": {},
   "source": [
    "On the two charts above, the left one is the average line, and the right one is the regression line. <font color=\"blue\"><b>Blue</b></font> dots are observed data points and <font color=\"red\"><b>red</b></font> lines are error distance from each observed data points to model-predicted line. As you can see, the regression line reduces much of the errors; therefore, performs much better than average line. \n",
    "\n",
    "Now, we need to introduce a couple of evaluation metrics that will help us compare and contrast models. One of them is mean squared error(MSE) which we used while comparing two models. Some of the other metrics are...\n",
    "\n",
    "* RMSE (Root Mean Squared Error)\n",
    "### $$ \\operatorname{RMSE}= \\sqrt{\\frac{1}{n}\\sum_{i=1}^n(\\hat{y_i} - y_i)^2} $$\n",
    "\n",
    "Here\n",
    "* $y_i$ = Each observed data point. \n",
    "* $\\bar{y}$ = Mean of y value.\n",
    "* $\\hat{y_i}$ = Predicted data point for each $x_i$ depending on i. \n",
    "\n",
    "\n",
    "* MSE(Mean Squared Error)\n",
    "### $$\\operatorname{MSE}= \\frac{1}{n}\\sum_{i=1}^n(\\hat{y_i} - y_i)^2$$\n",
    "\n",
    "* MAE (Mean Absolute Error)\n",
    "### $$\\operatorname{MAE} = \\frac{\\sum_{i=1}^n|{\\bar{y} - y_i}|}{n}$$\n",
    "\n",
    "* RSE (Relative Squared Error)\n",
    "### $$\\operatorname{RSE}= \\frac{\\sum_{i=1}^n(\\hat{y_i} - y_i)^2}{\\sum_{i=1}^n(\\bar{y} - y_i)^2}$$\n",
    "\n",
    "* RAE (Relative Absolute Error) \n",
    "### $$\\operatorname{RAE}= \\frac{\\sum_{i=1}^n |\\hat{y_i} - y_i|}{\\sum_{i=1}^n |\\bar{y} - y_i|}$$\n",
    "\n",
    "> and \n",
    "* $R^2$ (Coefficient of the determination)"
   ]
  },
  {
   "cell_type": "markdown",
   "metadata": {
    "_cell_guid": "16fcb446-a423-476b-91f8-92fc8c341bb6",
    "_uuid": "d5dd327e-f671-49bc-848b-37a168603b6d"
   },
   "source": [
    "\n",
    "\n",
    "The evaluation metrics often named in such a way that I find it confusing to remember. So, this is a guide for me and everyone else who is reading it. There are many evaluation metrics. Let's name a few of them. \n",
    "\n",
    "It may seem confusing with multiple similar abbreviations, but once we focus on what they each do, things will become much more intuitive. For now, I am going to dive right into the $R^2$.\n",
    "\n",
    "# $R^2$(The \"Coefficient of determination\"): \n",
    "> $R^2$ describes the proportion of variance of the dependent variable explained by the regression model. Let's write the equation for $R^2$. \n",
    "\n",
    "# $$ \\operatorname{R^2} = \\frac{SSR}{SST} $$\n",
    "\n",
    "Here,\n",
    "\n",
    "* SST(Sum of the Total Squared Error) is the total residual. It is also known as TSS(Total Sum of the Squared Error)\n",
    "* SSR(Sum of the Squared Regression) is the residual explained by the regression line. SSR is also known as ESS(Explained Sum of the Squared Error)\n",
    "\n",
    "and\n",
    "\n",
    "* SSE(Sum of the Squared Error)/RSS(Residual Sum of the Squared Error)\n",
    "Let's break these down. \n",
    "\n",
    "## SST/TSS:\n",
    "SST is the sum of the squared distance from all points to average line ( $\\bar{y}$ ). We call this the **total variation** in the Y's of the **Total Sum of the Squares(SST).** Let's see it in the function. \n",
    "### $$ \\operatorname{SST} = \\sum_{i=1}^n \\left(y_i - \\bar{y}\\right)^2 $$\n",
    "\n",
    "Here\n",
    "* $y_i$ = Each observed data point. \n",
    "* $\\bar{y}$ = Mean of y value.\n",
    "* $\\hat{y_i}$ = Predicted data point for each $x_i$ depending on i. \n",
    "\n",
    "A visualization would make things much more clear.\n",
    "![](http://blog.hackerearth.com/wp-content/uploads/2016/12/anat.png)\n",
    " \n",
    "In this visualization above, the light green line is the <font color=\"green\"><b>average line</b></font> and the black dot is the observed value. So, SST describes the distance between the black dot and the <font color=\"green\"><b>average line</b></font>.\n",
    "\n",
    "\n",
    "## SSR/ESS:\n",
    "SSR is the sum of the squared residual between each predicted value and the average line. In statistics language we say that, SSR is the squared residual explained by the regression line. In the visualization above SSR is the distance from <font color='green'><b>baseline model</b></font> to the <font color = 'blue'><b>regression line.</b></font> \n",
    "### $$ SSR = \\sum_{i=1}^n \\left(\\hat{y_i} - \\bar{y}\\right)^2 $$\n",
    "\n",
    "## SSE/RSS: \n",
    "RSS is calculated by squaring each residual of the data points and then adding them together. This residual is the difference between the predicted line and the observed value. In statistics language, we say, SSE is the squared residual that was not explained by the regression line, and this is the quantity least-square minimizes. In the chart above SSE is the distance of the actual data point from the <font color = 'blue'><b>regression line</b></font>. \n",
    "\n",
    "### $$ SSE = \\sum_{i=1}^n \\left(y_i - \\hat{y}_i\\right)^2 $$\n",
    "\n",
    "And the relation between all three of these metrics is\n",
    "## $$SST = SSR + SSE$$\n",
    "\n",
    "\n",
    "From the equation above and the $R^2$ equation from the top we can modify the $R^2$ equation as the following\n",
    "# $$ R^2 = 1 - \\frac{SSE}{SST} $$\n",
    "\n",
    "## More on $R^2$: \n",
    "* $R^2$ is matric with a value between 0 and 1. \n",
    "* If the points are perfectly linear, then error sum of squares is 0, In that case, SSR = SST. Which means the variation in the Y's is completely explained by the regression line causing the value of $R^2$ to be close to 1. \n",
    "* In other extreme cases, when there is no relation between x and y, hence SSR = 0 and therefore SSE = SST, The regression line explains none of the variances in Y causing $R^2$ to be close to 0.\n",
    "* $R^2$ measures the explanatory power of the model; The more of the variance in the dependent variable(Y) the model can explain, the more powerful it is.\n",
    "* $R^2$ can be infinitely negative as well. Having a negative indicates that the predictive equation has a greater error than the baseline model.\n",
    "* The value of $R^2$ increases as more feature gets added despite the effectiveness of those features in the model.\n",
    "* This is a problem, since we may think that having a greater $R^2$ means a better model, even though the model didnot actually improved. In order to get around this we use Adjusted R-Squared($R^2_{adj}$)\n",
    "\n",
    "**Adjusted R-Squared($R^2_{adj}$)**: \n",
    "\n",
    "$R^2_{adj}$ is similar to $R^2$. However, the value of$R^2_{adj}$ decreases if we use a feature that doesn't improve the model significantly. Let's write the equation for $R^2_{adj}$. \n",
    "\n",
    "## $$ {R^2_{adj}} = 1 - [\\frac{(1 - R^2)(n-1)}{(n-k-1)}]$$\n",
    "\n",
    "here, \n",
    "* n = # of datapoints. \n",
    "* k = # of feature used. \n",
    "\n",
    "As you can see from the equation, the increase of k(feature) in the denumerator penilizes the adjusted $R^2$ value if there is not a significant improvement of $R^2$ in the numerator.  "
   ]
  },
  {
   "cell_type": "markdown",
   "metadata": {},
   "source": [
    "### The following part is a work in progress!!\n",
    "\n",
    "So, from the Evaluation section above, we know that, \n",
    "### $$ RSS = \\sum_{i=1}^n \\left(y_i - \\hat{y}_i\\right)^2 $$\n",
    "\n",
    "And, we already know ...\n",
    "## $$ \\hat{y} = \\beta_0 + \\beta_1 x + \\epsilon \\\\ $$\n",
    "\n",
    "Let's plug in( $\\hat{Y}$  ) equation in the RSS equation and we get...\n",
    "$$RSS = \\sum_{i=1}^n \\left(y_i - \\left(\\beta_0 + \\sum_{j=1}^p\\beta_j x_j\\right)\\right)^2 $$\n",
    "\n",
    "This equation is also known as the loss function. Here, **\"loss\"** is the sum of squared residuals(More on this later). \n",
    "\n",
    "### Mean Squared Error\n",
    "Now let's get back to our naive prediction and calculate the **Mean squared error**, which is also a metrics similar to RSS, helps us determine how well our model is performing. In **Mean squared error** we subtract the mean of y from each y datapoints and square them. \n"
   ]
  },
  {
   "cell_type": "markdown",
   "metadata": {
    "_cell_guid": "a8442848-67a0-4deb-81dd-01b2595e4aea",
    "_uuid": "4d8a6d33-f6da-4c7b-b2dc-94c11eaab141"
   },
   "source": [
    "If you would like to improve this result further, you can think about the assumptions of the linear regressions and apply them as we have discussed earlier in this kernel. \n",
    "\n",
    "\n",
    "Similar to **Simple Linear Regression**, there is an equation for multiple independent variables to predict a target variable. The equation is as follows.\n",
    "\n",
    "## $$ \\hat{y} = \\beta_0 + \\beta_1 x_1 + \\beta_2 x_2 + ... + \\beta_n x_n $$\n",
    "\n",
    "Here, We already know parts of the equation, and from there we can keep adding new features and their coefficients with the equations. Quite simple, isn't it. \n",
    "\n",
    "We can have a target variable predicted by multiple independent variables using this equation. Therefore this equation is called **Multiple Linear Regression.** Let's try this regression in the housing dataset.\n"
   ]
  },
  {
   "cell_type": "code",
   "execution_count": null,
   "metadata": {
    "_cell_guid": "e775375a-41ce-4eac-af54-cc4bba559a0a",
    "_uuid": "14e49d02-e638-4ad9-933a-c717640ad40c"
   },
   "outputs": [],
   "source": [
    "## importing necessary models.\n",
    "from sklearn.linear_model import LinearRegression\n",
    "from sklearn.metrics import mean_squared_error, mean_absolute_error\n",
    "\n",
    "## Call in the LinearRegression object\n",
    "lin_reg = LinearRegression(normalize=True, n_jobs=-1)\n",
    "## fit train and test data. \n",
    "lin_reg.fit(X_train, y_train)\n",
    "## Predict test data. \n",
    "y_pred = lin_reg.predict(X_test)"
   ]
  },
  {
   "cell_type": "code",
   "execution_count": null,
   "metadata": {
    "_cell_guid": "77b05a54-3dc8-4fca-b5de-a6cb9e086d1a",
    "_uuid": "37e3bdd8-9d5b-4607-bf03-ac503375965d"
   },
   "outputs": [],
   "source": [
    "## get average squared error(MSE) by comparing predicted values with real values. \n",
    "print ('%.2f'%mean_squared_error(y_test, y_pred))"
   ]
  },
  {
   "cell_type": "markdown",
   "metadata": {
    "_cell_guid": "aba4c965-e775-4169-9ed1-8e9fc1a29763",
    "_uuid": "ac2b1124-b717-4433-9bd0-230def32b3e7"
   },
   "source": [
    "## Using cross validation."
   ]
  },
  {
   "cell_type": "code",
   "execution_count": null,
   "metadata": {
    "_cell_guid": "3a62b913-b7f4-4a2e-a8c6-23ae09ee3d60",
    "_uuid": "68431319-0817-4128-87a3-24ff2d2ff831"
   },
   "outputs": [],
   "source": [
    "from sklearn.linear_model import LinearRegression\n",
    "from sklearn.model_selection import StratifiedKFold, cross_val_score, KFold\n",
    "lin_reg = LinearRegression()\n",
    "cv = KFold(shuffle=True, random_state=2, n_splits=10)\n",
    "scores = cross_val_score(lin_reg, X,y,cv = cv, scoring = 'neg_mean_absolute_error')"
   ]
  },
  {
   "cell_type": "code",
   "execution_count": null,
   "metadata": {
    "_cell_guid": "4d0a19f9-9faf-4649-8c33-5e13a0895c6d",
    "_uuid": "20ef15bd-b7ef-41a2-847a-fa66081d48cd"
   },
   "outputs": [],
   "source": [
    "print ('%.8f'%scores.mean())"
   ]
  },
  {
   "cell_type": "markdown",
   "metadata": {
    "_cell_guid": "a269c027-c91a-4cf3-afd9-8e8084d0e170",
    "_uuid": "bd38aeb7-78c7-44e6-8a62-4700438a5666"
   },
   "source": [
    " This way of model fitting above is probably the simplest way to construct a machine learning model. However, Let's dive deep into some more complex regression. \n",
    "\n",
    "### Regularization Models\n",
    "What makes regression model more effective is its ability of *regularizing*. The term \"regularizing\" stands for models ability **to structurally prevent overfitting by imposing a penalty on the coefficients.** \n",
    "\n",
    "\n",
    "There are three types of regularizations. \n",
    "* **Ridge**\n",
    "* **Lasso**\n",
    "* **Elastic Net**\n",
    "\n",
    "These regularization methods work by penalizing **the magnitude of the coefficients of features** and at the same time **minimizing the error between the predicted value and actual observed values**.  This minimization becomes a balance between the error (the difference between the predicted value and observed value) and the size of the coefficients. The only difference between Ridge and Lasso is **the way they penalize the coefficients.** Elastic Net is the combination of these two. **Elastic Net** adds both the sum of the squares errors and the absolute value of the squared error. To get more in-depth of it, let us review the least squared loss function. \n",
    "\n",
    "**Ordinary least squared** loss function minimizes the residual sum of the square(RSS) to fit the data:\n",
    "\n",
    "### $$ \\text{minimize:}\\; RSS = \\sum_{i=1}^n (y_i - \\hat{y}_i)^2 = \\sum_{i=1}^n \\left(y_i - \\left(\\beta_0 + \\sum_{j=1}^p\\beta_j x_j\\right)\\right)^2 $$\n",
    "\n",
    "Let's review this equation once again, Here: \n",
    "* $y_i$ is the observed value. \n",
    "* $\\hat{y}_i$ is the predicted value. \n",
    "* The error = $y_i$ - $\\hat{y}_i$\n",
    "* The square of the error = $(y_i - \\hat{y}_i)^2$\n",
    "* The sum of the square of the error = $\\sum_{i=1}^n (y_i - \\hat{y}_i)^2$, that's the equation on the left. \n",
    "* The only difference between left sides equation vs. the right sides one above is the replacement of $\\hat{y}_i$, it is replaced by $\\left(\\beta_0 + \\sum_{j=1}^p\\beta_j x_j\\right)$, which simply follow's the slope equation, y = mx+b, where, \n",
    "* $\\beta_0$ is the intercept. \n",
    "* **$\\beta_j$ is the coefficient of the feature($x_j$).**\n",
    "\n",
    "Let's describe the effect of regularization and then we will learn how we can use loss function in Ridge.\n",
    "* One of the benefits of regularization is that it deals with **multicollinearity**(high correlation between predictor variables) well, especially Ridge method. Lasso deals with **multicollinearity** more brutally by penalizing related coefficients and force them to become zero, hence removing them. However, **Lasso** is well suited for redundant variables. \n",
    " \n",
    "***\n",
    "<div>\n",
    "    \n",
    " ### Ridge:\n",
    "Ridge regression adds penalty equivalent to the square of the magnitude of the coefficients. This penalty is added to the least square loss function above and looks like this...\n",
    "\n",
    "### $$ \\text{minimize:}\\; RSS+Ridge = \\sum_{i=1}^n \\left(y_i - \\left(\\beta_0 + \\sum_{j=1}^p\\beta_j x_j\\right)\\right)^2 + \\lambda_2\\sum_{j=1}^p \\beta_j^2$$\n",
    "\n",
    "Here, \n",
    "* $\\lambda_2$ is constant; a regularization parameter. It is also known as $\\alpha$. The higher the value of this constant the more the impact in the loss function. \n",
    "    * When $\\lambda_2$ is 0, the loss funciton becomes same as simple linear regression. \n",
    "    * When $\\lambda_2$ is $\\infty$, the coefficients become 0\n",
    "    * When $\\lambda_2$ is between  0 and $\\infty$(0<$\\lambda_2$<$\\infty$), The $\\lambda_2$ parameter will decide the miagnitude given to the coefficients. The coefficients will be somewhere between 0 and ones for simple linear regression. \n",
    "* $\\sum_{j=1}^p \\beta_j^2$, is the squared sum of all coefficients. \n",
    "\n",
    "Now that we know every nitty-gritty details about this equation, let's use it for science, but before that a couple of things to remember. \n",
    "* It is essential to standardize the predictor variables before constructing the models. \n",
    "* It is important to check for multicollinearity,"
   ]
  },
  {
   "cell_type": "code",
   "execution_count": null,
   "metadata": {
    "_cell_guid": "7474df38-f92b-4433-8383-7f7cd0f85900",
    "_uuid": "4a684acb-8738-4c8b-b16a-beff2633408f"
   },
   "outputs": [],
   "source": [
    "## Importing Ridge. \n",
    "from sklearn.linear_model import Ridge\n",
    "from sklearn.metrics import mean_absolute_error, mean_squared_error\n",
    "## Assiging different sets of alpha values to explore which can be the best fit for the model. \n",
    "alpha_ridge = [-3,-2,-1,1e-15, 1e-10, 1e-8,1e-5,1e-4, 1e-3,1e-2,0.5,1,1.5, 2,3,4, 5, 10, 20, 30, 40]\n",
    "temp_rss = {}\n",
    "temp_mse = {}\n",
    "for i in alpha_ridge:\n",
    "    ## Assigin each model. \n",
    "    ridge = Ridge(alpha= i, normalize=True)\n",
    "    ## fit the model. \n",
    "    ridge.fit(X_train, y_train)\n",
    "    ## Predicting the target value based on \"Test_x\"\n",
    "    y_pred = ridge.predict(X_test)\n",
    "\n",
    "    mse = mean_squared_error(y_test, y_pred)\n",
    "    rss = sum((y_pred-y_test)**2)\n",
    "    temp_mse[i] = mse\n",
    "    temp_rss[i] = rss"
   ]
  },
  {
   "cell_type": "code",
   "execution_count": null,
   "metadata": {},
   "outputs": [],
   "source": [
    "for key, value in sorted(temp_mse.items(), key=lambda item: item[1]):\n",
    "    print(\"%s: %s\" % (key, value))"
   ]
  },
  {
   "cell_type": "code",
   "execution_count": null,
   "metadata": {
    "_cell_guid": "573cb486-81e8-479f-b4f0-b50e0e37a42c",
    "_uuid": "6c29868d-f5f7-4a94-a7c2-8121e7b705df"
   },
   "outputs": [],
   "source": [
    "for key, value in sorted(temp_rss.items(), key=lambda item: item[1]):\n",
    "    print(\"%s: %s\" % (key, value))"
   ]
  },
  {
   "cell_type": "markdown",
   "metadata": {
    "_cell_guid": "8e854757-442d-443f-a5cf-7c80f827f5d5",
    "_uuid": "84dbd523-83f2-416b-ae42-b9c2498b0f9f"
   },
   "source": [
    "### Lasso:\n",
    "Lasso adds penalty equivalent to the absolute value of the sum of coefficients. This penalty is added to the least square loss function and replaces the squared sum of coefficients from Ridge. \n",
    "\n",
    "## $$ \\text{minimize:}\\; RSS + Lasso = \\sum_{i=1}^n \\left(y_i - \\left(\\beta_0 + \\sum_{j=1}^p\\beta_j x_j\\right)\\right)^2 + \\lambda_1\\sum_{j=1}^p |\\beta_j|$$\n",
    "\n",
    "Here, \n",
    "* $\\lambda_2$ is a constant similar to the Ridge function. \n",
    "* $\\sum_{j=1}^p |\\beta_j|$ is the absolute sum of the coefficients."
   ]
  },
  {
   "cell_type": "code",
   "execution_count": null,
   "metadata": {
    "_cell_guid": "e0551803-7821-451f-918c-d55ed20afa60",
    "_uuid": "e22b2732-316b-4d72-85c3-5c97cc646ab3"
   },
   "outputs": [],
   "source": [
    "from sklearn.linear_model import Lasso \n",
    "temp_rss = {}\n",
    "temp_mse = {}\n",
    "for i in alpha_ridge:\n",
    "    ## Assigin each model. \n",
    "    lasso_reg = Lasso(alpha= i, normalize=True)\n",
    "    ## fit the model. \n",
    "    lasso_reg.fit(X_train, y_train)\n",
    "    ## Predicting the target value based on \"Test_x\"\n",
    "    y_pred = lasso_reg.predict(X_test)\n",
    "\n",
    "    mse = mean_squared_error(y_test, y_pred)\n",
    "    rss = sum((y_pred-y_test)**2)\n",
    "    temp_mse[i] = mse\n",
    "    temp_rss[i] = rss"
   ]
  },
  {
   "cell_type": "code",
   "execution_count": null,
   "metadata": {
    "_cell_guid": "b3fc125a-a123-40b7-a9fa-2edfc862eabd",
    "_uuid": "f4fe3ca1-38b5-49f4-86b0-3273e1957ad2"
   },
   "outputs": [],
   "source": [
    "for key, value in sorted(temp_mse.items(), key=lambda item: item[1]):\n",
    "    print(\"%s: %s\" % (key, value))"
   ]
  },
  {
   "cell_type": "code",
   "execution_count": null,
   "metadata": {},
   "outputs": [],
   "source": [
    "for key, value in sorted(temp_rss.items(), key=lambda item: item[1]):\n",
    "    print(\"%s: %s\" % (key, value))"
   ]
  },
  {
   "cell_type": "markdown",
   "metadata": {
    "_cell_guid": "075a8d6e-5bf9-494e-a81a-87e38137ca9a",
    "_uuid": "6dc8c884-4812-432b-8460-58516eaac350"
   },
   "source": [
    "### Elastic Net: \n",
    "Elastic Net is the combination of both Ridge and Lasso. It adds both the sum of squared coefficients and the absolute sum of the coefficients with the ordinary least square function. Let's look at the function. \n",
    "\n",
    "### $$ \\text{minimize:}\\; RSS + Ridge + Lasso = \\sum_{i=1}^n \\left(y_i - \\left(\\beta_0 + \\sum_{j=1}^p\\beta_j x_j\\right)\\right)^2 + \\lambda_1\\sum_{j=1}^p |\\beta_j| + \\lambda_2\\sum_{j=1}^p \\beta_j^2$$\n",
    "\n",
    "This equation is pretty self-explanatory if you have been following this kernel so far."
   ]
  },
  {
   "cell_type": "code",
   "execution_count": null,
   "metadata": {},
   "outputs": [],
   "source": [
    "from sklearn.linear_model import ElasticNet\n",
    "temp_rss = {}\n",
    "temp_mse = {}\n",
    "for i in alpha_ridge:\n",
    "    ## Assigin each model. \n",
    "    lasso_reg = ElasticNet(alpha= i, normalize=True)\n",
    "    ## fit the model. \n",
    "    lasso_reg.fit(X_train, y_train)\n",
    "    ## Predicting the target value based on \"Test_x\"\n",
    "    y_pred = lasso_reg.predict(X_test)\n",
    "\n",
    "    mse = mean_squared_error(y_test, y_pred)\n",
    "    rss = sum((y_pred-y_test)**2)\n",
    "    temp_mse[i] = mse\n",
    "    temp_rss[i] = rss"
   ]
  },
  {
   "cell_type": "code",
   "execution_count": null,
   "metadata": {},
   "outputs": [],
   "source": [
    "for key, value in sorted(temp_mse.items(), key=lambda item: item[1]):\n",
    "    print(\"%s: %s\" % (key, value))"
   ]
  },
  {
   "cell_type": "code",
   "execution_count": null,
   "metadata": {},
   "outputs": [],
   "source": [
    "for key, value in sorted(temp_rss.items(), key=lambda item: item[1]):\n",
    "    print(\"%s: %s\" % (key, value))"
   ]
  },
  {
   "cell_type": "markdown",
   "metadata": {},
   "source": [
    "# Fitting model (Advanced approach)"
   ]
  },
  {
   "cell_type": "code",
   "execution_count": null,
   "metadata": {},
   "outputs": [],
   "source": [
    "kfolds = KFold(n_splits=10, shuffle=True, random_state=42)\n",
    "\n",
    "def rmsle(y, y_pred):\n",
    "    return np.sqrt(mean_squared_error(y, y_pred))\n",
    "\n",
    "def cv_rmse(model, X=X):\n",
    "    rmse = np.sqrt(-cross_val_score(model, X, y, scoring=\"neg_mean_squared_error\", cv=kfolds))\n",
    "    return (rmse)"
   ]
  },
  {
   "cell_type": "code",
   "execution_count": null,
   "metadata": {},
   "outputs": [],
   "source": [
    "alphas_alt = [14.5, 14.6, 14.7, 14.8, 14.9, 15, 15.1, 15.2, 15.3, 15.4, 15.5]\n",
    "alphas2 = [5e-05, 0.0001, 0.0002, 0.0003, 0.0004, 0.0005, 0.0006, 0.0007, 0.0008]\n",
    "e_alphas = [0.0001, 0.0002, 0.0003, 0.0004, 0.0005, 0.0006, 0.0007]\n",
    "e_l1ratio = [0.8, 0.85, 0.9, 0.95, 0.99, 1]"
   ]
  },
  {
   "cell_type": "code",
   "execution_count": null,
   "metadata": {},
   "outputs": [],
   "source": [
    "ridge = make_pipeline(RobustScaler(), RidgeCV(alphas=alphas_alt, cv=kfolds))\n",
    "lasso = make_pipeline(RobustScaler(), LassoCV(max_iter=1e7, alphas=alphas2, random_state=42, cv=kfolds))\n",
    "elasticnet = make_pipeline(RobustScaler(), ElasticNetCV(max_iter=1e7, alphas=e_alphas, cv=kfolds, l1_ratio=e_l1ratio))                                \n",
    "svr = make_pipeline(RobustScaler(), SVR(C= 20, epsilon= 0.008, gamma=0.0003,))"
   ]
  },
  {
   "cell_type": "code",
   "execution_count": null,
   "metadata": {},
   "outputs": [],
   "source": [
    "gbr = GradientBoostingRegressor(n_estimators=3000, learning_rate=0.05, max_depth=4, max_features='sqrt', min_samples_leaf=15, min_samples_split=10, loss='huber', random_state =42)                             "
   ]
  },
  {
   "cell_type": "code",
   "execution_count": null,
   "metadata": {},
   "outputs": [],
   "source": [
    "lightgbm = LGBMRegressor(objective='regression', \n",
    "                                       num_leaves=4,\n",
    "                                       learning_rate=0.01, \n",
    "                                       n_estimators=5000,\n",
    "                                       max_bin=200, \n",
    "                                       bagging_fraction=0.75,\n",
    "                                       bagging_freq=5, \n",
    "                                       bagging_seed=7,\n",
    "                                       feature_fraction=0.2,\n",
    "                                       feature_fraction_seed=7,\n",
    "                                       verbose=-1,\n",
    "                                       )"
   ]
  },
  {
   "cell_type": "code",
   "execution_count": null,
   "metadata": {},
   "outputs": [],
   "source": [
    "xgboost = XGBRegressor(learning_rate=0.01,n_estimators=3460,\n",
    "                                     max_depth=3, min_child_weight=0,\n",
    "                                     gamma=0, subsample=0.7,\n",
    "                                     colsample_bytree=0.7,\n",
    "                                     objective='reg:linear', nthread=-1,\n",
    "                                     scale_pos_weight=1, seed=27,\n",
    "                                     reg_alpha=0.00006)"
   ]
  },
  {
   "cell_type": "code",
   "execution_count": null,
   "metadata": {},
   "outputs": [],
   "source": [
    "stack_gen = StackingCVRegressor(regressors=(ridge, lasso, elasticnet, xgboost, lightgbm),\n",
    "                                meta_regressor=xgboost,\n",
    "                                use_features_in_secondary=True)"
   ]
  },
  {
   "cell_type": "code",
   "execution_count": null,
   "metadata": {},
   "outputs": [],
   "source": [
    "score = cv_rmse(stack_gen)\n",
    "print(\"Stack: {:.4f} ({:.4f})\\n\".format(score.mean(), score.std()), datetime.now(), )"
   ]
  },
  {
   "cell_type": "code",
   "execution_count": null,
   "metadata": {},
   "outputs": [],
   "source": [
    "score = cv_rmse(ridge)\n",
    "print(\"Ridge: {:.4f} ({:.4f})\\n\".format(score.mean(), score.std()), datetime.now(), )\n",
    "\n",
    "score = cv_rmse(lasso)\n",
    "print(\"LASSO: {:.4f} ({:.4f})\\n\".format(score.mean(), score.std()), datetime.now(), )\n",
    "\n",
    "score = cv_rmse(elasticnet)\n",
    "print(\"elastic net: {:.4f} ({:.4f})\\n\".format(score.mean(), score.std()), datetime.now(), )\n",
    "\n",
    "score = cv_rmse(svr)\n",
    "print(\"SVR: {:.4f} ({:.4f})\\n\".format(score.mean(), score.std()), datetime.now(), )\n",
    "\n",
    "score = cv_rmse(lightgbm)\n",
    "print(\"lightgbm: {:.4f} ({:.4f})\\n\".format(score.mean(), score.std()), datetime.now(), )\n",
    "\n",
    "# score = cv_rmse(gbr)\n",
    "# print(\"gbr: {:.4f} ({:.4f})\\n\".format(score.mean(), score.std()), datetime.now(), )\n",
    "\n",
    "score = cv_rmse(xgboost)\n",
    "print(\"xgboost: {:.4f} ({:.4f})\\n\".format(score.mean(), score.std()), datetime.now(), )"
   ]
  },
  {
   "cell_type": "code",
   "execution_count": null,
   "metadata": {},
   "outputs": [],
   "source": [
    "print('START Fit')\n",
    "\n",
    "print('stack_gen')\n",
    "stack_gen_model = stack_gen.fit(np.array(X), np.array(y))\n",
    "\n",
    "print('elasticnet')\n",
    "elastic_model_full_data = elasticnet.fit(X, y)\n",
    "\n",
    "print('Lasso')\n",
    "lasso_model_full_data = lasso.fit(X, y)\n",
    "\n",
    "print('Ridge') \n",
    "ridge_model_full_data = ridge.fit(X, y)\n",
    "\n",
    "print('Svr')\n",
    "svr_model_full_data = svr.fit(X, y)\n",
    "\n",
    "# print('GradientBoosting')\n",
    "# gbr_model_full_data = gbr.fit(X, y)\n",
    "\n",
    "print('xgboost')\n",
    "xgb_model_full_data = xgboost.fit(X, y)\n",
    "\n",
    "print('lightgbm')\n",
    "lgb_model_full_data = lightgbm.fit(X, y)"
   ]
  },
  {
   "cell_type": "markdown",
   "metadata": {},
   "source": [
    "# Blending Models"
   ]
  },
  {
   "cell_type": "code",
   "execution_count": null,
   "metadata": {},
   "outputs": [],
   "source": [
    "1.0 * elastic_model_full_data.predict(X)"
   ]
  },
  {
   "cell_type": "code",
   "execution_count": null,
   "metadata": {},
   "outputs": [],
   "source": [
    "def blend_models_predict(X):\n",
    "    return ((0.1 * elastic_model_full_data.predict(X)) + \\\n",
    "            (0.05 * lasso_model_full_data.predict(X)) + \\\n",
    "            (0.2 * ridge_model_full_data.predict(X)) + \\\n",
    "            (0.1 * svr_model_full_data.predict(X)) + \\\n",
    "#             (0.1 * gbr_model_full_data.predict(X)) + \\\n",
    "            (0.15 * xgb_model_full_data.predict(X)) + \\\n",
    "            (0.1 * lgb_model_full_data.predict(X)) + \\\n",
    "            (0.3 * stack_gen_model.predict(np.array(X))))"
   ]
  },
  {
   "cell_type": "code",
   "execution_count": null,
   "metadata": {},
   "outputs": [],
   "source": [
    "print('RMSLE score on train data:')\n",
    "print(rmsle(y, blend_models_predict(X)))"
   ]
  },
  {
   "cell_type": "code",
   "execution_count": null,
   "metadata": {},
   "outputs": [],
   "source": [
    "print('Predict submission')\n",
    "submission = pd.read_csv(\"../input/house-prices-advanced-regression-techniques/sample_submission.csv\")\n",
    "submission.iloc[:,1] = np.floor(np.expm1(blend_models_predict(X_sub)))"
   ]
  },
  {
   "cell_type": "code",
   "execution_count": null,
   "metadata": {},
   "outputs": [],
   "source": [
    "print('Blend with Top Kernels submissions\\n')\n",
    "sub_1 = pd.read_csv('../input/top-house-price-kernel-predictions/blending_high_scores_top_1_8th_place.csv')\n",
    "sub_2 = pd.read_csv('../input/top-house-price-kernel-predictions/house_prices_ensemble_7models.csv')\n",
    "sub_3 = pd.read_csv('../input/top-house-price-kernel-predictions/blend_and_stack_LR.csv')\n",
    "submission.iloc[:,1] = np.floor((0.25 * np.floor(np.expm1(blend_models_predict(X_sub)))) + \n",
    "                                (0.25 * sub_1.iloc[:,1]) + \n",
    "                                (0.25 * sub_2.iloc[:,1]) + \n",
    "                                (0.25 * sub_3.iloc[:,1]))"
   ]
  },
  {
   "cell_type": "markdown",
   "metadata": {},
   "source": [
    "# Submission"
   ]
  },
  {
   "cell_type": "code",
   "execution_count": null,
   "metadata": {},
   "outputs": [],
   "source": [
    "q1 = submission['SalePrice'].quantile(0.005)\n",
    "q2 = submission['SalePrice'].quantile(0.995)\n",
    "submission['SalePrice'] = submission['SalePrice'].apply(lambda x: x if x > q1 else x*0.77)\n",
    "submission['SalePrice'] = submission['SalePrice'].apply(lambda x: x if x < q2 else x*1.1)\n",
    "submission.to_csv(\"submission.csv\", index=False)"
   ]
  },
  {
   "cell_type": "markdown",
   "metadata": {
    "_cell_guid": "7b852bfd-689a-4876-9155-577466a23028",
    "_uuid": "e558d19f-b87d-4717-ac04-f5e3d087bb78"
   },
   "source": [
    "## Resources & Credits. \n",
    "* To GA where I started my data science journey.\n",
    "* To Kaggle community for inspiring me over and over again with all the resources I need. \n",
    "* [Types of Standard Deviation](https://statistics.laerd.com/statistical-guides/measures-of-spread-standard-deviation.php)\n",
    "* [What is Regression](https://www.youtube.com/watch?v=aq8VU5KLmkY)"
   ]
  },
  {
   "cell_type": "markdown",
   "metadata": {
    "_cell_guid": "fa6ec9ea-28bb-4ce3-a62e-289d9bc4445b",
    "_uuid": "111e2ffc-fe85-4142-932a-76d81148e307"
   },
   "source": [
    "***\n",
    "If you like to discuss any other projects or just have a chat about data science topics, I'll be more than happy to connect with you on:\n",
    "\n",
    "<b><a href=\"https://www.linkedin.com/in/masumrumi/\">LinkedIn</a></b>\n",
    "\n",
    "**LinkedIn:** https://www.linkedin.com/in/masumrumi/ \n",
    "\n",
    "**My Website:** http://masumrumi.com/ \n",
    "\n",
    "*** This kernel will always be a work in progress. I will incorporate new concepts of data science as I comprehend them with each update. If you have any idea/suggestions about this notebook, please let me know. Any feedback about further improvements would be genuinely appreciated.***\n",
    "***\n",
    "### If you have come this far, Congratulations!!\n",
    "\n",
    "### If this notebook helped you in any way or you liked it, please upvote and/or leave a comment!! :) "
   ]
  }
 ],
 "metadata": {
  "kernelspec": {
   "display_name": "Python 3",
   "language": "python",
   "name": "python3"
  },
  "language_info": {
   "codemirror_mode": {
    "name": "ipython",
    "version": 3
   },
   "file_extension": ".py",
   "mimetype": "text/x-python",
   "name": "python",
   "nbconvert_exporter": "python",
   "pygments_lexer": "ipython3",
   "version": "3.7.6"
  }
 },
 "nbformat": 4,
 "nbformat_minor": 1
}
