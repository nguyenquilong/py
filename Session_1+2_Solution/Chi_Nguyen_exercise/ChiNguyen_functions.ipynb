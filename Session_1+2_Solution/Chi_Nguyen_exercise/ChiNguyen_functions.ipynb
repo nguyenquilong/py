{
 "cells": [
  {
   "cell_type": "code",
   "execution_count": 11,
   "metadata": {},
   "outputs": [
    {
     "name": "stdout",
     "output_type": "stream",
     "text": [
      "3\n",
      "0\n",
      "4\n"
     ]
    }
   ],
   "source": [
    "def count_even_numbers(numbers):\n",
    "    count = 0\n",
    "    for num in numbers:\n",
    "        if num % 2 == 0:\n",
    "            count += 1\n",
    "    return count\n",
    "\n",
    "print (count_even_numbers([1, 2, 3, 4, 5, 6]))\n",
    "print (count_even_numbers([1, 3, 5, 7]))\n",
    "print (count_even_numbers([-2, 2, -10, 8]))"
   ]
  },
  {
   "cell_type": "code",
   "execution_count": 68,
   "metadata": {},
   "outputs": [],
   "source": [
    "WANTED_PEOPLE = ['John Doe', 'Clint Eastwood', 'Chuck Norris']\n",
    "wanted = list()\n",
    "def find_wanted_people(people):\n",
    "    for names in people:\n",
    "        if names in WANTED_PEOPLE:\n",
    "            wanted.append(names)\n",
    "    return wanted\n",
    "       \n",
    "people_to_check1 = ['Donald Duck', 'Clint Eastwood', 'John Doe', 'Barack Obama']\n",
    "wanted1 = find_wanted_people(people_to_check1)\n",
    "\n",
    "people_to_check2 = ['Donald Duck', 'Mickey Mouse', 'Zorro', 'Superman', 'Robin Hood']\n",
    "wanted2 = find_wanted_people(people_to_check2)\n",
    "\n",
    "\n"
   ]
  },
  {
   "cell_type": "code",
   "execution_count": 90,
   "metadata": {},
   "outputs": [
    {
     "data": {
      "text/plain": [
       "0.0"
      ]
     },
     "execution_count": 90,
     "metadata": {},
     "output_type": "execute_result"
    }
   ],
   "source": [
    "\n",
    "def  average_length_of_words(words):\n",
    "    numbers = 0\n",
    "    for i in words:\n",
    "      if i == ' ':\n",
    "        numbers += 1\n",
    "    sum = len(words) - numbers \n",
    "    average = sum / (numbers + 1) \n",
    "    return round(average, 1)\n",
    "    \n",
    "average_length_of_words('only four lett erwo rdss') \n",
    "average_length_of_words('one two three')\n",
    "average_length_of_words('one two three four') \n",
    "average_length_of_words('') \n"
   ]
  },
  {
   "cell_type": "code",
   "execution_count": null,
   "metadata": {},
   "outputs": [],
   "source": []
  }
 ],
 "metadata": {
  "kernelspec": {
   "display_name": "Python 3",
   "language": "python",
   "name": "python3"
  },
  "language_info": {
   "codemirror_mode": {
    "name": "ipython",
    "version": 3
   },
   "file_extension": ".py",
   "mimetype": "text/x-python",
   "name": "python",
   "nbconvert_exporter": "python",
   "pygments_lexer": "ipython3",
   "version": "3.6.10"
  }
 },
 "nbformat": 4,
 "nbformat_minor": 4
}
