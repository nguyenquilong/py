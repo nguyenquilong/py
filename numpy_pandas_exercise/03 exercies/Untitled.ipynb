{
 "cells": [
  {
   "cell_type": "code",
   "execution_count": null,
   "metadata": {},
   "outputs": [],
   "source": [
    "import pandas as pd\n",
    "import numpy as np\n",
    "import glob\n",
    "import matplotlib.pyplot as plt\n",
    "\n",
    "txt_files = glob.glob('./Names/*.txt')\n",
    "\n",
    "# x = txt_files[1]\n",
    "year = []\n",
    "li = []\n",
    "for i in txt_files:\n",
    "    current_year = int(i[-8:-4])\n",
    "    year.append(current_year)\n",
    "    df = pd.read_csv(i, sep=',', header=None, names=['Name', 'Sex', 'Num'])\n",
    "    df[\"Year\"] = current_year\n",
    "    li.append(df)\n",
    "data = pd.concat(li, ignore_index=True)\n",
    "# x = data.groupby(['Sex', 'Year']).sum().reset_index()\n",
    "# y = x.pivot(index='Year', columns='Sex')\n",
    "# z = y.plot(figsize=(12, 6), grid=True)\n",
    "# z = y.plot(figsize=(12, 6), grid=True)\n",
    "# z\n",
    "#plt.show()\n",
    "# n = data.groupby(['Year','Sex']).apply(lambda x: x.nlargest(1000, \"Num\")[['Name', 'Num']])\n",
    "# data_1000 = data.nlargest(1000, \"Num\").reset_index()\n",
    "# d1 = data_1000.pivot(index ='Year', columns='Name')\n",
    "# data_1000\n",
    "# n.head()\n",
    "print(\"asdsdsd\")"
   ]
  },
  {
   "cell_type": "code",
   "execution_count": null,
   "metadata": {},
   "outputs": [],
   "source": []
  }
 ],
 "metadata": {
  "kernelspec": {
   "display_name": "Python 3",
   "language": "python",
   "name": "python3"
  },
  "language_info": {
   "codemirror_mode": {
    "name": "ipython",
    "version": 3
   },
   "file_extension": ".py",
   "mimetype": "text/x-python",
   "name": "python",
   "nbconvert_exporter": "python",
   "pygments_lexer": "ipython3",
   "version": "3.6.10"
  }
 },
 "nbformat": 4,
 "nbformat_minor": 4
}
