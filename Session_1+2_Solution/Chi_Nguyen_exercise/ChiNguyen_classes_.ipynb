{
 "cells": [
  {
   "cell_type": "code",
   "execution_count": 5,
   "metadata": {},
   "outputs": [],
   "source": [
    "class Calculator:\n",
    "    def __init__(self, var1, var2):\n",
    "        self.var1 = var1\n",
    "        self.var2 = var2\n",
    "    \n",
    "    def calculate_power(self):\n",
    "        return self.var1 ** self.var2\n",
    "    \n",
    "    def calculate_sum(self, var3):\n",
    "        return self.var1 + self.var2 + var3\n",
    "    "
   ]
  },
  {
   "cell_type": "code",
   "execution_count": 24,
   "metadata": {},
   "outputs": [
    {
     "data": {
      "text/plain": [
       "8"
      ]
     },
     "execution_count": 24,
     "metadata": {},
     "output_type": "execute_result"
    }
   ],
   "source": [
    "calc = Calculator(2, 3)\n",
    "calc.calculate_power ()\n",
    "calc.calculate_sum (4)"
   ]
  },
  {
   "cell_type": "code",
   "execution_count": 10,
   "metadata": {},
   "outputs": [
    {
     "name": "stdout",
     "output_type": "stream",
     "text": [
      "NOhTyp LOOc\n",
      "nohtyP looC\n"
     ]
    }
   ],
   "source": [
    "class StringManipulator():\n",
    "    \"\"\"Docstring of StringManipulator\"\"\"\n",
    "     \n",
    "        \n",
    "        \n",
    "    def __init__(self, string):\n",
    "        self.string = string\n",
    "        \n",
    "    def reverse_words(self):\n",
    "        words = self.string\n",
    "        self.string = ''.join(reversed(words))\n",
    "        return self.string\n",
    "    \n",
    "    def make_title(self):\n",
    "        self.string = self.string.lower()\n",
    "        \n",
    "    def get_manipulate(self):\n",
    "        title = self.string.replace('p', 'P')\n",
    "        title1 = title.replace('c', 'C')\n",
    "        return title1\n",
    "\n",
    "str_manip = StringManipulator('cOOL pyThON')\n",
    "print (str_manip.reverse_words())\n",
    "str_manip.make_title()\n",
    "print (str_manip.get_manipulate())\n",
    "\n",
    "\n",
    "#chua giai dc:((\n",
    "\n",
    "\n",
    "    "
   ]
  },
  {
   "cell_type": "code",
   "execution_count": 79,
   "metadata": {},
   "outputs": [
    {
     "name": "stdout",
     "output_type": "stream",
     "text": [
      "11\n"
     ]
    }
   ],
   "source": [
    "class Dog():\n",
    "    \n",
    "\n",
    "    def __init__(self, energy):\n",
    "        self.energy = energy\n",
    "        \n",
    "        \n",
    "    def sleep(self):\n",
    "        self.energy += 2\n",
    "        return self.energy\n",
    "    \n",
    "    def bark(self):\n",
    "        self.energy -= 1\n",
    "        return self.energy\n",
    "    \n",
    "    def get_energy(self):\n",
    "        return self.energy\n",
    "    \n",
    "freshdog = Dog(10)\n",
    "freshdog.bark()\n",
    "freshdog.sleep()\n",
    "print (freshdog.get_energy())\n",
    "       "
   ]
  }
 ],
 "metadata": {
  "kernelspec": {
   "display_name": "Python 3",
   "language": "python",
   "name": "python3"
  },
  "language_info": {
   "codemirror_mode": {
    "name": "ipython",
    "version": 3
   },
   "file_extension": ".py",
   "mimetype": "text/x-python",
   "name": "python",
   "nbconvert_exporter": "python",
   "pygments_lexer": "ipython3",
   "version": "3.6.10"
  }
 },
 "nbformat": 4,
 "nbformat_minor": 4
}
