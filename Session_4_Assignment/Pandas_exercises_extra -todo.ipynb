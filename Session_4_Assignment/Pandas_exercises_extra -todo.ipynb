{
 "cells": [
  {
   "cell_type": "code",
   "execution_count": null,
   "metadata": {},
   "outputs": [],
   "source": [
    "import numpy as np\n",
    "import pandas as pd"
   ]
  },
  {
   "cell_type": "markdown",
   "metadata": {},
   "source": [
    "Câu 1: Thay thế các khoảng trống bị thiếu trong một chuỗi bằng ký tự ít thường xuyên nhất."
   ]
  },
  {
   "cell_type": "code",
   "execution_count": 15,
   "metadata": {},
   "outputs": [
    {
     "name": "stdout",
     "output_type": "stream",
     "text": [
      "d    4\n",
      "b    3\n",
      "     3\n",
      "e    3\n",
      "a    2\n",
      "g    1\n",
      "c    1\n",
      "dtype: int64\n",
      "c\n"
     ]
    },
    {
     "data": {
      "text/plain": [
       "'dbccdebcabedcgade'"
      ]
     },
     "execution_count": 15,
     "metadata": {},
     "output_type": "execute_result"
    }
   ],
   "source": [
    "# Thay thế khoảng trắng trong my_str bằng ký tự ít gặp nhất.\n",
    "import numpy as np\n",
    "import pandas as pd\n",
    "\n",
    "my_str = 'dbc deb abed gade'\n",
    "se = pd.Series(list(my_str))\n",
    "freq = se.value_counts()\n",
    "print(freq)\n",
    "least_freq = freq.index[-1]\n",
    "print(least_freq)\n",
    "new_str = \"\".join(se.replace(' ', least_freq))\n",
    "new_str\n",
    "\n",
    "#freq = se.value_counts()\n",
    "#print(freq)\n",
    "# least_freq = ???.index[?]\n",
    "# \"\".???(ser.replace(' ', ???))\n",
    "\n",
    "# Gợi ý: dùng pd.Series(), value_counts(), dropna(), join()"
   ]
  },
  {
   "cell_type": "markdown",
   "metadata": {},
   "source": [
    "--------------------\n",
    "Câu 2: Lấy số hàng của giá trị lớn thứ n trong một cột."
   ]
  },
  {
   "cell_type": "code",
   "execution_count": 5,
   "metadata": {},
   "outputs": [
    {
     "name": "stdout",
     "output_type": "stream",
     "text": [
      "    a   b   c\n",
      "0  29  22   6\n",
      "1  14  14  25\n",
      "2   6   3  21\n",
      "3   5  23  18\n",
      "4  16  15  13\n",
      "5   5   1  18\n",
      "6   1  11  14\n",
      "7   5   5   5\n",
      "8  29  29   9\n",
      "9  16  11  14\n",
      "0    29\n",
      "1    14\n",
      "2     6\n",
      "3     5\n",
      "4    16\n",
      "5     5\n",
      "6     1\n",
      "7     5\n",
      "8    29\n",
      "9    16\n",
      "Name: a, dtype: int32\n",
      "[29 29 16 16 14  6  5  5  5  1]\n",
      "14\n"
     ]
    },
    {
     "data": {
      "text/plain": [
       "(array([1], dtype=int64),)"
      ]
     },
     "execution_count": 5,
     "metadata": {},
     "output_type": "execute_result"
    }
   ],
   "source": [
    "import numpy as np\n",
    "import pandas as pd\n",
    "# Tìm vị trí hàng của giá trị lớn nhất thứ 5 của cột 'a' trong df.\n",
    "\n",
    "df = pd.DataFrame(np.random.randint(1, 30, 30).reshape(10,-1), columns=list('abc'))\n",
    "\n",
    "# Nhập code của Anh/Chị bên dưới đây:\n",
    "import numpy as np\n",
    "df = pd.DataFrame(np.random.randint(1, 30, 30).reshape(10,-1), columns=list('abc'))\n",
    "print(df)\n",
    "print(df.a)\n",
    "l = list(df.a)\n",
    "x = np.array(l)\n",
    "y = np.sort(x, axis=-1)[::-1]\n",
    "print(y)\n",
    "print(y[4])\n",
    "result = np.where(df.a == y[4])\n",
    "result\n",
    "# Gợi ý: dùng argsort()"
   ]
  },
  {
   "cell_type": "markdown",
   "metadata": {},
   "source": [
    "--------------------\n",
    "Câu 3: Lấy n hàng cuối cùng của dataframe với tổng hàng > 100."
   ]
  },
  {
   "cell_type": "code",
   "execution_count": 4,
   "metadata": {},
   "outputs": [
    {
     "name": "stdout",
     "output_type": "stream",
     "text": [
      "     0   1   2   3\n",
      "0   21  32  23  15\n",
      "1   37  23  14  31\n",
      "2   37  15  38  21\n",
      "3   33  22  24  12\n",
      "4   30  11  29  28\n",
      "5   11  28  39  12\n",
      "6   38  31  20  26\n",
      "7   34  35  25  29\n",
      "8   26  24  26  35\n",
      "9   26  37  23  10\n",
      "10  32  25  28  37\n",
      "11  34  13  18  31\n",
      "12  26  36  38  32\n",
      "13  18  17  16  31\n",
      "14  35  14  20  37\n",
      "0      91\n",
      "1     105\n",
      "2     111\n",
      "3      91\n",
      "4      98\n",
      "5      90\n",
      "6     115\n",
      "7     123\n",
      "8     111\n",
      "9      96\n",
      "10    122\n",
      "11     96\n",
      "12    132\n",
      "13     82\n",
      "14    106\n",
      "dtype: int64\n",
      "(array([ 1,  2,  6,  7,  8, 10, 12, 14], dtype=int64),)\n",
      "14\n",
      "12\n",
      "0    35\n",
      "1    14\n",
      "2    20\n",
      "3    37\n",
      "Name: 14, dtype: int32\n",
      "0    26\n",
      "1    36\n",
      "2    38\n",
      "3    32\n",
      "Name: 12, dtype: int32\n"
     ]
    },
    {
     "data": {
      "text/plain": [
       "array([26, 36, 38, 32])"
      ]
     },
     "execution_count": 4,
     "metadata": {},
     "output_type": "execute_result"
    }
   ],
   "source": [
    "import numpy as np\n",
    "import pandas as pd\n",
    "# Lấy hai hàng cuối cùng của df mà có tổng hàng lớn hơn 100.\n",
    "df = pd.DataFrame(np.random.randint(10, 40, 60).reshape(-1, 4))\n",
    "\n",
    "# Tính tổng hàng\n",
    "rowsums = df.apply(np.sum, axis=1)\n",
    "\n",
    "# Nhập code của Anh/Chị bên dưới đây:\n",
    "# Trích ra hai hàng cuối có tổng > 100 từ rowsums\n",
    "df = pd.DataFrame(np.random.randint(10, 40, 60).reshape(-1, 4))\n",
    "print(df)\n",
    "rowsums = df.apply(np.sum, axis=1)\n",
    "print(rowsums)\n",
    "x = np.where(rowsums > 100)\n",
    "print(x)\n",
    "y = np.array(x)\n",
    "print(y[0][-1])\n",
    "print(y[0][-2])\n",
    "print(df.iloc[y[0][-1]])\n",
    "print(df.iloc[y[0][-2]])\n",
    "np.array(df.iloc[y[0][-1]]) \n",
    "np.array(df.iloc[y[0][-2]])\n",
    "\n",
    "# Gợi ý: dùng .iloc[], np.where()"
   ]
  },
  {
   "cell_type": "markdown",
   "metadata": {},
   "source": [
    "--------------------\n",
    "Câu 4: Tạo hàm (function) hoán đổi hai hàng của một dataframe."
   ]
  },
  {
   "cell_type": "code",
   "execution_count": 3,
   "metadata": {},
   "outputs": [
    {
     "name": "stdout",
     "output_type": "stream",
     "text": [
      "    0   1   2   3   4\n",
      "0   0   1   2   3   4\n",
      "1   5   6   7   8   9\n",
      "2  10  11  12  13  14\n",
      "3  15  16  17  18  19\n",
      "4  20  21  22  23  24\n",
      "    0   1   2   3   4\n",
      "0   0   1   2   3   4\n",
      "1  10  11  12  13  14\n",
      "2   5   6   7   8   9\n",
      "3  15  16  17  18  19\n",
      "4  20  21  22  23  24\n"
     ]
    }
   ],
   "source": [
    "# Hoán đổi hàng 1 và 2 trong df dưới đây:\n",
    "import numpy as np\n",
    "import pandas as pd\n",
    "df = pd.DataFrame(np.arange(25).reshape(5, -1))\n",
    "print(df)\n",
    "\n",
    "# Nhập code của Anh/Chị bên dưới đây:\n",
    "def swap_rows(df, i1, i2):\n",
    "    a, b = df.iloc[i1].copy(), df.iloc[i2].copy()\n",
    "    df.iloc[i1, :], df.iloc[i2, :] = b, a\n",
    "    return df\n",
    "\n",
    "print(swap_rows(df, 1, 2))\n",
    "\n",
    "# Gợi ý: dùng .iloc[], copy()"
   ]
  },
  {
   "cell_type": "markdown",
   "metadata": {},
   "source": [
    "--------------------\n",
    "Câu 5: Đảo ngược các hàng của một dataframe."
   ]
  },
  {
   "cell_type": "code",
   "execution_count": 2,
   "metadata": {},
   "outputs": [
    {
     "name": "stdout",
     "output_type": "stream",
     "text": [
      "    0   1   2   3   4\n",
      "0   0   1   2   3   4\n",
      "1   5   6   7   8   9\n",
      "2  10  11  12  13  14\n",
      "3  15  16  17  18  19\n",
      "4  20  21  22  23  24\n",
      "    0   1   2   3   4\n",
      "0   0   1   2   3   4\n",
      "1   5   6   7   8   9\n",
      "2  10  11  12  13  14\n",
      "3  15  16  17  18  19\n",
      "4  20  21  22  23  24\n",
      "RangeIndex(start=4, stop=-1, step=-1)\n"
     ]
    },
    {
     "data": {
      "text/html": [
       "<div>\n",
       "<style scoped>\n",
       "    .dataframe tbody tr th:only-of-type {\n",
       "        vertical-align: middle;\n",
       "    }\n",
       "\n",
       "    .dataframe tbody tr th {\n",
       "        vertical-align: top;\n",
       "    }\n",
       "\n",
       "    .dataframe thead th {\n",
       "        text-align: right;\n",
       "    }\n",
       "</style>\n",
       "<table border=\"1\" class=\"dataframe\">\n",
       "  <thead>\n",
       "    <tr style=\"text-align: right;\">\n",
       "      <th></th>\n",
       "      <th>0</th>\n",
       "      <th>1</th>\n",
       "      <th>2</th>\n",
       "      <th>3</th>\n",
       "      <th>4</th>\n",
       "    </tr>\n",
       "  </thead>\n",
       "  <tbody>\n",
       "    <tr>\n",
       "      <th>4</th>\n",
       "      <td>20</td>\n",
       "      <td>21</td>\n",
       "      <td>22</td>\n",
       "      <td>23</td>\n",
       "      <td>24</td>\n",
       "    </tr>\n",
       "    <tr>\n",
       "      <th>3</th>\n",
       "      <td>15</td>\n",
       "      <td>16</td>\n",
       "      <td>17</td>\n",
       "      <td>18</td>\n",
       "      <td>19</td>\n",
       "    </tr>\n",
       "    <tr>\n",
       "      <th>2</th>\n",
       "      <td>10</td>\n",
       "      <td>11</td>\n",
       "      <td>12</td>\n",
       "      <td>13</td>\n",
       "      <td>14</td>\n",
       "    </tr>\n",
       "    <tr>\n",
       "      <th>1</th>\n",
       "      <td>5</td>\n",
       "      <td>6</td>\n",
       "      <td>7</td>\n",
       "      <td>8</td>\n",
       "      <td>9</td>\n",
       "    </tr>\n",
       "    <tr>\n",
       "      <th>0</th>\n",
       "      <td>0</td>\n",
       "      <td>1</td>\n",
       "      <td>2</td>\n",
       "      <td>3</td>\n",
       "      <td>4</td>\n",
       "    </tr>\n",
       "  </tbody>\n",
       "</table>\n",
       "</div>"
      ],
      "text/plain": [
       "    0   1   2   3   4\n",
       "4  20  21  22  23  24\n",
       "3  15  16  17  18  19\n",
       "2  10  11  12  13  14\n",
       "1   5   6   7   8   9\n",
       "0   0   1   2   3   4"
      ]
     },
     "execution_count": 2,
     "metadata": {},
     "output_type": "execute_result"
    }
   ],
   "source": [
    "import numpy as np\n",
    "import pandas as pd\n",
    "# Đảo ngược tất cả các hàng của df.\n",
    "df = pd.DataFrame(np.arange(25).reshape(5, -1))\n",
    "print(df)\n",
    "\n",
    "# Nhập code của Anh/Chị bên dưới đây:\n",
    "df = pd.DataFrame(np.arange(25).reshape(5, -1))\n",
    "print(df)\n",
    "# print(df.iloc[::-1])\n",
    "# print(df.index[::1])\n",
    "\n",
    "print(df.index[::-1])\n",
    "df.reindex(index=df.index[::-1] )\n",
    "\n",
    "# Gợi ý: có thể có nhiều cách giải"
   ]
  }
 ],
 "metadata": {
  "kernelspec": {
   "display_name": "Python 3",
   "language": "python",
   "name": "python3"
  },
  "language_info": {
   "codemirror_mode": {
    "name": "ipython",
    "version": 3
   },
   "file_extension": ".py",
   "mimetype": "text/x-python",
   "name": "python",
   "nbconvert_exporter": "python",
   "pygments_lexer": "ipython3",
   "version": "3.6.10"
  }
 },
 "nbformat": 4,
 "nbformat_minor": 4
}
