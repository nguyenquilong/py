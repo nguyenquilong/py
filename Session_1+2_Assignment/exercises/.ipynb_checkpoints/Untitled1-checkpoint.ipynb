{
 "cells": [
  {
   "cell_type": "code",
   "execution_count": 19,
   "metadata": {},
   "outputs": [],
   "source": [
    "class Calculator:\n",
    "    def __init__(self, var1, var2):\n",
    "        self.var1 = var1\n",
    "        self.var2 = var2\n",
    "    \n",
    "    def calculate_power(self):\n",
    "        return self.var1 ** self.var2\n",
    "    \n",
    "    def calculate_sum(self , var3):\n",
    "        return self.var1 + self.var2 + var3"
   ]
  },
  {
   "cell_type": "code",
   "execution_count": 18,
   "metadata": {},
   "outputs": [
    {
     "data": {
      "text/plain": [
       "1"
      ]
     },
     "execution_count": 18,
     "metadata": {},
     "output_type": "execute_result"
    }
   ],
   "source": [
    "calc = Calculator(1,2)\n",
    "calc.calculate_power()"
   ]
  },
  {
   "cell_type": "code",
   "execution_count": 63,
   "metadata": {},
   "outputs": [],
   "source": [
    "class StringManipulator:\n",
    "    \"\"\"Docstring of StringManipulator\"\"\"\n",
    "    \n",
    "    category = \"Manipulator\"\n",
    "    \n",
    "    def __init__(self, original):\n",
    "        self.string = original\n",
    "        \n",
    "    def reverse_words(self):\n",
    "        words = self.string.split(\" \")\n",
    "        self.string = ' '.join(reversed(words))\n",
    "        print(self.string)\n",
    "        \n",
    "    def make_title(self):\n",
    "        words = self.string.split(\" \")\n",
    "        self.string = ' '.join(reversed(words)).title()\n",
    "        print(self.string) \n",
    "        \n",
    "    def get_manipulated(self):\n",
    "        return self.string  \n"
   ]
  },
  {
   "cell_type": "code",
   "execution_count": 65,
   "metadata": {},
   "outputs": [
    {
     "name": "stdout",
     "output_type": "stream",
     "text": [
      "Python Cool\n"
     ]
    },
    {
     "data": {
      "text/plain": [
       "'Python Cool'"
      ]
     },
     "execution_count": 65,
     "metadata": {},
     "output_type": "execute_result"
    }
   ],
   "source": [
    "str_manip = StringManipulator(\"cOOL pyThON\")\n",
    "#str_manip.reverse_words()\n",
    "str_manip.make_title()\n",
    "str_manip.get_manipulated()"
   ]
  },
  {
   "cell_type": "code",
   "execution_count": 1,
   "metadata": {},
   "outputs": [
    {
     "data": {
      "text/plain": [
       "'pyThON cOOL'"
      ]
     },
     "execution_count": 1,
     "metadata": {},
     "output_type": "execute_result"
    }
   ],
   "source": [
    "str = \"cOOL pyThON\"\n",
    "x = str.split(\" \")\n",
    "y = ' '.join(reversed(x)) \n",
    "y"
   ]
  },
  {
   "cell_type": "code",
   "execution_count": 143,
   "metadata": {},
   "outputs": [
    {
     "data": {
      "text/plain": [
       "12"
      ]
     },
     "execution_count": 143,
     "metadata": {},
     "output_type": "execute_result"
    }
   ],
   "source": [
    "class Dog:\n",
    "    def __init__(self, sleep_, bark_, energy_):\n",
    "        self.sleep_ = sleep_\n",
    "        self.bark_ = bark_\n",
    "        self.energy_ = energy_\n",
    "\n",
    "    def bark(self):\n",
    "        self.energy_ = self.energy_ - self.bark_\n",
    "        return self.energy_   \n",
    "    def sleep(self):\n",
    "        self.energy_ = self.energy_ + self.sleep_\n",
    "        return self.energy_ \n",
    "        \n",
    "doge = Dog(2, 1, 10)\n",
    "# doge.bark()\n",
    "# doge.bark()\n",
    "doge.sleep()"
   ]
  }
 ],
 "metadata": {
  "kernelspec": {
   "display_name": "Python 3",
   "language": "python",
   "name": "python3"
  },
  "language_info": {
   "codemirror_mode": {
    "name": "ipython",
    "version": 3
   },
   "file_extension": ".py",
   "mimetype": "text/x-python",
   "name": "python",
   "nbconvert_exporter": "python",
   "pygments_lexer": "ipython3",
   "version": "3.6.10"
  }
 },
 "nbformat": 4,
 "nbformat_minor": 4
}
