{
 "cells": [
  {
   "cell_type": "code",
   "execution_count": 7,
   "metadata": {},
   "outputs": [
    {
     "name": "stdout",
     "output_type": "stream",
     "text": [
      "ngày \n",
      " mai\n"
     ]
    }
   ],
   "source": [
    "b = \"ngày \\n mai\"\n",
    "print(b)"
   ]
  },
  {
   "cell_type": "code",
   "execution_count": 10,
   "metadata": {},
   "outputs": [
    {
     "data": {
      "text/plain": [
       "['__add__',\n",
       " '__class__',\n",
       " '__contains__',\n",
       " '__delattr__',\n",
       " '__delitem__',\n",
       " '__dir__',\n",
       " '__doc__',\n",
       " '__eq__',\n",
       " '__format__',\n",
       " '__ge__',\n",
       " '__getattribute__',\n",
       " '__getitem__',\n",
       " '__gt__',\n",
       " '__hash__',\n",
       " '__iadd__',\n",
       " '__imul__',\n",
       " '__init__',\n",
       " '__init_subclass__',\n",
       " '__iter__',\n",
       " '__le__',\n",
       " '__len__',\n",
       " '__lt__',\n",
       " '__mul__',\n",
       " '__ne__',\n",
       " '__new__',\n",
       " '__reduce__',\n",
       " '__reduce_ex__',\n",
       " '__repr__',\n",
       " '__reversed__',\n",
       " '__rmul__',\n",
       " '__setattr__',\n",
       " '__setitem__',\n",
       " '__sizeof__',\n",
       " '__str__',\n",
       " '__subclasshook__',\n",
       " 'append',\n",
       " 'clear',\n",
       " 'copy',\n",
       " 'count',\n",
       " 'extend',\n",
       " 'index',\n",
       " 'insert',\n",
       " 'pop',\n",
       " 'remove',\n",
       " 'reverse',\n",
       " 'sort']"
      ]
     },
     "execution_count": 10,
     "metadata": {},
     "output_type": "execute_result"
    }
   ],
   "source": [
    "li = [1,2,2,3,4]\n",
    "dir(li)"
   ]
  },
  {
   "cell_type": "code",
   "execution_count": 12,
   "metadata": {},
   "outputs": [
    {
     "data": {
      "text/plain": [
       "['aaa', 'bbbb']"
      ]
     },
     "execution_count": 12,
     "metadata": {},
     "output_type": "execute_result"
    }
   ],
   "source": [
    "li_2 = [\"aaa\",\"bbbb\"]\n",
    "li_2"
   ]
  },
  {
   "cell_type": "code",
   "execution_count": 5,
   "metadata": {},
   "outputs": [],
   "source": [
    "x = open('aaaa.txt',\"w\")"
   ]
  },
  {
   "cell_type": "code",
   "execution_count": 8,
   "metadata": {},
   "outputs": [
    {
     "data": {
      "text/plain": [
       "23"
      ]
     },
     "execution_count": 8,
     "metadata": {},
     "output_type": "execute_result"
    }
   ],
   "source": [
    "x.write(\"asdkj hqsdsdlgha sdaga \")"
   ]
  },
  {
   "cell_type": "code",
   "execution_count": 25,
   "metadata": {},
   "outputs": [
    {
     "data": {
      "text/plain": [
       "'cbda1'"
      ]
     },
     "execution_count": 25,
     "metadata": {},
     "output_type": "execute_result"
    }
   ],
   "source": [
    "text = 'aaabbbcccddd111'\n",
    "x = set(text)\n",
    "y = list(x)\n",
    "y\n",
    "xxx = ''.join(y)\n",
    "xxx\n"
   ]
  },
  {
   "cell_type": "code",
   "execution_count": 10,
   "metadata": {},
   "outputs": [],
   "source": [
    "dd = \"aaabbbcccddd111\""
   ]
  },
  {
   "cell_type": "code",
   "execution_count": 52,
   "metadata": {},
   "outputs": [
    {
     "data": {
      "text/plain": [
       "3"
      ]
     },
     "execution_count": 52,
     "metadata": {},
     "output_type": "execute_result"
    }
   ],
   "source": [
    "def ss(x,y):\n",
    "    if x > y:\n",
    "        return x\n",
    "    elif x < y:\n",
    "        return y\n",
    "    else:\n",
    "        return \" ==== \"\n",
    "ss(2,3)\n"
   ]
  },
  {
   "cell_type": "code",
   "execution_count": 9,
   "metadata": {},
   "outputs": [
    {
     "name": "stdout",
     "output_type": "stream",
     "text": [
      "aaa\n",
      "aaa bbb\n",
      "aaa bbb ccc\n",
      "aaa bbb ccc ddd\n",
      "aaa bbb ccc ddd 111\n"
     ]
    }
   ],
   "source": [
    "dd = \"aaabbbcccddd111\"\n",
    "x = []       \n",
    "#range(start, stop[, step]) -> range object\n",
    "for i in range(0, 15, 3):    \n",
    "    y = i + 3\n",
    "    x.append(dd[i:y])\n",
    "    z = ' '.join(x)\n",
    "    print(z)\n",
    "   "
   ]
  },
  {
   "cell_type": "code",
   "execution_count": 12,
   "metadata": {},
   "outputs": [
    {
     "name": "stdout",
     "output_type": "stream",
     "text": [
      "\n",
      "*\n",
      "**\n",
      "***\n",
      "****\n",
      "*****\n"
     ]
    }
   ],
   "source": [
    "def show_star(x):\n",
    "    if x <= 5:\n",
    "        for i in range(6):\n",
    "            print('*' * i)\n",
    "    else:\n",
    "        print('xxxxx')\n",
    "        \n",
    "show_star(3)\n",
    "    "
   ]
  },
  {
   "cell_type": "code",
   "execution_count": 52,
   "metadata": {},
   "outputs": [
    {
     "name": "stdout",
     "output_type": "stream",
     "text": [
      "3\n",
      "sss\n",
      "['sss']\n",
      "3\n",
      "bbb\n",
      "['sss', 'bbb']\n",
      "5\n",
      "aaaaa\n",
      "['sss', 'bbb', 'aaaaa']\n",
      "3\n",
      "111\n",
      "['sss', 'bbb', 'aaaaa', '111']\n",
      "3\n",
      "ddd\n",
      "['sss', 'bbb', 'aaaaa', '111', 'ddd']\n",
      "3\n",
      "ccc\n",
      "['sss', 'bbb', 'aaaaa', '111', 'ddd', 'ccc']\n"
     ]
    }
   ],
   "source": [
    "dd = \"asaassaabbbcccddd111\"\n",
    "x = set(dd)\n",
    "y = list(x)\n",
    "\n",
    "len_new_str = len(y)\n",
    "str = []\n",
    "for i in range(len_new_str):\n",
    "    count = dd.count(y[i])\n",
    "    print(count)\n",
    "    z = y[i]*count\n",
    "    print(z)\n",
    "    str.append();\n",
    "    print(str)\n",
    "    "
   ]
  }
 ],
 "metadata": {
  "kernelspec": {
   "display_name": "Python 3",
   "language": "python",
   "name": "python3"
  },
  "language_info": {
   "codemirror_mode": {
    "name": "ipython",
    "version": 3
   },
   "file_extension": ".py",
   "mimetype": "text/x-python",
   "name": "python",
   "nbconvert_exporter": "python",
   "pygments_lexer": "ipython3",
   "version": "3.6.10"
  }
 },
 "nbformat": 4,
 "nbformat_minor": 4
}
