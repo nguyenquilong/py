{
 "cells": [
  {
   "cell_type": "code",
   "execution_count": 46,
   "metadata": {},
   "outputs": [
    {
     "name": "stdout",
     "output_type": "stream",
     "text": [
      "['d', 'b', 'c', ' ', 'd', 'e', 'b', ' ', 'a', 'b', 'e', 'd', ' ', 'g', 'a', 'd', 'e']\n",
      "d    4\n",
      "e    3\n",
      "b    3\n",
      "     3\n",
      "a    2\n",
      "c    1\n",
      "g    1\n",
      "dtype: int64\n"
     ]
    },
    {
     "data": {
      "text/plain": [
       "'g'"
      ]
     },
     "execution_count": 46,
     "metadata": {},
     "output_type": "execute_result"
    }
   ],
   "source": [
    "# import numpy as np\n",
    "import pandas as pd\n",
    "my_str = 'dbc deb abed gade'\n",
    "x = list(my_str)\n",
    "print(x)\n",
    "rrr = pd.Series(x)\n",
    "rrr\n",
    "\n",
    "index = pd.Index(x)\n",
    "y = index.value_counts()\n",
    "print(y)\n",
    "xxx = y.index[-1]\n",
    "xxx"
   ]
  },
  {
   "cell_type": "code",
   "execution_count": 47,
   "metadata": {},
   "outputs": [
    {
     "data": {
      "text/plain": [
       "d    4\n",
       "e    3\n",
       "b    3\n",
       "     3\n",
       "a    2\n",
       "c    1\n",
       "g    1\n",
       "dtype: int64"
      ]
     },
     "execution_count": 47,
     "metadata": {},
     "output_type": "execute_result"
    }
   ],
   "source": [
    "s = pd.Series(list(my_str))\n",
    "#s = pd.Index([2, 2, 5, 3, 4,1,2,4,4,6,7,np.nan])\n",
    "s.value_counts()\n",
    "#s.value_counts()"
   ]
  },
  {
   "cell_type": "code",
   "execution_count": 63,
   "metadata": {},
   "outputs": [
    {
     "data": {
      "text/plain": [
       "array([4, 7, 2, 1, 5, 3, 0, 9, 8, 6], dtype=int64)"
      ]
     },
     "execution_count": 63,
     "metadata": {},
     "output_type": "execute_result"
    }
   ],
   "source": [
    "import numpy as np\n",
    "df = pd.DataFrame(np.random.randint(1, 30, 30).reshape(10,-1), columns=list('abc'))\n",
    "# print(df)\n",
    "# print(df.a)\n",
    "# print(list(df.a))\n",
    "x = list(df.a)\n",
    "y = np.argsort(x)\n",
    "y"
   ]
  }
 ],
 "metadata": {
  "kernelspec": {
   "display_name": "Python 3",
   "language": "python",
   "name": "python3"
  },
  "language_info": {
   "codemirror_mode": {
    "name": "ipython",
    "version": 3
   },
   "file_extension": ".py",
   "mimetype": "text/x-python",
   "name": "python",
   "nbconvert_exporter": "python",
   "pygments_lexer": "ipython3",
   "version": "3.7.7"
  }
 },
 "nbformat": 4,
 "nbformat_minor": 4
}
