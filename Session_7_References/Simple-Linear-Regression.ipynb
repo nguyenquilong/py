{
 "cells": [
  {
   "cell_type": "markdown",
   "metadata": {
    "button": false,
    "deletable": true,
    "new_sheet": false,
    "run_control": {
     "read_only": false
    }
   },
   "source": [
    "# <center>Simple Linear Regression</center>\n",
    "\n",
    "\n",
    "#### About this Notebook\n",
    "In this notebook, we learn how to use scikit-learn to implement simple linear regression. We download a dataset that is related to fuel consumption and Carbon dioxide emission of cars. Then, we split our data into training and test sets, create a model using training set, Evaluate your model using test set, and finally use model to predict unknown value\n"
   ]
  },
  {
   "cell_type": "markdown",
   "metadata": {
    "button": false,
    "deletable": true,
    "new_sheet": false,
    "run_control": {
     "read_only": false
    }
   },
   "source": [
    "### Importing Needed packages"
   ]
  },
  {
   "cell_type": "code",
   "execution_count": 1,
   "metadata": {
    "button": false,
    "deletable": true,
    "new_sheet": false,
    "run_control": {
     "read_only": false
    }
   },
   "outputs": [],
   "source": [
    "import matplotlib.pyplot as plt\n",
    "import pandas as pd\n",
    "import pylab as pl\n",
    "import numpy as np\n",
    "import seaborn as sns\n",
    "%matplotlib inline"
   ]
  },
  {
   "cell_type": "markdown",
   "metadata": {
    "button": false,
    "deletable": true,
    "new_sheet": false,
    "run_control": {
     "read_only": false
    }
   },
   "source": [
    "### Downloading Data"
   ]
  },
  {
   "cell_type": "code",
   "execution_count": 22,
   "metadata": {
    "button": false,
    "deletable": true,
    "new_sheet": false,
    "run_control": {
     "read_only": false
    }
   },
   "outputs": [
    {
     "name": "stdout",
     "output_type": "stream",
     "text": [
      "--2020-07-08 10:37:27--  https://s3-api.us-geo.objectstorage.softlayer.net/cf-courses-data/CognitiveClass/ML0101ENv3/labs/FuelConsumptionCo2.csv\n",
      "Resolving s3-api.us-geo.objectstorage.softlayer.net (s3-api.us-geo.objectstorage.softlayer.net)... 67.228.254.196\n",
      "Connecting to s3-api.us-geo.objectstorage.softlayer.net (s3-api.us-geo.objectstorage.softlayer.net)|67.228.254.196|:443... connected.\n",
      "HTTP request sent, awaiting response... 200 OK\n",
      "Length: 72629 (71K) [text/csv]\n",
      "Saving to: ‘FuelConsumption.csv’\n",
      "\n",
      "FuelConsumption.csv 100%[===================>]  70.93K   197KB/s    in 0.4s    \n",
      "\n",
      "2020-07-08 10:37:28 (197 KB/s) - ‘FuelConsumption.csv’ saved [72629/72629]\n",
      "\n"
     ]
    }
   ],
   "source": [
    "!wget -O FuelConsumption.csv https://s3-api.us-geo.objectstorage.softlayer.net/cf-courses-data/CognitiveClass/ML0101ENv3/labs/FuelConsumptionCo2.csv"
   ]
  },
  {
   "cell_type": "markdown",
   "metadata": {
    "button": false,
    "deletable": true,
    "new_sheet": false,
    "run_control": {
     "read_only": false
    }
   },
   "source": [
    "\n",
    "## Understanding the Data\n",
    "\n",
    "### `FuelConsumption.csv`:\n",
    "We have downloaded a fuel consumption dataset, **`FuelConsumption.csv`**, which contains model-specific fuel consumption ratings and estimated carbon dioxide emissions for new light-duty vehicles for retail sale in Canada. [Dataset source](https://open.canada.ca/data/en/dataset/98f1a129-f628-4ce4-b24d-6f16bf24dd64)\n",
    "\n",
    "- **MODELYEAR** e.g. 2014\n",
    "- **MAKE** e.g. Acura\n",
    "- **MODEL** e.g. ILX\n",
    "- **VEHICLE CLASS** e.g. SUV\n",
    "- **ENGINE SIZE** e.g. 4.7\n",
    "- **CYLINDERS** e.g 6\n",
    "- **TRANSMISSION** e.g. A6\n",
    "- **FUEL CONSUMPTION in CITY(L/100 km)** e.g. 9.9\n",
    "- **FUEL CONSUMPTION in HWY (L/100 km)** e.g. 8.9\n",
    "- **FUEL CONSUMPTION COMB (L/100 km)** e.g. 9.2\n",
    "- **CO2 EMISSIONS (g/km)** e.g. 182   --> low --> 0\n"
   ]
  },
  {
   "cell_type": "markdown",
   "metadata": {
    "button": false,
    "deletable": true,
    "new_sheet": false,
    "run_control": {
     "read_only": false
    }
   },
   "source": [
    "## Reading the data in"
   ]
  },
  {
   "cell_type": "code",
   "execution_count": 2,
   "metadata": {
    "button": false,
    "deletable": true,
    "new_sheet": false,
    "run_control": {
     "read_only": false
    }
   },
   "outputs": [
    {
     "data": {
      "text/html": [
       "<div>\n",
       "<style scoped>\n",
       "    .dataframe tbody tr th:only-of-type {\n",
       "        vertical-align: middle;\n",
       "    }\n",
       "\n",
       "    .dataframe tbody tr th {\n",
       "        vertical-align: top;\n",
       "    }\n",
       "\n",
       "    .dataframe thead th {\n",
       "        text-align: right;\n",
       "    }\n",
       "</style>\n",
       "<table border=\"1\" class=\"dataframe\">\n",
       "  <thead>\n",
       "    <tr style=\"text-align: right;\">\n",
       "      <th></th>\n",
       "      <th>MODELYEAR</th>\n",
       "      <th>MAKE</th>\n",
       "      <th>MODEL</th>\n",
       "      <th>VEHICLECLASS</th>\n",
       "      <th>ENGINESIZE</th>\n",
       "      <th>CYLINDERS</th>\n",
       "      <th>TRANSMISSION</th>\n",
       "      <th>FUELTYPE</th>\n",
       "      <th>FUELCONSUMPTION_CITY</th>\n",
       "      <th>FUELCONSUMPTION_HWY</th>\n",
       "      <th>FUELCONSUMPTION_COMB</th>\n",
       "      <th>FUELCONSUMPTION_COMB_MPG</th>\n",
       "      <th>CO2EMISSIONS</th>\n",
       "    </tr>\n",
       "  </thead>\n",
       "  <tbody>\n",
       "    <tr>\n",
       "      <th>0</th>\n",
       "      <td>2014</td>\n",
       "      <td>ACURA</td>\n",
       "      <td>ILX</td>\n",
       "      <td>COMPACT</td>\n",
       "      <td>2.0</td>\n",
       "      <td>4</td>\n",
       "      <td>AS5</td>\n",
       "      <td>Z</td>\n",
       "      <td>9.9</td>\n",
       "      <td>6.7</td>\n",
       "      <td>8.5</td>\n",
       "      <td>33</td>\n",
       "      <td>196</td>\n",
       "    </tr>\n",
       "    <tr>\n",
       "      <th>1</th>\n",
       "      <td>2014</td>\n",
       "      <td>ACURA</td>\n",
       "      <td>ILX</td>\n",
       "      <td>COMPACT</td>\n",
       "      <td>2.4</td>\n",
       "      <td>4</td>\n",
       "      <td>M6</td>\n",
       "      <td>Z</td>\n",
       "      <td>11.2</td>\n",
       "      <td>7.7</td>\n",
       "      <td>9.6</td>\n",
       "      <td>29</td>\n",
       "      <td>221</td>\n",
       "    </tr>\n",
       "    <tr>\n",
       "      <th>2</th>\n",
       "      <td>2014</td>\n",
       "      <td>ACURA</td>\n",
       "      <td>ILX HYBRID</td>\n",
       "      <td>COMPACT</td>\n",
       "      <td>1.5</td>\n",
       "      <td>4</td>\n",
       "      <td>AV7</td>\n",
       "      <td>Z</td>\n",
       "      <td>6.0</td>\n",
       "      <td>5.8</td>\n",
       "      <td>5.9</td>\n",
       "      <td>48</td>\n",
       "      <td>136</td>\n",
       "    </tr>\n",
       "    <tr>\n",
       "      <th>3</th>\n",
       "      <td>2014</td>\n",
       "      <td>ACURA</td>\n",
       "      <td>MDX 4WD</td>\n",
       "      <td>SUV - SMALL</td>\n",
       "      <td>3.5</td>\n",
       "      <td>6</td>\n",
       "      <td>AS6</td>\n",
       "      <td>Z</td>\n",
       "      <td>12.7</td>\n",
       "      <td>9.1</td>\n",
       "      <td>11.1</td>\n",
       "      <td>25</td>\n",
       "      <td>255</td>\n",
       "    </tr>\n",
       "    <tr>\n",
       "      <th>4</th>\n",
       "      <td>2014</td>\n",
       "      <td>ACURA</td>\n",
       "      <td>RDX AWD</td>\n",
       "      <td>SUV - SMALL</td>\n",
       "      <td>3.5</td>\n",
       "      <td>6</td>\n",
       "      <td>AS6</td>\n",
       "      <td>Z</td>\n",
       "      <td>12.1</td>\n",
       "      <td>8.7</td>\n",
       "      <td>10.6</td>\n",
       "      <td>27</td>\n",
       "      <td>244</td>\n",
       "    </tr>\n",
       "  </tbody>\n",
       "</table>\n",
       "</div>"
      ],
      "text/plain": [
       "   MODELYEAR   MAKE       MODEL VEHICLECLASS  ENGINESIZE  CYLINDERS  \\\n",
       "0       2014  ACURA         ILX      COMPACT         2.0          4   \n",
       "1       2014  ACURA         ILX      COMPACT         2.4          4   \n",
       "2       2014  ACURA  ILX HYBRID      COMPACT         1.5          4   \n",
       "3       2014  ACURA     MDX 4WD  SUV - SMALL         3.5          6   \n",
       "4       2014  ACURA     RDX AWD  SUV - SMALL         3.5          6   \n",
       "\n",
       "  TRANSMISSION FUELTYPE  FUELCONSUMPTION_CITY  FUELCONSUMPTION_HWY  \\\n",
       "0          AS5        Z                   9.9                  6.7   \n",
       "1           M6        Z                  11.2                  7.7   \n",
       "2          AV7        Z                   6.0                  5.8   \n",
       "3          AS6        Z                  12.7                  9.1   \n",
       "4          AS6        Z                  12.1                  8.7   \n",
       "\n",
       "   FUELCONSUMPTION_COMB  FUELCONSUMPTION_COMB_MPG  CO2EMISSIONS  \n",
       "0                   8.5                        33           196  \n",
       "1                   9.6                        29           221  \n",
       "2                   5.9                        48           136  \n",
       "3                  11.1                        25           255  \n",
       "4                  10.6                        27           244  "
      ]
     },
     "execution_count": 2,
     "metadata": {},
     "output_type": "execute_result"
    }
   ],
   "source": [
    "df = pd.read_csv(\"FuelConsumption.csv\")\n",
    "\n",
    "# take a look at the dataset\n",
    "df.head()"
   ]
  },
  {
   "cell_type": "markdown",
   "metadata": {
    "button": false,
    "deletable": true,
    "new_sheet": false,
    "run_control": {
     "read_only": false
    }
   },
   "source": [
    "### Data Exploration\n",
    "Lets first have a descriptive exploration on our data."
   ]
  },
  {
   "cell_type": "code",
   "execution_count": 3,
   "metadata": {
    "button": false,
    "deletable": true,
    "new_sheet": false,
    "run_control": {
     "read_only": false
    }
   },
   "outputs": [
    {
     "data": {
      "text/html": [
       "<div>\n",
       "<style scoped>\n",
       "    .dataframe tbody tr th:only-of-type {\n",
       "        vertical-align: middle;\n",
       "    }\n",
       "\n",
       "    .dataframe tbody tr th {\n",
       "        vertical-align: top;\n",
       "    }\n",
       "\n",
       "    .dataframe thead th {\n",
       "        text-align: right;\n",
       "    }\n",
       "</style>\n",
       "<table border=\"1\" class=\"dataframe\">\n",
       "  <thead>\n",
       "    <tr style=\"text-align: right;\">\n",
       "      <th></th>\n",
       "      <th>MODELYEAR</th>\n",
       "      <th>ENGINESIZE</th>\n",
       "      <th>CYLINDERS</th>\n",
       "      <th>FUELCONSUMPTION_CITY</th>\n",
       "      <th>FUELCONSUMPTION_HWY</th>\n",
       "      <th>FUELCONSUMPTION_COMB</th>\n",
       "      <th>FUELCONSUMPTION_COMB_MPG</th>\n",
       "      <th>CO2EMISSIONS</th>\n",
       "    </tr>\n",
       "  </thead>\n",
       "  <tbody>\n",
       "    <tr>\n",
       "      <th>count</th>\n",
       "      <td>1067.0</td>\n",
       "      <td>1067.000000</td>\n",
       "      <td>1067.000000</td>\n",
       "      <td>1067.000000</td>\n",
       "      <td>1067.000000</td>\n",
       "      <td>1067.000000</td>\n",
       "      <td>1067.000000</td>\n",
       "      <td>1067.000000</td>\n",
       "    </tr>\n",
       "    <tr>\n",
       "      <th>mean</th>\n",
       "      <td>2014.0</td>\n",
       "      <td>3.346298</td>\n",
       "      <td>5.794752</td>\n",
       "      <td>13.296532</td>\n",
       "      <td>9.474602</td>\n",
       "      <td>11.580881</td>\n",
       "      <td>26.441425</td>\n",
       "      <td>256.228679</td>\n",
       "    </tr>\n",
       "    <tr>\n",
       "      <th>std</th>\n",
       "      <td>0.0</td>\n",
       "      <td>1.415895</td>\n",
       "      <td>1.797447</td>\n",
       "      <td>4.101253</td>\n",
       "      <td>2.794510</td>\n",
       "      <td>3.485595</td>\n",
       "      <td>7.468702</td>\n",
       "      <td>63.372304</td>\n",
       "    </tr>\n",
       "    <tr>\n",
       "      <th>min</th>\n",
       "      <td>2014.0</td>\n",
       "      <td>1.000000</td>\n",
       "      <td>3.000000</td>\n",
       "      <td>4.600000</td>\n",
       "      <td>4.900000</td>\n",
       "      <td>4.700000</td>\n",
       "      <td>11.000000</td>\n",
       "      <td>108.000000</td>\n",
       "    </tr>\n",
       "    <tr>\n",
       "      <th>25%</th>\n",
       "      <td>2014.0</td>\n",
       "      <td>2.000000</td>\n",
       "      <td>4.000000</td>\n",
       "      <td>10.250000</td>\n",
       "      <td>7.500000</td>\n",
       "      <td>9.000000</td>\n",
       "      <td>21.000000</td>\n",
       "      <td>207.000000</td>\n",
       "    </tr>\n",
       "    <tr>\n",
       "      <th>50%</th>\n",
       "      <td>2014.0</td>\n",
       "      <td>3.400000</td>\n",
       "      <td>6.000000</td>\n",
       "      <td>12.600000</td>\n",
       "      <td>8.800000</td>\n",
       "      <td>10.900000</td>\n",
       "      <td>26.000000</td>\n",
       "      <td>251.000000</td>\n",
       "    </tr>\n",
       "    <tr>\n",
       "      <th>75%</th>\n",
       "      <td>2014.0</td>\n",
       "      <td>4.300000</td>\n",
       "      <td>8.000000</td>\n",
       "      <td>15.550000</td>\n",
       "      <td>10.850000</td>\n",
       "      <td>13.350000</td>\n",
       "      <td>31.000000</td>\n",
       "      <td>294.000000</td>\n",
       "    </tr>\n",
       "    <tr>\n",
       "      <th>max</th>\n",
       "      <td>2014.0</td>\n",
       "      <td>8.400000</td>\n",
       "      <td>12.000000</td>\n",
       "      <td>30.200000</td>\n",
       "      <td>20.500000</td>\n",
       "      <td>25.800000</td>\n",
       "      <td>60.000000</td>\n",
       "      <td>488.000000</td>\n",
       "    </tr>\n",
       "  </tbody>\n",
       "</table>\n",
       "</div>"
      ],
      "text/plain": [
       "       MODELYEAR   ENGINESIZE    CYLINDERS  FUELCONSUMPTION_CITY  \\\n",
       "count     1067.0  1067.000000  1067.000000           1067.000000   \n",
       "mean      2014.0     3.346298     5.794752             13.296532   \n",
       "std          0.0     1.415895     1.797447              4.101253   \n",
       "min       2014.0     1.000000     3.000000              4.600000   \n",
       "25%       2014.0     2.000000     4.000000             10.250000   \n",
       "50%       2014.0     3.400000     6.000000             12.600000   \n",
       "75%       2014.0     4.300000     8.000000             15.550000   \n",
       "max       2014.0     8.400000    12.000000             30.200000   \n",
       "\n",
       "       FUELCONSUMPTION_HWY  FUELCONSUMPTION_COMB  FUELCONSUMPTION_COMB_MPG  \\\n",
       "count          1067.000000           1067.000000               1067.000000   \n",
       "mean              9.474602             11.580881                 26.441425   \n",
       "std               2.794510              3.485595                  7.468702   \n",
       "min               4.900000              4.700000                 11.000000   \n",
       "25%               7.500000              9.000000                 21.000000   \n",
       "50%               8.800000             10.900000                 26.000000   \n",
       "75%              10.850000             13.350000                 31.000000   \n",
       "max              20.500000             25.800000                 60.000000   \n",
       "\n",
       "       CO2EMISSIONS  \n",
       "count   1067.000000  \n",
       "mean     256.228679  \n",
       "std       63.372304  \n",
       "min      108.000000  \n",
       "25%      207.000000  \n",
       "50%      251.000000  \n",
       "75%      294.000000  \n",
       "max      488.000000  "
      ]
     },
     "execution_count": 3,
     "metadata": {},
     "output_type": "execute_result"
    }
   ],
   "source": [
    "# summarize the data\n",
    "df.describe()"
   ]
  },
  {
   "cell_type": "markdown",
   "metadata": {},
   "source": [
    "Lets select some features to explore more."
   ]
  },
  {
   "cell_type": "code",
   "execution_count": 4,
   "metadata": {
    "button": false,
    "deletable": true,
    "new_sheet": false,
    "run_control": {
     "read_only": false
    }
   },
   "outputs": [
    {
     "data": {
      "text/html": [
       "<div>\n",
       "<style scoped>\n",
       "    .dataframe tbody tr th:only-of-type {\n",
       "        vertical-align: middle;\n",
       "    }\n",
       "\n",
       "    .dataframe tbody tr th {\n",
       "        vertical-align: top;\n",
       "    }\n",
       "\n",
       "    .dataframe thead th {\n",
       "        text-align: right;\n",
       "    }\n",
       "</style>\n",
       "<table border=\"1\" class=\"dataframe\">\n",
       "  <thead>\n",
       "    <tr style=\"text-align: right;\">\n",
       "      <th></th>\n",
       "      <th>ENGINESIZE</th>\n",
       "      <th>CYLINDERS</th>\n",
       "      <th>FUELCONSUMPTION_COMB</th>\n",
       "      <th>CO2EMISSIONS</th>\n",
       "    </tr>\n",
       "  </thead>\n",
       "  <tbody>\n",
       "    <tr>\n",
       "      <th>0</th>\n",
       "      <td>2.0</td>\n",
       "      <td>4</td>\n",
       "      <td>8.5</td>\n",
       "      <td>196</td>\n",
       "    </tr>\n",
       "    <tr>\n",
       "      <th>1</th>\n",
       "      <td>2.4</td>\n",
       "      <td>4</td>\n",
       "      <td>9.6</td>\n",
       "      <td>221</td>\n",
       "    </tr>\n",
       "    <tr>\n",
       "      <th>2</th>\n",
       "      <td>1.5</td>\n",
       "      <td>4</td>\n",
       "      <td>5.9</td>\n",
       "      <td>136</td>\n",
       "    </tr>\n",
       "    <tr>\n",
       "      <th>3</th>\n",
       "      <td>3.5</td>\n",
       "      <td>6</td>\n",
       "      <td>11.1</td>\n",
       "      <td>255</td>\n",
       "    </tr>\n",
       "    <tr>\n",
       "      <th>4</th>\n",
       "      <td>3.5</td>\n",
       "      <td>6</td>\n",
       "      <td>10.6</td>\n",
       "      <td>244</td>\n",
       "    </tr>\n",
       "    <tr>\n",
       "      <th>5</th>\n",
       "      <td>3.5</td>\n",
       "      <td>6</td>\n",
       "      <td>10.0</td>\n",
       "      <td>230</td>\n",
       "    </tr>\n",
       "    <tr>\n",
       "      <th>6</th>\n",
       "      <td>3.5</td>\n",
       "      <td>6</td>\n",
       "      <td>10.1</td>\n",
       "      <td>232</td>\n",
       "    </tr>\n",
       "    <tr>\n",
       "      <th>7</th>\n",
       "      <td>3.7</td>\n",
       "      <td>6</td>\n",
       "      <td>11.1</td>\n",
       "      <td>255</td>\n",
       "    </tr>\n",
       "    <tr>\n",
       "      <th>8</th>\n",
       "      <td>3.7</td>\n",
       "      <td>6</td>\n",
       "      <td>11.6</td>\n",
       "      <td>267</td>\n",
       "    </tr>\n",
       "  </tbody>\n",
       "</table>\n",
       "</div>"
      ],
      "text/plain": [
       "   ENGINESIZE  CYLINDERS  FUELCONSUMPTION_COMB  CO2EMISSIONS\n",
       "0         2.0          4                   8.5           196\n",
       "1         2.4          4                   9.6           221\n",
       "2         1.5          4                   5.9           136\n",
       "3         3.5          6                  11.1           255\n",
       "4         3.5          6                  10.6           244\n",
       "5         3.5          6                  10.0           230\n",
       "6         3.5          6                  10.1           232\n",
       "7         3.7          6                  11.1           255\n",
       "8         3.7          6                  11.6           267"
      ]
     },
     "execution_count": 4,
     "metadata": {},
     "output_type": "execute_result"
    }
   ],
   "source": [
    "cdf = df[['ENGINESIZE','CYLINDERS','FUELCONSUMPTION_COMB','CO2EMISSIONS']]\n",
    "cdf.head(9)"
   ]
  },
  {
   "cell_type": "markdown",
   "metadata": {},
   "source": [
    "we can plot each of these fearues:"
   ]
  },
  {
   "cell_type": "code",
   "execution_count": 5,
   "metadata": {
    "button": false,
    "deletable": true,
    "new_sheet": false,
    "run_control": {
     "read_only": false
    }
   },
   "outputs": [
    {
     "data": {
      "image/png": "[encoded data removed]",
      "text/plain": [
       "<Figure size 1080x576 with 4 Axes>"
      ]
     },
     "metadata": {
      "needs_background": "light"
     },
     "output_type": "display_data"
    }
   ],
   "source": [
    "viz = cdf[['CYLINDERS','ENGINESIZE','CO2EMISSIONS','FUELCONSUMPTION_COMB']]\n",
    "viz.hist(figsize=(15, 8))\n",
    "plt.show()"
   ]
  },
  {
   "cell_type": "markdown",
   "metadata": {},
   "source": [
    "Now, lets plot each of these features vs the Emission, to see how linear is their relation:"
   ]
  },
  {
   "cell_type": "code",
   "execution_count": 6,
   "metadata": {},
   "outputs": [
    {
     "data": {
      "text/plain": [
       "(array([0.5, 1.5, 2.5, 3.5]), <a list of 4 Text major ticklabel objects>)"
      ]
     },
     "execution_count": 6,
     "metadata": {},
     "output_type": "execute_result"
    },
    {
     "data": {
      "image/png": "[encoded data removed]",
      "text/plain": [
       "<Figure size 432x288 with 2 Axes>"
      ]
     },
     "metadata": {
      "needs_background": "light"
     },
     "output_type": "display_data"
    }
   ],
   "source": [
    "sns.heatmap(cdf.corr(), cmap='Greens', annot=True)\n",
    "plt.xticks(rotation=30, ha='right')"
   ]
  },
  {
   "cell_type": "code",
   "execution_count": 50,
   "metadata": {},
   "outputs": [
    {
     "data": {
      "text/html": [
       "<style  type=\"text/css\" >\n",
       "    #T_05878566_c0d0_11ea_948c_dd9f1dfe3376row0_col0 {\n",
       "            background-color:  #b40426;\n",
       "            color:  #f1f1f1;\n",
       "        }    #T_05878566_c0d0_11ea_948c_dd9f1dfe3376row0_col1 {\n",
       "            background-color:  #f7aa8c;\n",
       "            color:  #000000;\n",
       "        }    #T_05878566_c0d0_11ea_948c_dd9f1dfe3376row0_col2 {\n",
       "            background-color:  #779af7;\n",
       "            color:  #000000;\n",
       "        }    #T_05878566_c0d0_11ea_948c_dd9f1dfe3376row0_col3 {\n",
       "            background-color:  #cbd8ee;\n",
       "            color:  #000000;\n",
       "        }    #T_05878566_c0d0_11ea_948c_dd9f1dfe3376row1_col0 {\n",
       "            background-color:  #f7aa8c;\n",
       "            color:  #000000;\n",
       "        }    #T_05878566_c0d0_11ea_948c_dd9f1dfe3376row1_col1 {\n",
       "            background-color:  #b40426;\n",
       "            color:  #f1f1f1;\n",
       "        }    #T_05878566_c0d0_11ea_948c_dd9f1dfe3376row1_col2 {\n",
       "            background-color:  #3b4cc0;\n",
       "            color:  #f1f1f1;\n",
       "        }    #T_05878566_c0d0_11ea_948c_dd9f1dfe3376row1_col3 {\n",
       "            background-color:  #a7c5fe;\n",
       "            color:  #000000;\n",
       "        }    #T_05878566_c0d0_11ea_948c_dd9f1dfe3376row2_col0 {\n",
       "            background-color:  #779af7;\n",
       "            color:  #000000;\n",
       "        }    #T_05878566_c0d0_11ea_948c_dd9f1dfe3376row2_col1 {\n",
       "            background-color:  #3b4cc0;\n",
       "            color:  #f1f1f1;\n",
       "        }    #T_05878566_c0d0_11ea_948c_dd9f1dfe3376row2_col2 {\n",
       "            background-color:  #b40426;\n",
       "            color:  #f1f1f1;\n",
       "        }    #T_05878566_c0d0_11ea_948c_dd9f1dfe3376row2_col3 {\n",
       "            background-color:  #e1dad6;\n",
       "            color:  #000000;\n",
       "        }    #T_05878566_c0d0_11ea_948c_dd9f1dfe3376row3_col0 {\n",
       "            background-color:  #cbd8ee;\n",
       "            color:  #000000;\n",
       "        }    #T_05878566_c0d0_11ea_948c_dd9f1dfe3376row3_col1 {\n",
       "            background-color:  #a7c5fe;\n",
       "            color:  #000000;\n",
       "        }    #T_05878566_c0d0_11ea_948c_dd9f1dfe3376row3_col2 {\n",
       "            background-color:  #e1dad6;\n",
       "            color:  #000000;\n",
       "        }    #T_05878566_c0d0_11ea_948c_dd9f1dfe3376row3_col3 {\n",
       "            background-color:  #b40426;\n",
       "            color:  #f1f1f1;\n",
       "        }</style><table id=\"T_05878566_c0d0_11ea_948c_dd9f1dfe3376\" ><thead>    <tr>        <th class=\"blank level0\" ></th>        <th class=\"col_heading level0 col0\" >ENGINESIZE</th>        <th class=\"col_heading level0 col1\" >CYLINDERS</th>        <th class=\"col_heading level0 col2\" >FUELCONSUMPTION_COMB</th>        <th class=\"col_heading level0 col3\" >CO2EMISSIONS</th>    </tr></thead><tbody>\n",
       "                <tr>\n",
       "                        <th id=\"T_05878566_c0d0_11ea_948c_dd9f1dfe3376level0_row0\" class=\"row_heading level0 row0\" >ENGINESIZE</th>\n",
       "                        <td id=\"T_05878566_c0d0_11ea_948c_dd9f1dfe3376row0_col0\" class=\"data row0 col0\" >1.000000</td>\n",
       "                        <td id=\"T_05878566_c0d0_11ea_948c_dd9f1dfe3376row0_col1\" class=\"data row0 col1\" >0.934011</td>\n",
       "                        <td id=\"T_05878566_c0d0_11ea_948c_dd9f1dfe3376row0_col2\" class=\"data row0 col2\" >0.819482</td>\n",
       "                        <td id=\"T_05878566_c0d0_11ea_948c_dd9f1dfe3376row0_col3\" class=\"data row0 col3\" >0.874154</td>\n",
       "            </tr>\n",
       "            <tr>\n",
       "                        <th id=\"T_05878566_c0d0_11ea_948c_dd9f1dfe3376level0_row1\" class=\"row_heading level0 row1\" >CYLINDERS</th>\n",
       "                        <td id=\"T_05878566_c0d0_11ea_948c_dd9f1dfe3376row1_col0\" class=\"data row1 col0\" >0.934011</td>\n",
       "                        <td id=\"T_05878566_c0d0_11ea_948c_dd9f1dfe3376row1_col1\" class=\"data row1 col1\" >1.000000</td>\n",
       "                        <td id=\"T_05878566_c0d0_11ea_948c_dd9f1dfe3376row1_col2\" class=\"data row1 col2\" >0.776788</td>\n",
       "                        <td id=\"T_05878566_c0d0_11ea_948c_dd9f1dfe3376row1_col3\" class=\"data row1 col3\" >0.849685</td>\n",
       "            </tr>\n",
       "            <tr>\n",
       "                        <th id=\"T_05878566_c0d0_11ea_948c_dd9f1dfe3376level0_row2\" class=\"row_heading level0 row2\" >FUELCONSUMPTION_COMB</th>\n",
       "                        <td id=\"T_05878566_c0d0_11ea_948c_dd9f1dfe3376row2_col0\" class=\"data row2 col0\" >0.819482</td>\n",
       "                        <td id=\"T_05878566_c0d0_11ea_948c_dd9f1dfe3376row2_col1\" class=\"data row2 col1\" >0.776788</td>\n",
       "                        <td id=\"T_05878566_c0d0_11ea_948c_dd9f1dfe3376row2_col2\" class=\"data row2 col2\" >1.000000</td>\n",
       "                        <td id=\"T_05878566_c0d0_11ea_948c_dd9f1dfe3376row2_col3\" class=\"data row2 col3\" >0.892129</td>\n",
       "            </tr>\n",
       "            <tr>\n",
       "                        <th id=\"T_05878566_c0d0_11ea_948c_dd9f1dfe3376level0_row3\" class=\"row_heading level0 row3\" >CO2EMISSIONS</th>\n",
       "                        <td id=\"T_05878566_c0d0_11ea_948c_dd9f1dfe3376row3_col0\" class=\"data row3 col0\" >0.874154</td>\n",
       "                        <td id=\"T_05878566_c0d0_11ea_948c_dd9f1dfe3376row3_col1\" class=\"data row3 col1\" >0.849685</td>\n",
       "                        <td id=\"T_05878566_c0d0_11ea_948c_dd9f1dfe3376row3_col2\" class=\"data row3 col2\" >0.892129</td>\n",
       "                        <td id=\"T_05878566_c0d0_11ea_948c_dd9f1dfe3376row3_col3\" class=\"data row3 col3\" >1.000000</td>\n",
       "            </tr>\n",
       "    </tbody></table>"
      ],
      "text/plain": [
       "<pandas.io.formats.style.Styler at 0x7ffb1e6eb978>"
      ]
     },
     "execution_count": 50,
     "metadata": {},
     "output_type": "execute_result"
    }
   ],
   "source": [
    "cdf.corr().style.background_gradient(cmap='coolwarm', axis=None)"
   ]
  },
  {
   "cell_type": "code",
   "execution_count": 36,
   "metadata": {},
   "outputs": [
    {
     "data": {
      "image/png": "[encoded data removed]",
      "text/plain": [
       "<Figure size 1440x720 with 3 Axes>"
      ]
     },
     "metadata": {
      "needs_background": "light"
     },
     "output_type": "display_data"
    }
   ],
   "source": [
    "plt.figure(figsize=(20, 10)) \n",
    "\n",
    "plt.subplot(221)\n",
    "plt.scatter(cdf.CYLINDERS, cdf.CO2EMISSIONS)\n",
    "plt.xlabel('CYLINDERS')\n",
    "plt.ylabel('CO2EMISSIONS')\n",
    "\n",
    "plt.subplot(222)\n",
    "plt.scatter(cdf.ENGINESIZE, cdf.CO2EMISSIONS)\n",
    "plt.xlabel('ENGINESIZE')\n",
    "plt.ylabel('CO2EMISSIONS')\n",
    "\n",
    "plt.subplot(223)\n",
    "plt.scatter(cdf.FUELCONSUMPTION_COMB, cdf.CO2EMISSIONS)\n",
    "plt.xlabel('FUELCONSUMPTION_COMB')\n",
    "plt.ylabel('CO2EMISSIONS')\n",
    "\n",
    "\n",
    "plt.show()"
   ]
  },
  {
   "cell_type": "markdown",
   "metadata": {
    "button": false,
    "deletable": true,
    "new_sheet": false,
    "run_control": {
     "read_only": false
    }
   },
   "source": [
    "#### Creating train and test dataset\n",
    "Train/Test Split involves splitting the dataset into training and testing sets respectively, which are mutually exclusive. After which, you train with the training set and test with the testing set. \n",
    "This will provide a more accurate evaluation on out-of-sample accuracy because the testing dataset is not part of the dataset that have been used to train the data. It is more realistic for real world problems.\n",
    "\n",
    "This means that we know the outcome of each data point in this dataset, making it great to test with! And since this data has not been used to train the model, the model has no knowledge of the outcome of these data points. So, in essence, it is truly an out-of-sample testing.\n",
    "\n",
    "Lets split our dataset into train and test sets, 80% of the entire data for training, and the 20% for testing. We create a mask to select random rows using __np.random.rand()__ function: "
   ]
  },
  {
   "cell_type": "code",
   "execution_count": 9,
   "metadata": {},
   "outputs": [
    {
     "data": {
      "text/html": [
       "<div>\n",
       "<style scoped>\n",
       "    .dataframe tbody tr th:only-of-type {\n",
       "        vertical-align: middle;\n",
       "    }\n",
       "\n",
       "    .dataframe tbody tr th {\n",
       "        vertical-align: top;\n",
       "    }\n",
       "\n",
       "    .dataframe thead th {\n",
       "        text-align: right;\n",
       "    }\n",
       "</style>\n",
       "<table border=\"1\" class=\"dataframe\">\n",
       "  <thead>\n",
       "    <tr style=\"text-align: right;\">\n",
       "      <th></th>\n",
       "      <th>MODELYEAR</th>\n",
       "      <th>MAKE</th>\n",
       "      <th>MODEL</th>\n",
       "      <th>VEHICLECLASS</th>\n",
       "      <th>ENGINESIZE</th>\n",
       "      <th>CYLINDERS</th>\n",
       "      <th>TRANSMISSION</th>\n",
       "      <th>FUELTYPE</th>\n",
       "      <th>FUELCONSUMPTION_CITY</th>\n",
       "      <th>FUELCONSUMPTION_HWY</th>\n",
       "      <th>FUELCONSUMPTION_COMB</th>\n",
       "      <th>FUELCONSUMPTION_COMB_MPG</th>\n",
       "      <th>CO2EMISSIONS</th>\n",
       "    </tr>\n",
       "  </thead>\n",
       "  <tbody>\n",
       "    <tr>\n",
       "      <th>0</th>\n",
       "      <td>2014</td>\n",
       "      <td>ACURA</td>\n",
       "      <td>ILX</td>\n",
       "      <td>COMPACT</td>\n",
       "      <td>2.0</td>\n",
       "      <td>4</td>\n",
       "      <td>AS5</td>\n",
       "      <td>Z</td>\n",
       "      <td>9.9</td>\n",
       "      <td>6.7</td>\n",
       "      <td>8.5</td>\n",
       "      <td>33</td>\n",
       "      <td>196</td>\n",
       "    </tr>\n",
       "    <tr>\n",
       "      <th>1</th>\n",
       "      <td>2014</td>\n",
       "      <td>ACURA</td>\n",
       "      <td>ILX</td>\n",
       "      <td>COMPACT</td>\n",
       "      <td>2.4</td>\n",
       "      <td>4</td>\n",
       "      <td>M6</td>\n",
       "      <td>Z</td>\n",
       "      <td>11.2</td>\n",
       "      <td>7.7</td>\n",
       "      <td>9.6</td>\n",
       "      <td>29</td>\n",
       "      <td>221</td>\n",
       "    </tr>\n",
       "    <tr>\n",
       "      <th>2</th>\n",
       "      <td>2014</td>\n",
       "      <td>ACURA</td>\n",
       "      <td>ILX HYBRID</td>\n",
       "      <td>COMPACT</td>\n",
       "      <td>1.5</td>\n",
       "      <td>4</td>\n",
       "      <td>AV7</td>\n",
       "      <td>Z</td>\n",
       "      <td>6.0</td>\n",
       "      <td>5.8</td>\n",
       "      <td>5.9</td>\n",
       "      <td>48</td>\n",
       "      <td>136</td>\n",
       "    </tr>\n",
       "    <tr>\n",
       "      <th>3</th>\n",
       "      <td>2014</td>\n",
       "      <td>ACURA</td>\n",
       "      <td>MDX 4WD</td>\n",
       "      <td>SUV - SMALL</td>\n",
       "      <td>3.5</td>\n",
       "      <td>6</td>\n",
       "      <td>AS6</td>\n",
       "      <td>Z</td>\n",
       "      <td>12.7</td>\n",
       "      <td>9.1</td>\n",
       "      <td>11.1</td>\n",
       "      <td>25</td>\n",
       "      <td>255</td>\n",
       "    </tr>\n",
       "    <tr>\n",
       "      <th>4</th>\n",
       "      <td>2014</td>\n",
       "      <td>ACURA</td>\n",
       "      <td>RDX AWD</td>\n",
       "      <td>SUV - SMALL</td>\n",
       "      <td>3.5</td>\n",
       "      <td>6</td>\n",
       "      <td>AS6</td>\n",
       "      <td>Z</td>\n",
       "      <td>12.1</td>\n",
       "      <td>8.7</td>\n",
       "      <td>10.6</td>\n",
       "      <td>27</td>\n",
       "      <td>244</td>\n",
       "    </tr>\n",
       "    <tr>\n",
       "      <th>...</th>\n",
       "      <td>...</td>\n",
       "      <td>...</td>\n",
       "      <td>...</td>\n",
       "      <td>...</td>\n",
       "      <td>...</td>\n",
       "      <td>...</td>\n",
       "      <td>...</td>\n",
       "      <td>...</td>\n",
       "      <td>...</td>\n",
       "      <td>...</td>\n",
       "      <td>...</td>\n",
       "      <td>...</td>\n",
       "      <td>...</td>\n",
       "    </tr>\n",
       "    <tr>\n",
       "      <th>1062</th>\n",
       "      <td>2014</td>\n",
       "      <td>VOLVO</td>\n",
       "      <td>XC60 AWD</td>\n",
       "      <td>SUV - SMALL</td>\n",
       "      <td>3.0</td>\n",
       "      <td>6</td>\n",
       "      <td>AS6</td>\n",
       "      <td>X</td>\n",
       "      <td>13.4</td>\n",
       "      <td>9.8</td>\n",
       "      <td>11.8</td>\n",
       "      <td>24</td>\n",
       "      <td>271</td>\n",
       "    </tr>\n",
       "    <tr>\n",
       "      <th>1063</th>\n",
       "      <td>2014</td>\n",
       "      <td>VOLVO</td>\n",
       "      <td>XC60 AWD</td>\n",
       "      <td>SUV - SMALL</td>\n",
       "      <td>3.2</td>\n",
       "      <td>6</td>\n",
       "      <td>AS6</td>\n",
       "      <td>X</td>\n",
       "      <td>13.2</td>\n",
       "      <td>9.5</td>\n",
       "      <td>11.5</td>\n",
       "      <td>25</td>\n",
       "      <td>264</td>\n",
       "    </tr>\n",
       "    <tr>\n",
       "      <th>1064</th>\n",
       "      <td>2014</td>\n",
       "      <td>VOLVO</td>\n",
       "      <td>XC70 AWD</td>\n",
       "      <td>SUV - SMALL</td>\n",
       "      <td>3.0</td>\n",
       "      <td>6</td>\n",
       "      <td>AS6</td>\n",
       "      <td>X</td>\n",
       "      <td>13.4</td>\n",
       "      <td>9.8</td>\n",
       "      <td>11.8</td>\n",
       "      <td>24</td>\n",
       "      <td>271</td>\n",
       "    </tr>\n",
       "    <tr>\n",
       "      <th>1065</th>\n",
       "      <td>2014</td>\n",
       "      <td>VOLVO</td>\n",
       "      <td>XC70 AWD</td>\n",
       "      <td>SUV - SMALL</td>\n",
       "      <td>3.2</td>\n",
       "      <td>6</td>\n",
       "      <td>AS6</td>\n",
       "      <td>X</td>\n",
       "      <td>12.9</td>\n",
       "      <td>9.3</td>\n",
       "      <td>11.3</td>\n",
       "      <td>25</td>\n",
       "      <td>260</td>\n",
       "    </tr>\n",
       "    <tr>\n",
       "      <th>1066</th>\n",
       "      <td>2014</td>\n",
       "      <td>VOLVO</td>\n",
       "      <td>XC90 AWD</td>\n",
       "      <td>SUV - STANDARD</td>\n",
       "      <td>3.2</td>\n",
       "      <td>6</td>\n",
       "      <td>AS6</td>\n",
       "      <td>X</td>\n",
       "      <td>14.9</td>\n",
       "      <td>10.2</td>\n",
       "      <td>12.8</td>\n",
       "      <td>22</td>\n",
       "      <td>294</td>\n",
       "    </tr>\n",
       "  </tbody>\n",
       "</table>\n",
       "<p>1067 rows × 13 columns</p>\n",
       "</div>"
      ],
      "text/plain": [
       "      MODELYEAR   MAKE       MODEL    VEHICLECLASS  ENGINESIZE  CYLINDERS  \\\n",
       "0          2014  ACURA         ILX         COMPACT         2.0          4   \n",
       "1          2014  ACURA         ILX         COMPACT         2.4          4   \n",
       "2          2014  ACURA  ILX HYBRID         COMPACT         1.5          4   \n",
       "3          2014  ACURA     MDX 4WD     SUV - SMALL         3.5          6   \n",
       "4          2014  ACURA     RDX AWD     SUV - SMALL         3.5          6   \n",
       "...         ...    ...         ...             ...         ...        ...   \n",
       "1062       2014  VOLVO    XC60 AWD     SUV - SMALL         3.0          6   \n",
       "1063       2014  VOLVO    XC60 AWD     SUV - SMALL         3.2          6   \n",
       "1064       2014  VOLVO    XC70 AWD     SUV - SMALL         3.0          6   \n",
       "1065       2014  VOLVO    XC70 AWD     SUV - SMALL         3.2          6   \n",
       "1066       2014  VOLVO    XC90 AWD  SUV - STANDARD         3.2          6   \n",
       "\n",
       "     TRANSMISSION FUELTYPE  FUELCONSUMPTION_CITY  FUELCONSUMPTION_HWY  \\\n",
       "0             AS5        Z                   9.9                  6.7   \n",
       "1              M6        Z                  11.2                  7.7   \n",
       "2             AV7        Z                   6.0                  5.8   \n",
       "3             AS6        Z                  12.7                  9.1   \n",
       "4             AS6        Z                  12.1                  8.7   \n",
       "...           ...      ...                   ...                  ...   \n",
       "1062          AS6        X                  13.4                  9.8   \n",
       "1063          AS6        X                  13.2                  9.5   \n",
       "1064          AS6        X                  13.4                  9.8   \n",
       "1065          AS6        X                  12.9                  9.3   \n",
       "1066          AS6        X                  14.9                 10.2   \n",
       "\n",
       "      FUELCONSUMPTION_COMB  FUELCONSUMPTION_COMB_MPG  CO2EMISSIONS  \n",
       "0                      8.5                        33           196  \n",
       "1                      9.6                        29           221  \n",
       "2                      5.9                        48           136  \n",
       "3                     11.1                        25           255  \n",
       "4                     10.6                        27           244  \n",
       "...                    ...                       ...           ...  \n",
       "1062                  11.8                        24           271  \n",
       "1063                  11.5                        25           264  \n",
       "1064                  11.8                        24           271  \n",
       "1065                  11.3                        25           260  \n",
       "1066                  12.8                        22           294  \n",
       "\n",
       "[1067 rows x 13 columns]"
      ]
     },
     "execution_count": 9,
     "metadata": {},
     "output_type": "execute_result"
    }
   ],
   "source": [
    "df"
   ]
  },
  {
   "cell_type": "code",
   "execution_count": 10,
   "metadata": {},
   "outputs": [
    {
     "data": {
      "text/plain": [
       "array([0.14893674, 0.7564641 , 0.3879763 , ..., 0.11641039, 0.34541354,\n",
       "       0.24645849])"
      ]
     },
     "execution_count": 10,
     "metadata": {},
     "output_type": "execute_result"
    }
   ],
   "source": [
    "np.random.rand(len(df))"
   ]
  },
  {
   "cell_type": "code",
   "execution_count": 10,
   "metadata": {
    "button": false,
    "deletable": true,
    "new_sheet": false,
    "run_control": {
     "read_only": false
    }
   },
   "outputs": [],
   "source": [
    "msk = np.random.rand(len(df)) < 0.8\n",
    "train = cdf[msk]\n",
    "test = cdf[~msk]"
   ]
  },
  {
   "cell_type": "markdown",
   "metadata": {
    "button": false,
    "deletable": true,
    "new_sheet": false,
    "run_control": {
     "read_only": false
    }
   },
   "source": [
    "### Simple Regression Model\n",
    "Linear Regression fits a linear model with coefficients B = (B1, ..., Bn) to minimize the 'residual sum of squares' between the independent x in the dataset, and the dependent y by the linear approximation. "
   ]
  },
  {
   "cell_type": "markdown",
   "metadata": {
    "button": false,
    "deletable": true,
    "new_sheet": false,
    "run_control": {
     "read_only": false
    }
   },
   "source": [
    "#### Train data distribution"
   ]
  },
  {
   "cell_type": "code",
   "execution_count": 12,
   "metadata": {},
   "outputs": [
    {
     "data": {
      "text/plain": [
       "(1067, 2)"
      ]
     },
     "execution_count": 12,
     "metadata": {},
     "output_type": "execute_result"
    }
   ],
   "source": [
    "cdf[['ENGINESIZE', 'CO2EMISSIONS']].shape\n"
   ]
  },
  {
   "cell_type": "code",
   "execution_count": 13,
   "metadata": {
    "button": false,
    "deletable": true,
    "new_sheet": false,
    "run_control": {
     "read_only": false
    }
   },
   "outputs": [
    {
     "data": {
      "image/png": "[encoded data removed]",
      "text/plain": [
       "<Figure size 432x288 with 1 Axes>"
      ]
     },
     "metadata": {
      "needs_background": "light"
     },
     "output_type": "display_data"
    }
   ],
   "source": [
    "plt.scatter(train.ENGINESIZE, train.CO2EMISSIONS,  color='blue')\n",
    "plt.xlabel(\"Engine size\")\n",
    "plt.ylabel(\"Emission\")\n",
    "plt.show()"
   ]
  },
  {
   "cell_type": "markdown",
   "metadata": {
    "button": false,
    "deletable": true,
    "new_sheet": false,
    "run_control": {
     "read_only": false
    }
   },
   "source": [
    "#### Modeling\n",
    "Using sklearn package to model data."
   ]
  },
  {
   "cell_type": "code",
   "execution_count": 14,
   "metadata": {
    "button": false,
    "deletable": true,
    "new_sheet": false,
    "run_control": {
     "read_only": false
    }
   },
   "outputs": [
    {
     "name": "stdout",
     "output_type": "stream",
     "text": [
      "Coefficients:  [[39.55286384]]\n",
      "Intercept:  [124.68920898]\n"
     ]
    }
   ],
   "source": [
    "from sklearn import linear_model\n",
    "regr = linear_model.LinearRegression()\n",
    "train_x = np.asanyarray(train[['ENGINESIZE']])\n",
    "train_y = np.asanyarray(train[['CO2EMISSIONS']])\n",
    "regr.fit (train_x, train_y)\n",
    "# The coefficients\n",
    "print ('Coefficients: ', regr.coef_)\n",
    "print ('Intercept: ',regr.intercept_)"
   ]
  },
  {
   "cell_type": "markdown",
   "metadata": {},
   "source": [
    "As mentioned before, __Coefficient__ and __Intercept__ in the simple linear regression, are the parameters of the fit line. \n",
    "Given that it is a simple linear regression, with only 2 parameters, and knowing that the parameters are the intercept and slope of the line, sklearn can estimate them directly from our data. \n",
    "Notice that all of the data must be available to traverse and calculate the parameters.\n"
   ]
  },
  {
   "cell_type": "markdown",
   "metadata": {
    "button": false,
    "deletable": true,
    "new_sheet": false,
    "run_control": {
     "read_only": false
    }
   },
   "source": [
    "#### Plot outputs"
   ]
  },
  {
   "cell_type": "markdown",
   "metadata": {},
   "source": [
    "we can plot the fit line over the data:"
   ]
  },
  {
   "cell_type": "code",
   "execution_count": 15,
   "metadata": {
    "button": false,
    "deletable": true,
    "new_sheet": false,
    "run_control": {
     "read_only": false
    }
   },
   "outputs": [
    {
     "data": {
      "text/plain": [
       "Text(0, 0.5, 'Emission')"
      ]
     },
     "execution_count": 15,
     "metadata": {},
     "output_type": "execute_result"
    },
    {
     "data": {
      "image/png": "[encoded data removed]",
      "text/plain": [
       "<Figure size 432x288 with 1 Axes>"
      ]
     },
     "metadata": {
      "needs_background": "light"
     },
     "output_type": "display_data"
    }
   ],
   "source": [
    "plt.scatter(train.ENGINESIZE, train.CO2EMISSIONS,  color='blue')\n",
    "plt.plot(train_x, regr.coef_[0][0]*train_x + regr.intercept_[0], '-r')\n",
    "plt.xlabel(\"Engine size\")\n",
    "plt.ylabel(\"Emission\")"
   ]
  },
  {
   "cell_type": "markdown",
   "metadata": {
    "button": false,
    "deletable": true,
    "new_sheet": false,
    "run_control": {
     "read_only": false
    }
   },
   "source": [
    "#### Evaluation\n",
    "we compare the actual values and predicted values to calculate the accuracy of a regression model. Evaluation metrics provide a key role in the development of a model, as it provides insight to areas that require improvement.\n",
    "\n",
    "There are different model evaluation metrics, lets use MSE here to calculate the accuracy of our model based on the test set: \n",
    "    - Mean absolute error: It is the mean of the absolute value of the errors. This is the easiest of the metrics to understand since it’s just average error.\n",
    "    - Mean Squared Error (MSE): Mean Squared Error (MSE) is the mean of the squared error. It’s more popular than Mean absolute error because the focus is geared more towards large errors. This is due to the squared term exponentially increasing larger errors in comparison to smaller ones.\n",
    "    - Root Mean Squared Error (RMSE).\n",
    "    - R-squared is not error, but is a popular metric for accuracy of your model. It represents how close the data are to the fitted regression line. The higher the R-squared, the better the model fits your data. Best possible score is 1.0 and it can be negative (because the model can be arbitrarily worse).\n"
   ]
  },
  {
   "cell_type": "code",
   "execution_count": 16,
   "metadata": {
    "button": false,
    "deletable": true,
    "new_sheet": false,
    "run_control": {
     "read_only": false
    },
    "scrolled": true
   },
   "outputs": [
    {
     "name": "stdout",
     "output_type": "stream",
     "text": [
      "Mean absolute error: 24.81\n",
      "Residual sum of squares (MSE): 1076.79\n",
      "R2-score: 0.63\n"
     ]
    }
   ],
   "source": [
    "from sklearn.metrics import r2_score\n",
    "\n",
    "test_x = np.asanyarray(test[['ENGINESIZE']])\n",
    "test_y = np.asanyarray(test[['CO2EMISSIONS']])\n",
    "test_y_ = regr.predict(test_x)\n",
    "\n",
    "print(\"Mean absolute error: %.2f\" % np.mean(np.absolute(test_y_ - test_y)))\n",
    "print(\"Residual sum of squares (MSE): %.2f\" % np.mean((test_y_ - test_y) ** 2))\n",
    "print(\"R2-score: %.2f\" % r2_score(test_y_ , test_y) )"
   ]
  },
  {
   "cell_type": "markdown",
   "metadata": {},
   "source": [
    "<h1 style='color:red'>Simple Linear Regression Using Gradient Descent</h1>"
   ]
  },
  {
   "cell_type": "markdown",
   "metadata": {},
   "source": [
    "### y = a + b*x"
   ]
  },
  {
   "cell_type": "code",
   "execution_count": 17,
   "metadata": {},
   "outputs": [
    {
     "data": {
      "text/plain": [
       "(876, 1)"
      ]
     },
     "execution_count": 17,
     "metadata": {},
     "output_type": "execute_result"
    }
   ],
   "source": [
    "train_x.shape\n",
    "# np.zeros((862, 1)).shape"
   ]
  },
  {
   "cell_type": "code",
   "execution_count": 66,
   "metadata": {},
   "outputs": [
    {
     "name": "stdout",
     "output_type": "stream",
     "text": [
      "Mean squared error at epochs:  10 is:  7449.336416837827\n",
      "Mean squared error at epochs:  20 is:  2850.487071926851\n",
      "Mean squared error at epochs:  30 is:  2551.9838686511703\n",
      "Mean squared error at epochs:  40 is:  2491.4717314639165\n",
      "Mean squared error at epochs:  50 is:  2445.3108229984473\n",
      "Mean squared error at epochs:  60 is:  2401.155854632601\n",
      "Mean squared error at epochs:  70 is:  2358.2927833026033\n",
      "Mean squared error at epochs:  80 is:  2316.64876208124\n",
      "Mean squared error at epochs:  90 is:  2276.1871896134794\n",
      "Mean squared error at epochs:  100 is:  2236.8743849242746\n",
      "Mean squared error at epochs:  110 is:  2198.677726836518\n",
      "Mean squared error at epochs:  120 is:  2161.565526034091\n",
      "Mean squared error at epochs:  130 is:  2125.5069932191955\n",
      "Mean squared error at epochs:  140 is:  2090.472213263112\n",
      "Mean squared error at epochs:  150 is:  2056.4321203709733\n",
      "Mean squared error at epochs:  160 is:  2023.3584739670896\n",
      "Mean squared error at epochs:  170 is:  1991.22383526574\n",
      "Mean squared error at epochs:  180 is:  1960.0015445072304\n",
      "Mean squared error at epochs:  190 is:  1929.6656988402306\n",
      "Mean squared error at epochs:  200 is:  1900.1911308320762\n",
      "Mean squared error at epochs:  210 is:  1871.5533875891922\n",
      "Mean squared error at epochs:  220 is:  1843.728710470314\n",
      "Mean squared error at epochs:  230 is:  1816.6940153756764\n",
      "Mean squared error at epochs:  240 is:  1790.426873595831\n",
      "Mean squared error at epochs:  250 is:  1764.9054932041822\n",
      "Mean squared error at epochs:  260 is:  1740.1087009778196\n",
      "Mean squared error at epochs:  270 is:  1716.015924831643\n",
      "Mean squared error at epochs:  280 is:  1692.6071767512087\n",
      "Mean squared error at epochs:  290 is:  1669.8630362101374\n",
      "Mean squared error at epochs:  300 is:  1647.7646340583215\n",
      "Mean squared error at epochs:  310 is:  1626.2936368675694\n",
      "Mean squared error at epochs:  320 is:  1605.4322317217054\n",
      "Mean squared error at epochs:  330 is:  1585.163111438492\n",
      "Mean squared error at epochs:  340 is:  1565.4694602111276\n",
      "Mean squared error at epochs:  350 is:  1546.3349396574047\n",
      "Mean squared error at epochs:  360 is:  1527.743675264942\n",
      "Mean squared error at epochs:  370 is:  1509.6802432212698\n",
      "Mean squared error at epochs:  380 is:  1492.1296576178142\n",
      "Mean squared error at epochs:  390 is:  1475.0773580171901\n",
      "Mean squared error at epochs:  400 is:  1458.5091973734684\n",
      "Mean squared error at epochs:  410 is:  1442.411430295407\n",
      "Mean squared error at epochs:  420 is:  1426.7707016429042\n",
      "Mean squared error at epochs:  430 is:  1411.5740354472175\n",
      "Mean squared error at epochs:  440 is:  1396.8088241457492\n",
      "Mean squared error at epochs:  450 is:  1382.4628181224757\n",
      "Mean squared error at epochs:  460 is:  1368.5241155453346\n",
      "Mean squared error at epochs:  470 is:  1354.9811524921472\n",
      "Mean squared error at epochs:  480 is:  1341.822693356877\n",
      "Mean squared error at epochs:  490 is:  1329.0378215282685\n",
      "Mean squared error at epochs:  500 is:  1316.615930333135\n",
      "Mean squared error at epochs:  510 is:  1304.5467142367747\n",
      "Mean squared error at epochs:  520 is:  1292.8201602932254\n",
      "Mean squared error at epochs:  530 is:  1281.426539838252\n",
      "Mean squared error at epochs:  540 is:  1270.3564004181894\n",
      "Mean squared error at epochs:  550 is:  1259.6005579479292\n",
      "Mean squared error at epochs:  560 is:  1249.1500890915574\n",
      "Mean squared error at epochs:  570 is:  1238.9963238593161\n",
      "Mean squared error at epochs:  580 is:  1229.1308384147458\n",
      "Mean squared error at epochs:  590 is:  1219.5454480860446\n",
      "Mean squared error at epochs:  600 is:  1210.232200575844\n",
      "Mean squared error at epochs:  610 is:  1201.1833693637714\n",
      "Mean squared error at epochs:  620 is:  1192.3914472963188\n",
      "Mean squared error at epochs:  630 is:  1183.849140358707\n",
      "Mean squared error at epochs:  640 is:  1175.5493616235774\n",
      "Mean squared error at epochs:  650 is:  1167.4852253714816\n",
      "Mean squared error at epochs:  660 is:  1159.6500413783103\n",
      "Mean squared error at epochs:  670 is:  1152.037309364897\n",
      "Mean squared error at epochs:  680 is:  1144.6407136042167\n",
      "Mean squared error at epochs:  690 is:  1137.4541176816847\n",
      "Mean squared error at epochs:  700 is:  1130.4715594042277\n",
      "Mean squared error at epochs:  710 is:  1123.687245853883\n",
      "Mean squared error at epochs:  720 is:  1117.0955485818397\n",
      "Mean squared error at epochs:  730 is:  1110.6909989389283\n",
      "Mean squared error at epochs:  740 is:  1104.4682835386802\n",
      "Mean squared error at epochs:  750 is:  1098.4222398492004\n",
      "Mean squared error at epochs:  760 is:  1092.547851910192\n",
      "Mean squared error at epochs:  770 is:  1086.8402461715816\n",
      "Mean squared error at epochs:  780 is:  1081.2946874502893\n",
      "Mean squared error at epochs:  790 is:  1075.9065750017958\n",
      "Mean squared error at epochs:  800 is:  1070.6714387032398\n",
      "Mean squared error at epochs:  810 is:  1065.5849353448846\n",
      "Mean squared error at epochs:  820 is:  1060.6428450268738\n",
      "Mean squared error at epochs:  830 is:  1055.841067658291\n",
      "Mean squared error at epochs:  840 is:  1051.1756195556097\n",
      "Mean squared error at epochs:  850 is:  1046.6426301377292\n",
      "Mean squared error at epochs:  860 is:  1042.2383387148295\n",
      "Mean squared error at epochs:  870 is:  1037.9590913684076\n",
      "Mean squared error at epochs:  880 is:  1033.8013379198846\n",
      "Mean squared error at epochs:  890 is:  1029.7616289852845\n",
      "Mean squared error at epochs:  900 is:  1025.836613113532\n",
      "Mean squared error at epochs:  910 is:  1022.0230340059979\n",
      "Mean squared error at epochs:  920 is:  1018.3177278149863\n",
      "Mean squared error at epochs:  930 is:  1014.717620518924\n",
      "Mean squared error at epochs:  940 is:  1011.2197253720658\n",
      "Mean squared error at epochs:  950 is:  1007.8211404266123\n",
      "Mean squared error at epochs:  960 is:  1004.5190461251755\n",
      "Mean squared error at epochs:  970 is:  1001.3107029615991\n",
      "Mean squared error at epochs:  980 is:  998.193449208189\n",
      "Mean squared error at epochs:  990 is:  995.1646987074731\n",
      "Mean squared error at epochs:  1000 is:  992.2219387266562\n",
      "Mean squared error at epochs:  1010 is:  989.3627278729895\n",
      "Mean squared error at epochs:  1020 is:  986.5846940683231\n",
      "Mean squared error at epochs:  1030 is:  983.8855325811702\n",
      "Mean squared error at epochs:  1040 is:  981.2630041146367\n",
      "Mean squared error at epochs:  1050 is:  978.7149329486414\n",
      "Mean squared error at epochs:  1060 is:  976.2392051348809\n",
      "Mean squared error at epochs:  1070 is:  973.83376674304\n",
      "Mean squared error at epochs:  1080 is:  971.4966221567968\n",
      "Mean squared error at epochs:  1090 is:  969.2258324182055\n",
      "Mean squared error at epochs:  1100 is:  967.0195136190845\n",
      "Mean squared error at epochs:  1110 is:  964.8758353380767\n",
      "Mean squared error at epochs:  1120 is:  962.7930191220811\n",
      "Mean squared error at epochs:  1130 is:  960.7693370108012\n",
      "Mean squared error at epochs:  1140 is:  958.8031101031834\n",
      "Mean squared error at epochs:  1150 is:  956.8927071645542\n",
      "Mean squared error at epochs:  1160 is:  955.0365432733045\n",
      "Mean squared error at epochs:  1170 is:  953.2330785059968\n",
      "Mean squared error at epochs:  1180 is:  951.4808166598027\n",
      "Mean squared error at epochs:  1190 is:  949.7783040112123\n",
      "Mean squared error at epochs:  1200 is:  948.124128109988\n",
      "Mean squared error at epochs:  1210 is:  946.5169166073558\n",
      "Mean squared error at epochs:  1220 is:  944.955336117468\n",
      "Mean squared error at epochs:  1230 is:  943.4380911111928\n",
      "Mean squared error at epochs:  1240 is:  941.9639228413052\n",
      "Mean squared error at epochs:  1250 is:  940.5316082981993\n",
      "Mean squared error at epochs:  1260 is:  939.139959195245\n",
      "Mean squared error at epochs:  1270 is:  937.787820982954\n",
      "Mean squared error at epochs:  1280 is:  936.4740718911346\n",
      "Mean squared error at epochs:  1290 is:  935.1976219982408\n",
      "Mean squared error at epochs:  1300 is:  933.9574123271444\n",
      "Mean squared error at epochs:  1310 is:  932.7524139665793\n",
      "Mean squared error at epochs:  1320 is:  931.5816272175279\n",
      "Mean squared error at epochs:  1330 is:  930.4440807638448\n",
      "Mean squared error at epochs:  1340 is:  929.338830866428\n",
      "Mean squared error at epochs:  1350 is:  928.264960580265\n",
      "Mean squared error at epochs:  1360 is:  927.2215789937125\n",
      "Mean squared error at epochs:  1370 is:  926.2078204893712\n",
      "Mean squared error at epochs:  1380 is:  925.2228440259476\n",
      "Mean squared error at epochs:  1390 is:  924.2658324405022\n",
      "Mean squared error at epochs:  1400 is:  923.335991770509\n",
      "Mean squared error at epochs:  1410 is:  922.4325505951648\n",
      "Mean squared error at epochs:  1420 is:  921.5547593953953\n",
      "Mean squared error at epochs:  1430 is:  920.7018899320364\n",
      "Mean squared error at epochs:  1440 is:  919.8732346416649\n",
      "Mean squared error at epochs:  1450 is:  919.0681060495866\n",
      "Mean squared error at epochs:  1460 is:  918.2858361994886\n",
      "Mean squared error at epochs:  1470 is:  917.5257760992844\n",
      "Mean squared error at epochs:  1480 is:  916.7872951826926\n",
      "Mean squared error at epochs:  1490 is:  916.0697807861023\n",
      "Mean squared error at epochs:  1500 is:  915.3726376402915\n",
      "Mean squared error at epochs:  1510 is:  914.6952873765745\n",
      "Mean squared error at epochs:  1520 is:  914.0371680469726\n",
      "Mean squared error at epochs:  1530 is:  913.3977336580072\n",
      "Mean squared error at epochs:  1540 is:  912.7764537177281\n",
      "Mean squared error at epochs:  1550 is:  912.1728127956035\n",
      "Mean squared error at epochs:  1560 is:  911.5863100949049\n",
      "Mean squared error at epochs:  1570 is:  911.0164590372333\n",
      "Mean squared error at epochs:  1580 is:  910.4627868588398\n",
      "Mean squared error at epochs:  1590 is:  909.924834218408\n",
      "Mean squared error at epochs:  1600 is:  909.4021548159737\n",
      "Mean squared error at epochs:  1610 is:  908.8943150226605\n",
      "Mean squared error at epochs:  1620 is:  908.4008935209308\n",
      "Mean squared error at epochs:  1630 is:  907.9214809550485\n",
      "Mean squared error at epochs:  1640 is:  907.455679591468\n",
      "Mean squared error at epochs:  1650 is:  907.003102988862\n",
      "Mean squared error at epochs:  1660 is:  906.5633756775211\n",
      "Mean squared error at epochs:  1670 is:  906.1361328478525\n",
      "Mean squared error at epochs:  1680 is:  905.7210200477247\n",
      "Mean squared error at epochs:  1690 is:  905.3176928884058\n",
      "Mean squared error at epochs:  1700 is:  904.9258167588463\n",
      "Mean squared error at epochs:  1710 is:  904.5450665480809\n",
      "Mean squared error at epochs:  1720 is:  904.1751263755035\n",
      "Mean squared error at epochs:  1730 is:  903.8156893288074\n",
      "Mean squared error at epochs:  1740 is:  903.4664572093604\n",
      "Mean squared error at epochs:  1750 is:  903.127140284813\n",
      "Mean squared error at epochs:  1760 is:  902.7974570487278\n",
      "Mean squared error at epochs:  1770 is:  902.4771339870331\n",
      "Mean squared error at epochs:  1780 is:  902.1659053511104\n",
      "Mean squared error at epochs:  1790 is:  901.863512937321\n",
      "Mean squared error at epochs:  1800 is:  901.5697058727934\n",
      "Mean squared error at epochs:  1810 is:  901.2842404072925\n",
      "Mean squared error at epochs:  1820 is:  901.0068797109976\n",
      "Mean squared error at epochs:  1830 is:  900.7373936780233\n",
      "Mean squared error at epochs:  1840 is:  900.475558735515\n",
      "Mean squared error at epochs:  1850 is:  900.2211576581699\n",
      "Mean squared error at epochs:  1860 is:  899.9739793880176\n",
      "Mean squared error at epochs:  1870 is:  899.7338188593251\n",
      "Mean squared error at epochs:  1880 is:  899.500476828464\n",
      "Mean squared error at epochs:  1890 is:  899.2737597086158\n",
      "Mean squared error at epochs:  1900 is:  899.0534794091666\n",
      "Mean squared error at epochs:  1910 is:  898.8394531796606\n",
      "Mean squared error at epochs:  1920 is:  898.6315034581877\n",
      "Mean squared error at epochs:  1930 is:  898.4294577240717\n",
      "Mean squared error at epochs:  1940 is:  898.2331483547422\n",
      "Mean squared error at epochs:  1950 is:  898.0424124866718\n",
      "Mean squared error at epochs:  1960 is:  897.8570918802596\n",
      "Mean squared error at epochs:  1970 is:  897.6770327885513\n",
      "Mean squared error at epochs:  1980 is:  897.502085829686\n",
      "Mean squared error at epochs:  1990 is:  897.3321058629662\n",
      "Mean squared error at epochs:  2000 is:  897.1669518684445\n",
      "Mean squared error at epochs:  2010 is:  897.0064868299288\n",
      "Mean squared error at epochs:  2020 is:  896.8505776213121\n",
      "Mean squared error at epochs:  2030 is:  896.6990948961261\n",
      "Mean squared error at epochs:  2040 is:  896.551912980231\n",
      "Mean squared error at epochs:  2050 is:  896.4089097675557\n",
      "Mean squared error at epochs:  2060 is:  896.2699666187915\n",
      "Mean squared error at epochs:  2070 is:  896.1349682629696\n",
      "Mean squared error at epochs:  2080 is:  896.0038027018265\n",
      "Mean squared error at epochs:  2090 is:  895.8763611168885\n",
      "Mean squared error at epochs:  2100 is:  895.752537779192\n",
      "Mean squared error at epochs:  2110 is:  895.6322299615699\n",
      "Mean squared error at epochs:  2120 is:  895.5153378534233\n",
      "Mean squared error at epochs:  2130 is:  895.4017644779191\n",
      "Mean squared error at epochs:  2140 is:  895.291415611533\n",
      "Mean squared error at epochs:  2150 is:  895.1841997058806\n",
      "Mean squared error at epochs:  2160 is:  895.0800278117657\n",
      "Mean squared error at epochs:  2170 is:  894.978813505386\n",
      "Mean squared error at epochs:  2180 is:  894.8804728166333\n",
      "Mean squared error at epochs:  2190 is:  894.7849241594299\n",
      "Mean squared error at epochs:  2200 is:  894.6920882640426\n",
      "Mean squared error at epochs:  2210 is:  894.601888111318\n",
      "Mean squared error at epochs:  2220 is:  894.514248868786\n",
      "Mean squared error at epochs:  2230 is:  894.429097828576\n",
      "Mean squared error at epochs:  2240 is:  894.3463643470972\n",
      "Mean squared error at epochs:  2250 is:  894.2659797864305\n",
      "Mean squared error at epochs:  2260 is:  894.1878774573845\n",
      "Mean squared error at epochs:  2270 is:  894.1119925641681\n",
      "Mean squared error at epochs:  2280 is:  894.0382621506352\n",
      "Mean squared error at epochs:  2290 is:  893.9666250480537\n",
      "Mean squared error at epochs:  2300 is:  893.8970218243585\n",
      "Mean squared error at epochs:  2310 is:  893.8293947348446\n",
      "Mean squared error at epochs:  2320 is:  893.7636876742623\n",
      "Mean squared error at epochs:  2330 is:  893.6998461302679\n",
      "Mean squared error at epochs:  2340 is:  893.6378171382017\n",
      "Mean squared error at epochs:  2350 is:  893.5775492371448\n",
      "Mean squared error at epochs:  2360 is:  893.5189924272271\n",
      "Mean squared error at epochs:  2370 is:  893.4620981281461\n",
      "Mean squared error at epochs:  2380 is:  893.4068191388624\n",
      "Mean squared error at epochs:  2390 is:  893.3531095984408\n",
      "Mean squared error at epochs:  2400 is:  893.3009249480042\n",
      "Mean squared error at epochs:  2410 is:  893.2502218937636\n",
      "Mean squared error at epochs:  2420 is:  893.2009583711038\n",
      "Mean squared error at epochs:  2430 is:  893.1530935096818\n",
      "Mean squared error at epochs:  2440 is:  893.1065875995232\n",
      "Mean squared error at epochs:  2450 is:  893.0614020580748\n",
      "Mean squared error at epochs:  2460 is:  893.0174993981977\n",
      "Mean squared error at epochs:  2470 is:  892.9748431970658\n",
      "Mean squared error at epochs:  2480 is:  892.9333980659478\n",
      "Mean squared error at epochs:  2490 is:  892.8931296208498\n",
      "Mean squared error at epochs:  2500 is:  892.8540044539878\n",
      "Mean squared error at epochs:  2510 is:  892.8159901060721\n",
      "Mean squared error at epochs:  2520 is:  892.7790550393781\n",
      "Mean squared error at epochs:  2530 is:  892.7431686115823\n",
      "Mean squared error at epochs:  2540 is:  892.7083010503396\n",
      "Mean squared error at epochs:  2550 is:  892.6744234285846\n",
      "Mean squared error at epochs:  2560 is:  892.6415076405319\n",
      "Mean squared error at epochs:  2570 is:  892.6095263783594\n",
      "Mean squared error at epochs:  2580 is:  892.578453109553\n",
      "Mean squared error at epochs:  2590 is:  892.5482620548933\n",
      "Mean squared error at epochs:  2600 is:  892.5189281670707\n",
      "Mean squared error at epochs:  2610 is:  892.4904271099033\n",
      "Mean squared error at epochs:  2620 is:  892.4627352381488\n",
      "Mean squared error at epochs:  2630 is:  892.4358295778856\n",
      "Mean squared error at epochs:  2640 is:  892.4096878074556\n",
      "Mean squared error at epochs:  2650 is:  892.3842882389436\n",
      "Mean squared error at epochs:  2660 is:  892.3596098001846\n",
      "Mean squared error at epochs:  2670 is:  892.3356320172835\n",
      "Mean squared error at epochs:  2680 is:  892.3123349976265\n",
      "Mean squared error at epochs:  2690 is:  892.2896994133807\n",
      "Mean squared error at epochs:  2700 is:  892.2677064854574\n",
      "Mean squared error at epochs:  2710 is:  892.2463379679319\n",
      "Mean squared error at epochs:  2720 is:  892.2255761329085\n",
      "Mean squared error at epochs:  2730 is:  892.2054037558111\n",
      "Mean squared error at epochs:  2740 is:  892.1858041010929\n",
      "Mean squared error at epochs:  2750 is:  892.1667609083546\n",
      "Mean squared error at epochs:  2760 is:  892.148258378851\n",
      "Mean squared error at epochs:  2770 is:  892.1302811623871\n",
      "Mean squared error at epochs:  2780 is:  892.1128143445809\n",
      "Mean squared error at epochs:  2790 is:  892.095843434491\n",
      "Mean squared error at epochs:  2800 is:  892.0793543525947\n",
      "Mean squared error at epochs:  2810 is:  892.063333419106\n",
      "Mean squared error at epochs:  2820 is:  892.0477673426284\n",
      "Mean squared error at epochs:  2830 is:  892.0326432091267\n",
      "Mean squared error at epochs:  2840 is:  892.0179484712129\n",
      "Mean squared error at epochs:  2850 is:  892.0036709377382\n",
      "Mean squared error at epochs:  2860 is:  891.9897987636771\n",
      "Mean squared error at epochs:  2870 is:  891.9763204403009\n",
      "Mean squared error at epochs:  2880 is:  891.9632247856305\n",
      "Mean squared error at epochs:  2890 is:  891.9505009351587\n",
      "Mean squared error at epochs:  2900 is:  891.9381383328382\n",
      "Mean squared error at epochs:  2910 is:  891.9261267223205\n",
      "Mean squared error at epochs:  2920 is:  891.9144561384524\n",
      "Mean squared error at epochs:  2930 is:  891.9031168990026\n",
      "Mean squared error at epochs:  2940 is:  891.8920995966341\n",
      "Mean squared error at epochs:  2950 is:  891.8813950910964\n",
      "Mean squared error at epochs:  2960 is:  891.8709945016444\n",
      "Mean squared error at epochs:  2970 is:  891.8608891996694\n",
      "Mean squared error at epochs:  2980 is:  891.8510708015419\n",
      "Mean squared error at epochs:  2990 is:  891.8415311616542\n",
      "Mean squared error at epochs:  3000 is:  891.8322623656652\n",
      "Mean squared error at epochs:  3010 is:  891.8232567239328\n",
      "Mean squared error at epochs:  3020 is:  891.8145067651345\n",
      "Mean squared error at epochs:  3030 is:  891.8060052300693\n",
      "Mean squared error at epochs:  3040 is:  891.7977450656352\n",
      "Mean squared error at epochs:  3050 is:  891.789719418978\n",
      "Mean squared error at epochs:  3060 is:  891.7819216318056\n",
      "Mean squared error at epochs:  3070 is:  891.7743452348642\n",
      "Mean squared error at epochs:  3080 is:  891.7669839425714\n",
      "Mean squared error at epochs:  3090 is:  891.7598316478011\n",
      "Mean squared error at epochs:  3100 is:  891.7528824168178\n",
      "Mean squared error at epochs:  3110 is:  891.7461304843522\n",
      "Mean squared error at epochs:  3120 is:  891.7395702488202\n",
      "Mean squared error at epochs:  3130 is:  891.7331962676741\n",
      "Mean squared error at epochs:  3140 is:  891.7270032528874\n",
      "Mean squared error at epochs:  3150 is:  891.7209860665689\n",
      "Mean squared error at epochs:  3160 is:  891.7151397166994\n",
      "Mean squared error at epochs:  3170 is:  891.7094593529898\n",
      "Mean squared error at epochs:  3180 is:  891.7039402628576\n",
      "Mean squared error at epochs:  3190 is:  891.6985778675173\n",
      "Mean squared error at epochs:  3200 is:  891.693367718182\n",
      "Mean squared error at epochs:  3210 is:  891.6883054923716\n",
      "Mean squared error at epochs:  3220 is:  891.6833869903274\n",
      "Mean squared error at epochs:  3230 is:  891.6786081315279\n",
      "Mean squared error at epochs:  3240 is:  891.6739649513042\n",
      "Mean squared error at epochs:  3250 is:  891.6694535975485\n",
      "Mean squared error at epochs:  3260 is:  891.6650703275202\n",
      "Mean squared error at epochs:  3270 is:  891.6608115047418\n",
      "Mean squared error at epochs:  3280 is:  891.6566735959783\n",
      "Mean squared error at epochs:  3290 is:  891.6526531683102\n",
      "Mean squared error at epochs:  3300 is:  891.6487468862827\n",
      "Mean squared error at epochs:  3310 is:  891.6449515091387\n",
      "Mean squared error at epochs:  3320 is:  891.6412638881318\n",
      "Mean squared error at epochs:  3330 is:  891.6376809639127\n",
      "Mean squared error at epochs:  3340 is:  891.6341997639904\n",
      "Mean squared error at epochs:  3350 is:  891.6308174002687\n",
      "Mean squared error at epochs:  3360 is:  891.6275310666474\n",
      "Mean squared error at epochs:  3370 is:  891.6243380366958\n",
      "Mean squared error at epochs:  3380 is:  891.6212356613909\n",
      "Mean squared error at epochs:  3390 is:  891.618221366918\n",
      "Mean squared error at epochs:  3400 is:  891.6152926525382\n",
      "Mean squared error at epochs:  3410 is:  891.6124470885109\n",
      "Mean squared error at epochs:  3420 is:  891.6096823140799\n",
      "Mean squared error at epochs:  3430 is:  891.606996035514\n",
      "Mean squared error at epochs:  3440 is:  891.6043860242044\n",
      "Mean squared error at epochs:  3450 is:  891.6018501148154\n",
      "Mean squared error at epochs:  3460 is:  891.5993862034886\n",
      "Mean squared error at epochs:  3470 is:  891.596992246097\n",
      "Mean squared error at epochs:  3480 is:  891.594666256549\n",
      "Mean squared error at epochs:  3490 is:  891.5924063051415\n",
      "Mean squared error at epochs:  3500 is:  891.5902105169573\n",
      "Mean squared error at epochs:  3510 is:  891.5880770703127\n",
      "Mean squared error at epochs:  3520 is:  891.5860041952421\n",
      "Mean squared error at epochs:  3530 is:  891.5839901720335\n",
      "Mean squared error at epochs:  3540 is:  891.5820333297982\n",
      "Mean squared error at epochs:  3550 is:  891.5801320450879\n",
      "Mean squared error at epochs:  3560 is:  891.5782847405453\n",
      "Mean squared error at epochs:  3570 is:  891.5764898835977\n",
      "Mean squared error at epochs:  3580 is:  891.5747459851825\n",
      "Mean squared error at epochs:  3590 is:  891.5730515985155\n",
      "Mean squared error at epochs:  3600 is:  891.5714053178875\n",
      "Mean squared error at epochs:  3610 is:  891.5698057775005\n",
      "Mean squared error at epochs:  3620 is:  891.5682516503318\n",
      "Mean squared error at epochs:  3630 is:  891.566741647037\n",
      "Mean squared error at epochs:  3640 is:  891.5652745148757\n",
      "Mean squared error at epochs:  3650 is:  891.5638490366763\n",
      "Mean squared error at epochs:  3660 is:  891.5624640298236\n",
      "Mean squared error at epochs:  3670 is:  891.5611183452784\n",
      "Mean squared error at epochs:  3680 is:  891.5598108666252\n",
      "Mean squared error at epochs:  3690 is:  891.5585405091442\n",
      "Mean squared error at epochs:  3700 is:  891.5573062189127\n",
      "Mean squared error at epochs:  3710 is:  891.5561069719305\n",
      "Mean squared error at epochs:  3720 is:  891.55494177327\n",
      "Mean squared error at epochs:  3730 is:  891.5538096562512\n",
      "Mean squared error at epochs:  3740 is:  891.552709681639\n",
      "Mean squared error at epochs:  3750 is:  891.5516409368657\n",
      "Mean squared error at epochs:  3760 is:  891.5506025352711\n",
      "Mean squared error at epochs:  3770 is:  891.5495936153699\n",
      "Mean squared error at epochs:  3780 is:  891.5486133401348\n",
      "Mean squared error at epochs:  3790 is:  891.547660896303\n",
      "Mean squared error at epochs:  3800 is:  891.5467354937018\n",
      "Mean squared error at epochs:  3810 is:  891.545836364592\n",
      "Mean squared error at epochs:  3820 is:  891.5449627630321\n",
      "Mean squared error at epochs:  3830 is:  891.544113964259\n",
      "Mean squared error at epochs:  3840 is:  891.5432892640863\n",
      "Mean squared error at epochs:  3850 is:  891.5424879783202\n",
      "Mean squared error at epochs:  3860 is:  891.5417094421931\n",
      "Mean squared error at epochs:  3870 is:  891.54095300981\n",
      "Mean squared error at epochs:  3880 is:  891.5402180536144\n",
      "Mean squared error at epochs:  3890 is:  891.539503963867\n",
      "Mean squared error at epochs:  3900 is:  891.5388101481401\n",
      "Mean squared error at epochs:  3910 is:  891.5381360308246\n",
      "Mean squared error at epochs:  3920 is:  891.5374810526558\n",
      "Mean squared error at epochs:  3930 is:  891.5368446702452\n",
      "Mean squared error at epochs:  3940 is:  891.5362263556335\n",
      "Mean squared error at epochs:  3950 is:  891.5356255958499\n",
      "Mean squared error at epochs:  3960 is:  891.5350418924885\n",
      "Mean squared error at epochs:  3970 is:  891.5344747612925\n",
      "Mean squared error at epochs:  3980 is:  891.5339237317553\n",
      "Mean squared error at epochs:  3990 is:  891.5333883467276\n",
      "Mean squared error at epochs:  4000 is:  891.5328681620397\n",
      "Mean squared error at epochs:  4010 is:  891.5323627461325\n",
      "Mean squared error at epochs:  4020 is:  891.5318716796994\n",
      "Mean squared error at epochs:  4030 is:  891.5313945553384\n",
      "Mean squared error at epochs:  4040 is:  891.5309309772141\n",
      "Mean squared error at epochs:  4050 is:  891.53048056073\n",
      "Mean squared error at epochs:  4060 is:  891.5300429322086\n",
      "Mean squared error at epochs:  4070 is:  891.5296177285809\n",
      "Mean squared error at epochs:  4080 is:  891.5292045970871\n",
      "Mean squared error at epochs:  4090 is:  891.5288031949818\n",
      "Mean squared error at epochs:  4100 is:  891.5284131892513\n",
      "Mean squared error at epochs:  4110 is:  891.5280342563366\n",
      "Mean squared error at epochs:  4120 is:  891.5276660818643\n",
      "Mean squared error at epochs:  4130 is:  891.5273083603871\n",
      "Mean squared error at epochs:  4140 is:  891.5269607951295\n",
      "Mean squared error at epochs:  4150 is:  891.5266230977426\n",
      "Mean squared error at epochs:  4160 is:  891.5262949880629\n",
      "Mean squared error at epochs:  4170 is:  891.5259761938823\n",
      "Mean squared error at epochs:  4180 is:  891.5256664507205\n",
      "Mean squared error at epochs:  4190 is:  891.5253655016057\n",
      "Mean squared error at epochs:  4200 is:  891.5250730968631\n",
      "Mean squared error at epochs:  4210 is:  891.5247889939058\n",
      "Mean squared error at epochs:  4220 is:  891.5245129570337\n",
      "Mean squared error at epochs:  4230 is:  891.5242447572399\n",
      "Mean squared error at epochs:  4240 is:  891.5239841720187\n",
      "Mean squared error at epochs:  4250 is:  891.523730985181\n",
      "Mean squared error at epochs:  4260 is:  891.5234849866763\n",
      "Mean squared error at epochs:  4270 is:  891.5232459724184\n",
      "Mean squared error at epochs:  4280 is:  891.5230137441138\n",
      "Mean squared error at epochs:  4290 is:  891.5227881090998\n",
      "Mean squared error at epochs:  4300 is:  891.5225688801838\n",
      "Mean squared error at epochs:  4310 is:  891.5223558754875\n",
      "Mean squared error at epochs:  4320 is:  891.5221489182966\n",
      "Mean squared error at epochs:  4330 is:  891.5219478369136\n",
      "Mean squared error at epochs:  4340 is:  891.5217524645159\n",
      "Mean squared error at epochs:  4350 is:  891.5215626390177\n",
      "Mean squared error at epochs:  4360 is:  891.5213782029344\n",
      "Mean squared error at epochs:  4370 is:  891.5211990032528\n",
      "Mean squared error at epochs:  4380 is:  891.5210248913046\n",
      "Mean squared error at epochs:  4390 is:  891.5208557226412\n",
      "Mean squared error at epochs:  4400 is:  891.5206913569157\n",
      "Mean squared error at epochs:  4410 is:  891.5205316577664\n",
      "Mean squared error at epochs:  4420 is:  891.5203764927022\n",
      "Mean squared error at epochs:  4430 is:  891.5202257329939\n",
      "Mean squared error at epochs:  4440 is:  891.5200792535678\n",
      "Mean squared error at epochs:  4450 is:  891.5199369329001\n",
      "Mean squared error at epochs:  4460 is:  891.519798652918\n",
      "Mean squared error at epochs:  4470 is:  891.5196642989004\n",
      "Mean squared error at epochs:  4480 is:  891.5195337593839\n",
      "Mean squared error at epochs:  4490 is:  891.5194069260696\n",
      "Mean squared error at epochs:  4500 is:  891.5192836937324\n",
      "Mean squared error at epochs:  4510 is:  891.5191639601362\n",
      "Mean squared error at epochs:  4520 is:  891.5190476259467\n",
      "Mean squared error at epochs:  4530 is:  891.5189345946492\n",
      "Mean squared error at epochs:  4540 is:  891.5188247724707\n",
      "Mean squared error at epochs:  4550 is:  891.5187180682994\n",
      "Mean squared error at epochs:  4560 is:  891.5186143936111\n",
      "Mean squared error at epochs:  4570 is:  891.518513662394\n",
      "Mean squared error at epochs:  4580 is:  891.5184157910787\n",
      "Mean squared error at epochs:  4590 is:  891.5183206984691\n",
      "Mean squared error at epochs:  4600 is:  891.5182283056735\n",
      "Mean squared error at epochs:  4610 is:  891.5181385360402\n",
      "Mean squared error at epochs:  4620 is:  891.5180513150938\n",
      "Mean squared error at epochs:  4630 is:  891.5179665704742\n",
      "Mean squared error at epochs:  4640 is:  891.5178842318743\n",
      "Mean squared error at epochs:  4650 is:  891.5178042309839\n",
      "Mean squared error at epochs:  4660 is:  891.517726501432\n",
      "Mean squared error at epochs:  4670 is:  891.5176509787323\n",
      "Mean squared error at epochs:  4680 is:  891.5175776002292\n",
      "Mean squared error at epochs:  4690 is:  891.5175063050459\n",
      "Mean squared error at epochs:  4700 is:  891.5174370340338\n",
      "Mean squared error at epochs:  4710 is:  891.5173697297241\n",
      "Mean squared error at epochs:  4720 is:  891.5173043362788\n",
      "Mean squared error at epochs:  4730 is:  891.5172407994464\n",
      "Mean squared error at epochs:  4740 is:  891.5171790665148\n",
      "Mean squared error at epochs:  4750 is:  891.5171190862686\n",
      "Mean squared error at epochs:  4760 is:  891.5170608089464\n",
      "Mean squared error at epochs:  4770 is:  891.5170041862002\n",
      "Mean squared error at epochs:  4780 is:  891.5169491710539\n",
      "Mean squared error at epochs:  4790 is:  891.5168957178654\n",
      "Mean squared error at epochs:  4800 is:  891.5168437822887\n",
      "Mean squared error at epochs:  4810 is:  891.516793321237\n",
      "Mean squared error at epochs:  4820 is:  891.5167442928459\n",
      "Mean squared error at epochs:  4830 is:  891.5166966564404\n",
      "Mean squared error at epochs:  4840 is:  891.5166503725001\n",
      "Mean squared error at epochs:  4850 is:  891.516605402626\n",
      "Mean squared error at epochs:  4860 is:  891.5165617095105\n",
      "Mean squared error at epochs:  4870 is:  891.5165192569051\n",
      "Mean squared error at epochs:  4880 is:  891.5164780095888\n",
      "Mean squared error at epochs:  4890 is:  891.5164379333421\n",
      "Mean squared error at epochs:  4900 is:  891.5163989949173\n",
      "Mean squared error at epochs:  4910 is:  891.5163611620092\n",
      "Mean squared error at epochs:  4920 is:  891.516324403231\n",
      "Mean squared error at epochs:  4930 is:  891.516288688087\n",
      "Mean squared error at epochs:  4940 is:  891.5162539869464\n",
      "Mean squared error at epochs:  4950 is:  891.5162202710203\n",
      "Mean squared error at epochs:  4960 is:  891.5161875123372\n",
      "Mean squared error at epochs:  4970 is:  891.5161556837193\n",
      "Mean squared error at epochs:  4980 is:  891.5161247587611\n",
      "Mean squared error at epochs:  4990 is:  891.5160947118064\n",
      "Mean squared error at epochs:  5000 is:  891.5160655179276\n",
      "Mean squared error at epochs:  5010 is:  891.516037152904\n",
      "Mean squared error at epochs:  5020 is:  891.5160095932038\n",
      "Mean squared error at epochs:  5030 is:  891.5159828159624\n",
      "Mean squared error at epochs:  5040 is:  891.5159567989649\n",
      "Mean squared error at epochs:  5050 is:  891.5159315206271\n",
      "Mean squared error at epochs:  5060 is:  891.5159069599769\n",
      "Mean squared error at epochs:  5070 is:  891.5158830966382\n",
      "Mean squared error at epochs:  5080 is:  891.5158599108138\n",
      "Mean squared error at epochs:  5090 is:  891.5158373832677\n",
      "Mean squared error at epochs:  5100 is:  891.5158154953106\n",
      "Mean squared error at epochs:  5110 is:  891.5157942287834\n",
      "Mean squared error at epochs:  5120 is:  891.5157735660434\n",
      "Mean squared error at epochs:  5130 is:  891.5157534899478\n",
      "Mean squared error at epochs:  5140 is:  891.5157339838407\n",
      "Mean squared error at epochs:  5150 is:  891.5157150315399\n",
      "Mean squared error at epochs:  5160 is:  891.515696617322\n",
      "Mean squared error at epochs:  5170 is:  891.5156787259093\n",
      "Mean squared error at epochs:  5180 is:  891.5156613424597\n",
      "Mean squared error at epochs:  5190 is:  891.5156444525509\n",
      "Mean squared error at epochs:  5200 is:  891.5156280421702\n",
      "Mean squared error at epochs:  5210 is:  891.5156120977034\n",
      "Mean squared error at epochs:  5220 is:  891.515596605923\n",
      "Mean squared error at epochs:  5230 is:  891.5155815539757\n",
      "Mean squared error at epochs:  5240 is:  891.5155669293749\n",
      "Mean squared error at epochs:  5250 is:  891.5155527199872\n",
      "Mean squared error at epochs:  5260 is:  891.5155389140242\n",
      "Mean squared error at epochs:  5270 is:  891.5155255000318\n",
      "Mean squared error at epochs:  5280 is:  891.515512466882\n",
      "Mean squared error at epochs:  5290 is:  891.5154998037616\n",
      "Mean squared error at epochs:  5300 is:  891.5154875001651\n",
      "Mean squared error at epochs:  5310 is:  891.5154755458851\n",
      "Mean squared error at epochs:  5320 is:  891.5154639310043\n",
      "Mean squared error at epochs:  5330 is:  891.5154526458863\n",
      "Mean squared error at epochs:  5340 is:  891.5154416811688\n",
      "Mean squared error at epochs:  5350 is:  891.5154310277553\n",
      "Mean squared error at epochs:  5360 is:  891.5154206768069\n",
      "Mean squared error at epochs:  5370 is:  891.5154106197369\n",
      "Mean squared error at epochs:  5380 is:  891.5154008482016\n",
      "Mean squared error at epochs:  5390 is:  891.5153913540936\n",
      "Mean squared error at epochs:  5400 is:  891.515382129537\n",
      "Mean squared error at epochs:  5410 is:  891.5153731668787\n",
      "Mean squared error at epochs:  5420 is:  891.515364458683\n",
      "Mean squared error at epochs:  5430 is:  891.5153559977252\n",
      "Mean squared error at epochs:  5440 is:  891.5153477769859\n",
      "Mean squared error at epochs:  5450 is:  891.515339789645\n",
      "Mean squared error at epochs:  5460 is:  891.5153320290763\n",
      "Mean squared error at epochs:  5470 is:  891.515324488841\n",
      "Mean squared error at epochs:  5480 is:  891.5153171626837\n",
      "Mean squared error at epochs:  5490 is:  891.5153100445264\n",
      "Mean squared error at epochs:  5500 is:  891.5153031284634\n",
      "Mean squared error at epochs:  5510 is:  891.5152964087575\n",
      "Mean squared error at epochs:  5520 is:  891.5152898798335\n",
      "Mean squared error at epochs:  5530 is:  891.5152835362751\n",
      "Mean squared error at epochs:  5540 is:  891.5152773728194\n",
      "Mean squared error at epochs:  5550 is:  891.5152713843524\n",
      "Mean squared error at epochs:  5560 is:  891.5152655659067\n",
      "Mean squared error at epochs:  5570 is:  891.5152599126551\n",
      "Mean squared error at epochs:  5580 is:  891.515254419907\n",
      "Mean squared error at epochs:  5590 is:  891.5152490831063\n",
      "Mean squared error at epochs:  5600 is:  891.5152438978247\n",
      "Mean squared error at epochs:  5610 is:  891.5152388597604\n",
      "Mean squared error at epochs:  5620 is:  891.5152339647341\n",
      "Mean squared error at epochs:  5630 is:  891.5152292086844\n",
      "Mean squared error at epochs:  5640 is:  891.5152245876658\n",
      "Mean squared error at epochs:  5650 is:  891.5152200978445\n",
      "Mean squared error at epochs:  5660 is:  891.5152157354956\n",
      "Mean squared error at epochs:  5670 is:  891.5152114969998\n",
      "Mean squared error at epochs:  5680 is:  891.515207378841\n",
      "Mean squared error at epochs:  5690 is:  891.5152033776027\n",
      "Mean squared error at epochs:  5700 is:  891.5151994899651\n",
      "Mean squared error at epochs:  5710 is:  891.5151957127032\n",
      "Mean squared error at epochs:  5720 is:  891.5151920426827\n",
      "Mean squared error at epochs:  5730 is:  891.5151884768595\n",
      "Mean squared error at epochs:  5740 is:  891.5151850122752\n",
      "Mean squared error at epochs:  5750 is:  891.5151816460555\n",
      "Mean squared error at epochs:  5760 is:  891.5151783754071\n",
      "Mean squared error at epochs:  5770 is:  891.515175197617\n",
      "Mean squared error at epochs:  5780 is:  891.5151721100493\n",
      "Mean squared error at epochs:  5790 is:  891.515169110142\n",
      "Mean squared error at epochs:  5800 is:  891.5151661954061\n",
      "Mean squared error at epochs:  5810 is:  891.5151633634238\n",
      "Mean squared error at epochs:  5820 is:  891.5151606118454\n",
      "Mean squared error at epochs:  5830 is:  891.5151579383881\n",
      "Mean squared error at epochs:  5840 is:  891.5151553408344\n",
      "Mean squared error at epochs:  5850 is:  891.5151528170288\n",
      "Mean squared error at epochs:  5860 is:  891.5151503648774\n",
      "Mean squared error at epochs:  5870 is:  891.5151479823462\n",
      "Mean squared error at epochs:  5880 is:  891.5151456674587\n",
      "Mean squared error at epochs:  5890 is:  891.5151434182939\n",
      "Mean squared error at epochs:  5900 is:  891.5151412329861\n",
      "Mean squared error at epochs:  5910 is:  891.5151391097223\n",
      "Mean squared error at epochs:  5920 is:  891.5151370467408\n",
      "Mean squared error at epochs:  5930 is:  891.5151350423304\n",
      "Mean squared error at epochs:  5940 is:  891.5151330948281\n",
      "Mean squared error at epochs:  5950 is:  891.5151312026179\n",
      "Mean squared error at epochs:  5960 is:  891.5151293641306\n",
      "Mean squared error at epochs:  5970 is:  891.5151275778403\n",
      "Mean squared error at epochs:  5980 is:  891.5151258422654\n",
      "Mean squared error at epochs:  5990 is:  891.515124155966\n",
      "Mean squared error at epochs:  6000 is:  891.515122517543\n"
     ]
    }
   ],
   "source": [
    "n = 845\n",
    "a = 0\n",
    "b = 0\n",
    "\n",
    "alpha = 0.01\n",
    "epochs = 0\n",
    "while(epochs < 6000):\n",
    "    y = a + b*train_x\n",
    "    err = y - train_y\n",
    "    mean_squared_err = np.sum(err**2)/n\n",
    "    a = a - alpha*np.sum(err)/n\n",
    "    b = b - alpha*np.sum(err*train_x)/n\n",
    "    epochs+=1\n",
    "    if(epochs%10 == 0):\n",
    "        print('Mean squared error at epochs: ', epochs, 'is: ' , mean_squared_err)"
   ]
  },
  {
   "cell_type": "code",
   "execution_count": 79,
   "metadata": {},
   "outputs": [
    {
     "data": {
      "text/plain": [
       "8.4"
      ]
     },
     "execution_count": 79,
     "metadata": {},
     "output_type": "execute_result"
    }
   ],
   "source": [
    "test_x.max()"
   ]
  },
  {
   "cell_type": "code",
   "execution_count": 70,
   "metadata": {},
   "outputs": [
    {
     "name": "stdout",
     "output_type": "stream",
     "text": [
      "R2-score: 0.65\n"
     ]
    }
   ],
   "source": [
    "y_hat = a + b*test_x\n",
    "# y_hat.shape\n",
    "print(\"R2-score: %.2f\" % r2_score(y_hat , test_y) )"
   ]
  },
  {
   "cell_type": "code",
   "execution_count": 81,
   "metadata": {},
   "outputs": [
    {
     "data": {
      "image/png": "[encoded data removed]",
      "text/plain": [
       "<Figure size 432x288 with 1 Axes>"
      ]
     },
     "metadata": {},
     "output_type": "display_data"
    }
   ],
   "source": [
    "x = np.random.uniform(np.arange(1, 9, 0.01))\n",
    "y = a + b*x\n",
    "plt.scatter(test_x, test_y,  color='blue')\n",
    "plt.plot(x, y, '-r')\n",
    "plt.xlabel(\"Engine size\")\n",
    "plt.ylabel(\"Emission\")\n",
    "plt.show()"
   ]
  }
 ],
 "metadata": {
  "kernelspec": {
   "display_name": "Python 3",
   "language": "python",
   "name": "python3"
  },
  "language_info": {
   "codemirror_mode": {
    "name": "ipython",
    "version": 3
   },
   "file_extension": ".py",
   "mimetype": "text/x-python",
   "name": "python",
   "nbconvert_exporter": "python",
   "pygments_lexer": "ipython3",
   "version": "3.6.10"
  },
  "widgets": {
   "state": {},
   "version": "1.1.2"
  }
 },
 "nbformat": 4,
 "nbformat_minor": 4
}
