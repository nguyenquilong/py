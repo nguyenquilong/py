{
 "cells": [
  {
   "cell_type": "code",
   "execution_count": null,
   "metadata": {},
   "outputs": [],
   "source": [
    "import numpy as np\n",
    "import pandas as pd"
   ]
  },
  {
   "cell_type": "markdown",
   "metadata": {},
   "source": [
    "Câu 1: Thay thế các khoảng trống bị thiếu trong một chuỗi bằng ký tự ít thường xuyên nhất."
   ]
  },
  {
   "cell_type": "code",
   "execution_count": null,
   "metadata": {},
   "outputs": [],
   "source": [
    "# Thay thế khoảng trắng trong my_str bằng ký tự ít gặp nhất.\n",
    "\n",
    "my_str = 'dbc deb abed gade'\n",
    "\n",
    "# Nhập code của Anh/Chị bên dưới đây:\n",
    "\n",
    "se = ???(list('dbc deb abed gade'))\n",
    "freq = se.???()\n",
    "print(freq)\n",
    "least_freq = ???.index[?]\n",
    "\"\".???(ser.replace(' ', ???))\n",
    "\n",
    "# Gợi ý: dùng pd.Series(), value_counts(), dropna(), join()"
   ]
  },
  {
   "cell_type": "markdown",
   "metadata": {},
   "source": [
    "--------------------\n",
    "Câu 2: Lấy số hàng của giá trị lớn thứ n trong một cột."
   ]
  },
  {
   "cell_type": "code",
   "execution_count": null,
   "metadata": {},
   "outputs": [],
   "source": [
    "# Tìm vị trí hàng của giá trị lớn nhất thứ 5 của cột 'a' trong df.\n",
    "\n",
    "df = pd.DataFrame(np.random.randint(1, 30, 30).reshape(10,-1), columns=list('abc'))\n",
    "\n",
    "# Nhập code của Anh/Chị bên dưới đây:\n",
    "???\n",
    "\n",
    "df\n",
    "# Gợi ý: dùng argsort()"
   ]
  },
  {
   "cell_type": "markdown",
   "metadata": {},
   "source": [
    "--------------------\n",
    "Câu 3: Lấy n hàng cuối cùng của dataframe với tổng hàng > 100."
   ]
  },
  {
   "cell_type": "code",
   "execution_count": null,
   "metadata": {},
   "outputs": [],
   "source": [
    "# Lấy hai hàng cuối cùng của df mà có tổng hàng lớn hơn 100.\n",
    "df = pd.DataFrame(np.random.randint(10, 40, 60).reshape(-1, 4))\n",
    "\n",
    "# Tính tổng hàng\n",
    "rowsums = df.apply(np.sum, axis=1)\n",
    "\n",
    "# Nhập code của Anh/Chị bên dưới đây:\n",
    "# Trích ra hai hàng cuối có tổng > 100 từ rowsums\n",
    "last_two_rows = ???\n",
    "\n",
    "last_two_rows\n",
    "\n",
    "# Gợi ý: dùng .iloc[], np.where()"
   ]
  },
  {
   "cell_type": "markdown",
   "metadata": {},
   "source": [
    "--------------------\n",
    "Câu 4: Tạo hàm (function) hoán đổi hai hàng của một dataframe."
   ]
  },
  {
   "cell_type": "code",
   "execution_count": null,
   "metadata": {},
   "outputs": [],
   "source": [
    "# Hoán đổi hàng 1 và 2 trong df dưới đây:\n",
    "df = pd.DataFrame(np.arange(25).reshape(5, -1))\n",
    "print(df)\n",
    "\n",
    "# Nhập code của Anh/Chị bên dưới đây:\n",
    "def swap_rows(df, i1, i2):\n",
    "    a, b = ???\n",
    "    df.iloc[i1, :], df.iloc[i2, :] = ???\n",
    "    return df\n",
    "\n",
    "print(swap_rows(df, 1, 2))\n",
    "\n",
    "# Gợi ý: dùng .iloc[], copy()"
   ]
  },
  {
   "cell_type": "markdown",
   "metadata": {},
   "source": [
    "--------------------\n",
    "Câu 5: Đảo ngược các hàng của một dataframe."
   ]
  },
  {
   "cell_type": "code",
   "execution_count": null,
   "metadata": {},
   "outputs": [],
   "source": [
    "# Đảo ngược tất cả các hàng của df.\n",
    "df = pd.DataFrame(np.arange(25).reshape(5, -1))\n",
    "print(df)\n",
    "\n",
    "# Nhập code của Anh/Chị bên dưới đây:\n",
    "df.???\n",
    "\n",
    "# Gợi ý: có thể có nhiều cách giải"
   ]
  }
 ],
 "metadata": {
  "kernelspec": {
   "display_name": "Python 3",
   "language": "python",
   "name": "python3"
  },
  "language_info": {
   "codemirror_mode": {
    "name": "ipython",
    "version": 3
   },
   "file_extension": ".py",
   "mimetype": "text/x-python",
   "name": "python",
   "nbconvert_exporter": "python",
   "pygments_lexer": "ipython3",
   "version": "3.6.7"
  }
 },
 "nbformat": 4,
 "nbformat_minor": 4
}
