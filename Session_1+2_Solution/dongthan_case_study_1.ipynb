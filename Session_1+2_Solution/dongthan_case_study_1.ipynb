{
 "cells": [
  {
   "cell_type": "code",
   "execution_count": 39,
   "metadata": {
    "collapsed": true,
    "pycharm": {
     "name": "#%%\n"
    }
   },
   "outputs": [
    {
     "name": "stdout",
     "output_type": "stream",
     "text": [
      "Tổng diện tích ngôi nhà là : 54 mét vuông\n",
      "Giá trị ngôi nhà có diện tích 54 mét vuông là: 4725 triệu VND\n"
     ]
    }
   ],
   "source": [
    "# PART 1\n",
    "# Khai bao gia tri dau vao\n",
    "# income = 45 triệu ( giá cho thuê 1 tháng )\n",
    "d,r,m1,income = 10.33 , 5.2674 , 87.5,45\n",
    "\n",
    "# Tính tổng diện tích và làm tròn giá trị\n",
    "s = round(d*r)\n",
    "\n",
    "# In gia tri tong dien tich\n",
    "print('Tổng diện tích ngôi nhà là :',s, 'mét vuông')\n",
    "\n",
    "# In + Tinh gia tri ngoi nha 54 met vuong\n",
    "\n",
    "price = int(s * m1)\n",
    "\n",
    "print('Giá trị ngôi nhà có diện tích',s,'mét vuông là:',price,'triệu VND')\n",
    "\n"
   ]
  },
  {
   "cell_type": "code",
   "execution_count": 40,
   "outputs": [
    {
     "name": "stdout",
     "output_type": "stream",
     "text": [
      "Thời gian thu hồi vốn dự tính là :  9 năm\n"
     ]
    }
   ],
   "source": [
    "# PART 2\n",
    "\n",
    "# Thời gian thu hồi vốn dự tính\n",
    "time = round(price / (income * 12))\n",
    "\n",
    "print('Thời gian thu hồi vốn dự tính là : ',time,'năm')"
   ],
   "metadata": {
    "collapsed": false,
    "pycharm": {
     "name": "#%%\n"
    }
   }
  },
  {
   "cell_type": "code",
   "execution_count": 44,
   "outputs": [
    {
     "name": "stdout",
     "output_type": "stream",
     "text": [
      "Vốn đầu tư  4320\n"
     ]
    }
   ],
   "source": [
    "# Thu nhập mong muốn 1 tháng thu về là 'income2' là 30 triệu\n",
    "\n",
    "income2 = 30\n",
    "m2 = 56.7\n",
    "price2 = (income2 * 12)*12\n",
    "\n",
    "print('Vốn đầu tư ', price2)\n",
    "# Thời gian hoàn vốn dự tính là 12 năm . Như vậy, vốn đầu tư dự tính = 12 x thu nhập ròng trong 1 năm\n"
   ],
   "metadata": {
    "collapsed": false,
    "pycharm": {
     "name": "#%%\n"
    }
   }
  },
  {
   "cell_type": "code",
   "execution_count": 66,
   "outputs": [
    {
     "name": "stdout",
     "output_type": "stream",
     "text": [
      "Giá căn mặt tiền 4375\n",
      "Giá căn trong ngõ 2835\n",
      "Thu nhập 1 năm nhà mặt tiền 365\n",
      "Thu nhập 1 năm nhà trong ngõ 236\n",
      "Nothing\n"
     ]
    }
   ],
   "source": [
    "# PART 3\n",
    "# Giả sử diện tích cả 2 căn nhà 50 mét vuông\n",
    "S2 = 50\n",
    "m1 = 87.5\n",
    "price_new = round(S2 * m1)\n",
    "price2_new = round(S2 * m2)\n",
    "\n",
    "print('Giá căn mặt tiền',price_new)\n",
    "print('Giá căn trong ngõ',price2_new)\n",
    "\n",
    "# Thu nhập ròng 1 năm\n",
    "\n",
    "income_new = round(price_new / 12)\n",
    "income2_new = round(price2_new /12)\n",
    "\n",
    "print('Thu nhập 1 năm nhà mặt tiền',income_new)\n",
    "print('Thu nhập 1 năm nhà trong ngõ',income2_new)\n",
    "\n",
    "ratio = round(income_new / income2_new,1)\n",
    "\n",
    "if ratio > 1.5:\n",
    "    print(\"Thu nhập hằng tháng từ căn nhà 1 \", ratio, \" lần thu nhận từ căn nhà 2\")\n",
    "else:\n",
    "    print('Nothing')"
   ],
   "metadata": {
    "collapsed": false,
    "pycharm": {
     "name": "#%%\n"
    }
   }
  },
  {
   "cell_type": "code",
   "execution_count": 71,
   "outputs": [
    {
     "name": "stdout",
     "output_type": "stream",
     "text": [
      "31\n",
      "{'price1': 93, 'price2': 36.8}\n"
     ]
    }
   ],
   "source": [
    "# PART 4\n",
    "\n",
    "dist_9 = {'price1':31,'price2':36.8}\n",
    "print(dist_9['price1'])\n",
    "dist_9['price1'] = 31 * 3\n",
    "print(dist_9)"
   ],
   "metadata": {
    "collapsed": false,
    "pycharm": {
     "name": "#%%\n"
    }
   }
  }
 ],
 "metadata": {
  "kernelspec": {
   "display_name": "Python 3",
   "language": "python",
   "name": "python3"
  },
  "language_info": {
   "codemirror_mode": {
    "name": "ipython",
    "version": 2
   },
   "file_extension": ".py",
   "mimetype": "text/x-python",
   "name": "python",
   "nbconvert_exporter": "python",
   "pygments_lexer": "ipython2",
   "version": "2.7.6"
  }
 },
 "nbformat": 4,
 "nbformat_minor": 0
}