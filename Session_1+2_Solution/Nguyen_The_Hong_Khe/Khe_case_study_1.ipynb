{
 "cells": [
  {
   "cell_type": "code",
   "execution_count": 5,
   "metadata": {},
   "outputs": [
    {
     "name": "stdout",
     "output_type": "stream",
     "text": [
      "54.41\n"
     ]
    }
   ],
   "source": [
    "d = float(10.33)\n",
    "r = float(5.2674)\n",
    "S = d * r \n",
    "print(round(S,2))"
   ]
  },
  {
   "cell_type": "code",
   "execution_count": 6,
   "metadata": {},
   "outputs": [
    {
     "name": "stdout",
     "output_type": "stream",
     "text": [
      "4761.071175000001\n"
     ]
    }
   ],
   "source": [
    "price = S * 87.5\n",
    "print(price)"
   ]
  },
  {
   "cell_type": "code",
   "execution_count": 7,
   "metadata": {},
   "outputs": [
    {
     "name": "stdout",
     "output_type": "stream",
     "text": [
      "105.80158166666669\n"
     ]
    }
   ],
   "source": [
    "income = 45\n",
    "time = price / income\n",
    "print(time)"
   ]
  },
  {
   "cell_type": "code",
   "execution_count": 9,
   "metadata": {},
   "outputs": [
    {
     "name": "stdout",
     "output_type": "stream",
     "text": [
      "8\n"
     ]
    }
   ],
   "source": [
    "time = int(time/12)\n",
    "print(time)"
   ]
  },
  {
   "cell_type": "code",
   "execution_count": 11,
   "metadata": {},
   "outputs": [
    {
     "name": "stdout",
     "output_type": "stream",
     "text": [
      "144\n"
     ]
    }
   ],
   "source": [
    "income2 = 30\n",
    "time2 = 12*12\n",
    "print(time2)"
   ]
  },
  {
   "cell_type": "code",
   "execution_count": 12,
   "metadata": {},
   "outputs": [
    {
     "name": "stdout",
     "output_type": "stream",
     "text": [
      "4320\n"
     ]
    }
   ],
   "source": [
    "price2 = income2 * time2\n",
    "print(price2)"
   ]
  },
  {
   "cell_type": "code",
   "execution_count": 15,
   "metadata": {},
   "outputs": [
    {
     "name": "stdout",
     "output_type": "stream",
     "text": [
      "4761.07\n",
      "2835.0\n"
     ]
    }
   ],
   "source": [
    "S2 = 50\n",
    "time3 = 12*12\n",
    "price1_new = S * 87.5\n",
    "price2_new = S2 * 56.7\n",
    "print(round(price1_new,2))\n",
    "print (price2_new)"
   ]
  },
  {
   "cell_type": "code",
   "execution_count": 21,
   "metadata": {},
   "outputs": [
    {
     "name": "stdout",
     "output_type": "stream",
     "text": [
      "33.06299427083334\n",
      "19.6875\n"
     ]
    }
   ],
   "source": [
    "income1_new = price1_new / time2\n",
    "income2_new = price2_new / time3\n",
    "print(income1_new)\n",
    "print(income2_new)"
   ]
  },
  {
   "cell_type": "code",
   "execution_count": 23,
   "metadata": {},
   "outputs": [
    {
     "name": "stdout",
     "output_type": "stream",
     "text": [
      "1.68\n"
     ]
    }
   ],
   "source": [
    "ratio = round(income1_new/income2_new,2)\n",
    "print(ratio)"
   ]
  },
  {
   "cell_type": "code",
   "execution_count": 26,
   "metadata": {},
   "outputs": [
    {
     "name": "stdout",
     "output_type": "stream",
     "text": [
      "Thu nhập hằng tháng từ căn nhà 1  1.68  lần thu nhận từ căn nhà 2\n"
     ]
    }
   ],
   "source": [
    "if ratio > 1.5:\n",
    "    print(\"Thu nhập hằng tháng từ căn nhà 1 \", ratio, \" lần thu nhận từ căn nhà 2\")"
   ]
  },
  {
   "cell_type": "code",
   "execution_count": 34,
   "metadata": {},
   "outputs": [
    {
     "name": "stdout",
     "output_type": "stream",
     "text": [
      "36.8\n"
     ]
    }
   ],
   "source": [
    "dist_9 = {\"can_ho\": 31, \"dat_nen\": 36.8}\n",
    "print(dist_9[\"dat_nen\"])"
   ]
  },
  {
   "cell_type": "code",
   "execution_count": 35,
   "metadata": {},
   "outputs": [
    {
     "name": "stdout",
     "output_type": "stream",
     "text": [
      "{'can_ho': 93, 'dat_nen': 36.8}\n"
     ]
    }
   ],
   "source": [
    "dist_9[\"can_ho\"]= dist_9[\"can_ho\"] * 3\n",
    "print(dist_9)"
   ]
  },
  {
   "cell_type": "code",
   "execution_count": null,
   "metadata": {},
   "outputs": [],
   "source": []
  }
 ],
 "metadata": {
  "kernelspec": {
   "display_name": "Python 3",
   "language": "python",
   "name": "python3"
  },
  "language_info": {
   "codemirror_mode": {
    "name": "ipython",
    "version": 3
   },
   "file_extension": ".py",
   "mimetype": "text/x-python",
   "name": "python",
   "nbconvert_exporter": "python",
   "pygments_lexer": "ipython3",
   "version": "3.6.10"
  }
 },
 "nbformat": 4,
 "nbformat_minor": 4
}
